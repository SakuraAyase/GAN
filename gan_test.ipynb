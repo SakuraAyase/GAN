{
 "cells": [
  {
   "cell_type": "code",
   "execution_count": 3,
   "metadata": {
    "collapsed": true
   },
   "outputs": [
    {
     "name": "stdout",
     "output_type": "stream",
     "text": [
      "d\n"
     ]
    }
   ],
   "source": [
    "from keras.layers import *\n",
    "from keras.optimizers import *\n",
    "from keras.datasets import *\n",
    "from keras.utils import *\n",
    "import matplotlib.pyplot as plt\n",
    "import time\n",
    "from keras.models import *\n",
    "from tensorflow.examples.tutorials.mnist import input_data\n",
    "from numpy import *\n",
    "import PIL.Image as pic\n",
    "from os import *\n",
    "import scipy.misc as sp\n",
    "\n",
    "(x_train,y_train),(x_test,y_test)=mnist.load_data()\n",
    "x_train=array(x_train).reshape((60000,784))\n",
    "\n",
    "y_train=to_categorical(y_train,10)\n",
    "y_test=to_categorical(y_test,10)\n",
    "print('d')"
   ]
  },
  {
   "cell_type": "code",
   "execution_count": 13,
   "metadata": {},
   "outputs": [],
   "source": [
    "class ElapsedTimer(object):\n",
    "    def __init__(self):\n",
    "        self.start_time = time.time()\n",
    "    def elapsed(self,sec):\n",
    "        if sec < 60:\n",
    "            return str(sec) + \" sec\"\n",
    "        elif sec < (60 * 60):\n",
    "            return str(sec / 60) + \" min\"\n",
    "        else:\n",
    "            return str(sec / (60 * 60)) + \" hr\"\n",
    "    def elapsed_time(self):\n",
    "        print(\"Elapsed: %s \" % self.elapsed(time.time() - self.start_time) )"
   ]
  },
  {
   "cell_type": "code",
   "execution_count": 18,
   "metadata": {},
   "outputs": [],
   "source": [
    "class DCGAN(object):\n",
    "    def __init__(self,img_row=28,img_col=28,channel=1):\n",
    "        self.img_row=img_row\n",
    "        self.img_col=img_col\n",
    "        self.channel=channel\n",
    "        \n",
    "        self.D=None\n",
    "        self.G=None\n",
    "        self.DM=None\n",
    "        self.AM=None\n",
    "    \n",
    "    def discriminator(self):\n",
    "        if self.D:\n",
    "            return self.D\n",
    "        self.D=Sequential()\n",
    "        depth=64\n",
    "        dropout=0.4\n",
    "        \n",
    "        input_shape=(self.img_row,self.img_col,self.channel)\n",
    "        self.D.add(Conv2D(depth*1,5,strides=2,input_shape=input_shape,padding='same'))\n",
    "        self.D.add(LeakyReLU(0.2))\n",
    "        self.D.add(Dropout(dropout))\n",
    "        \n",
    "        self.D.add(Conv2D(depth*2,5,strides=2,padding='same'))\n",
    "        self.D.add(LeakyReLU(0.2))\n",
    "        self.D.add(Dropout(dropout))\n",
    "        \n",
    "        self.D.add(Conv2D(depth*4,5,strides=2,padding='same'))\n",
    "        self.D.add(LeakyReLU(0.2))\n",
    "        self.D.add(Dropout(dropout))\n",
    "        \n",
    "        self.D.add(Conv2D(depth*8,5,strides=2,padding='same'))\n",
    "        self.D.add(LeakyReLU(0.2))\n",
    "        self.D.add(Dropout(dropout))\n",
    "        \n",
    "        self.D.add(Flatten())\n",
    "        self.D.add(Dense(1,activation='sigmoid'))\n",
    "        self.D.summary()\n",
    "        \n",
    "        return self.D\n",
    "    \n",
    "    def generator(self):\n",
    "        if self.G:\n",
    "            return self.G\n",
    "        self.G=Sequential()\n",
    "        depth=256\n",
    "        dim=7\n",
    "        dropout=0.4\n",
    "        \n",
    "        self.G.add(Dense(depth*dim*dim,input_dim=100))\n",
    "        self.G.add(BatchNormalization(momentum=0.9))\n",
    "        self.G.add(Activation('relu'))\n",
    "        self.G.add(Reshape((dim,dim,depth)))\n",
    "        self.G.add(Dropout(dropout))\n",
    "        \n",
    "        self.G.add(UpSampling2D())\n",
    "        self.G.add(Conv2DTranspose(int(depth/2),5,padding='same'))\n",
    "        self.G.add(BatchNormalization(momentum=0.9))\n",
    "        self.G.add(Activation('relu'))\n",
    "        \n",
    "        self.G.add(UpSampling2D())\n",
    "        self.G.add(Conv2DTranspose(int(depth/4),5,padding='same'))\n",
    "        self.G.add(BatchNormalization(momentum=0.9))\n",
    "        self.G.add(Activation('relu'))\n",
    "        \n",
    "        self.G.add(Conv2DTranspose(int(depth/8),5,padding='same'))\n",
    "        self.G.add(BatchNormalization(momentum=0.9))\n",
    "        self.G.add(Activation('relu'))\n",
    "        \n",
    "        self.G.add(Conv2DTranspose(1,5,padding='same'))\n",
    "        self.G.add(Activation('sigmoid'))\n",
    "        self.G.summary()\n",
    "        \n",
    "        return self.G\n",
    "    \n",
    "    def discriminator_model(self):\n",
    "        if self.DM:\n",
    "            return self.DM\n",
    "        optimizer = RMSprop(lr=0.0002, decay=6e-8)\n",
    "        self.DM = Sequential()\n",
    "        self.DM.add(self.discriminator())\n",
    "        self.DM.compile(loss='binary_crossentropy', optimizer=optimizer,metrics=['accuracy'])\n",
    "        return self.DM\n",
    "    \n",
    "    def adversarial_model(self):\n",
    "        if self.AM:\n",
    "            return self.AM\n",
    "        optimizer=RMSprop(lr=0.0001, decay=3e-8)\n",
    "        self.AM=Sequential()\n",
    "        self.AM.add(self.generator())\n",
    "        self.AM.add(self.discriminator())\n",
    "        self.AM.compile(loss='binary_crossentropy', optimizer=optimizer,metrics=['accuracy'])\n",
    "        return self.AM"
   ]
  },
  {
   "cell_type": "code",
   "execution_count": 20,
   "metadata": {},
   "outputs": [],
   "source": [
    "class MNIST_DCGAN(object):\n",
    "    def __init__(self):\n",
    "        self.img_cols=28\n",
    "        self.img_rows=28\n",
    "        self.channel = 1\n",
    "        \n",
    "        self.x_train=input_data.read_data_sets('mnist',one_hot=True).train.images\n",
    "        self.x_train = self.x_train.reshape(-1, self.img_rows,self.img_cols, 1).astype(np.float32)\n",
    "        \n",
    "        self.DCGAN = DCGAN()\n",
    "        self.discriminator =  self.DCGAN.discriminator_model()\n",
    "        self.adversarial = self.DCGAN.adversarial_model()\n",
    "        self.generator = self.DCGAN.generator()\n",
    "        \n",
    "    def train(self,train_step=1000,batch_size=64,save_interval=0):\n",
    "        noise_input = None\n",
    "        if save_interval>0:\n",
    "            noise_input = np.random.uniform(-1.0, 1.0, size=[16, 100])\n",
    "        for i in range(train_step):\n",
    "            images_train = self.x_train[np.random.randint(0,\n",
    "                self.x_train.shape[0], size=batch_size), :, :, :]\n",
    "\n",
    "            noise = np.random.uniform(-1.0, 1.0, size=[batch_size, 100])\n",
    "            images_fake = self.generator.predict(noise)\n",
    "\n",
    "            x = np.concatenate((images_train, images_fake))\n",
    "            y = np.ones([2*batch_size, 1])\n",
    "            y[batch_size:, :] = 0\n",
    "            d_loss = self.discriminator.train_on_batch(x, y)\n",
    "            \n",
    "            y = np.ones([batch_size, 1])\n",
    "            noise = np.random.uniform(-1.0, 1.0, size=[batch_size, 100])\n",
    "            a_loss = self.adversarial.train_on_batch(noise, y)\n",
    "            \n",
    "            log_mesg = \"%d: [D loss: %f, acc: %f]\" % (i, d_loss[0], d_loss[1])\n",
    "            log_mesg = \"%s  [A loss: %f, acc: %f]\" % (log_mesg, a_loss[0], a_loss[1])\n",
    "            \n",
    "            print(log_mesg)\n",
    "            \n",
    "            if save_interval>0:\n",
    "                if (i+1)%save_interval==0:\n",
    "                    self.plot_images(save2file=True, samples=noise_input.shape[0],noise=noise_input, step=(i+1))\n",
    "                    \n",
    "    def plot_images(self, save2file=False, fake=True, samples=16, noise=None, step=0):\n",
    "        filename = 'C:\\\\Users\\\\myfamily\\\\Desktop\\\\御坂美琴\\\\mnist.png'\n",
    "        if fake:\n",
    "            if noise is None:\n",
    "                noise = np.random.uniform(-1.0, 1.0, size=[samples, 100])\n",
    "            else:\n",
    "                filename = \"C:\\\\Users\\\\myfamily\\\\Desktop\\\\御坂美琴\\\\mnist_%d.png\" % step\n",
    "            images = self.generator.predict(noise)\n",
    "        else:\n",
    "            i = np.random.randint(0, self.x_train.shape[0], samples)\n",
    "            images = self.x_train[i, :, :, :]\n",
    "\n",
    "        plt.figure(figsize=(10,10))\n",
    "        for i in range(images.shape[0]):\n",
    "            plt.subplot(4, 4, i+1)\n",
    "            image = images[i, :, :, :]\n",
    "            image = np.reshape(image, [self.img_rows, self.img_cols])\n",
    "            #print(image)\n",
    "            plt.imshow(image, cmap='gray')\n",
    "            plt.axis('off')\n",
    "        plt.tight_layout()\n",
    "        if save2file:\n",
    "            plt.savefig(filename)\n",
    "            plt.close('all')\n",
    "        else:\n",
    "            plt.show()"
   ]
  },
  {
   "cell_type": "code",
   "execution_count": 21,
   "metadata": {},
   "outputs": [
    {
     "name": "stdout",
     "output_type": "stream",
     "text": [
      "Extracting mnist\\train-images-idx3-ubyte.gz\n"
     ]
    },
    {
     "name": "stdout",
     "output_type": "stream",
     "text": [
      "Extracting mnist\\train-labels-idx1-ubyte.gz\nExtracting mnist\\t10k-images-idx3-ubyte.gz\nExtracting mnist\\t10k-labels-idx1-ubyte.gz\n"
     ]
    },
    {
     "name": "stdout",
     "output_type": "stream",
     "text": [
      "_________________________________________________________________\nLayer (type)                 Output Shape              Param #   \n=================================================================\nconv2d_21 (Conv2D)           (None, 14, 14, 64)        1664      \n_________________________________________________________________\nleaky_re_lu_21 (LeakyReLU)   (None, 14, 14, 64)        0         \n_________________________________________________________________\ndropout_26 (Dropout)         (None, 14, 14, 64)        0         \n_________________________________________________________________\nconv2d_22 (Conv2D)           (None, 7, 7, 128)         204928    \n_________________________________________________________________\nleaky_re_lu_22 (LeakyReLU)   (None, 7, 7, 128)         0         \n_________________________________________________________________\ndropout_27 (Dropout)         (None, 7, 7, 128)         0         \n_________________________________________________________________\nconv2d_23 (Conv2D)           (None, 4, 4, 256)         819456    \n_________________________________________________________________\nleaky_re_lu_23 (LeakyReLU)   (None, 4, 4, 256)         0         \n_________________________________________________________________\ndropout_28 (Dropout)         (None, 4, 4, 256)         0         \n_________________________________________________________________\nconv2d_24 (Conv2D)           (None, 2, 2, 512)         3277312   \n_________________________________________________________________\nleaky_re_lu_24 (LeakyReLU)   (None, 2, 2, 512)         0         \n_________________________________________________________________\ndropout_29 (Dropout)         (None, 2, 2, 512)         0         \n_________________________________________________________________\nflatten_6 (Flatten)          (None, 2048)              0         \n_________________________________________________________________\ndense_11 (Dense)             (None, 1)                 2049      \n=================================================================\nTotal params: 4,305,409\nTrainable params: 4,305,409\nNon-trainable params: 0\n_________________________________________________________________\n"
     ]
    },
    {
     "name": "stdout",
     "output_type": "stream",
     "text": [
      "_________________________________________________________________\nLayer (type)                 Output Shape              Param #   \n=================================================================\ndense_12 (Dense)             (None, 12544)             1266944   \n_________________________________________________________________\nbatch_normalization_20 (Batc (None, 12544)             50176     \n_________________________________________________________________\nactivation_24 (Activation)   (None, 12544)             0         \n_________________________________________________________________\nreshape_6 (Reshape)          (None, 7, 7, 256)         0         \n_________________________________________________________________\ndropout_30 (Dropout)         (None, 7, 7, 256)         0         \n_________________________________________________________________\nup_sampling2d_11 (UpSampling (None, 14, 14, 256)       0         \n_________________________________________________________________\nconv2d_transpose_20 (Conv2DT (None, 14, 14, 128)       819328    \n_________________________________________________________________\nbatch_normalization_21 (Batc (None, 14, 14, 128)       512       \n_________________________________________________________________\nactivation_25 (Activation)   (None, 14, 14, 128)       0         \n_________________________________________________________________\nup_sampling2d_12 (UpSampling (None, 28, 28, 128)       0         \n_________________________________________________________________\nconv2d_transpose_21 (Conv2DT (None, 28, 28, 64)        204864    \n_________________________________________________________________\nbatch_normalization_22 (Batc (None, 28, 28, 64)        256       \n_________________________________________________________________\nactivation_26 (Activation)   (None, 28, 28, 64)        0         \n_________________________________________________________________\nconv2d_transpose_22 (Conv2DT (None, 28, 28, 32)        51232     \n_________________________________________________________________\nbatch_normalization_23 (Batc (None, 28, 28, 32)        128       \n_________________________________________________________________\nactivation_27 (Activation)   (None, 28, 28, 32)        0         \n_________________________________________________________________\nconv2d_transpose_23 (Conv2DT (None, 28, 28, 1)         801       \n_________________________________________________________________\nactivation_28 (Activation)   (None, 28, 28, 1)         0         \n=================================================================\nTotal params: 2,394,241\nTrainable params: 2,368,705\nNon-trainable params: 25,536\n_________________________________________________________________\n"
     ]
    },
    {
     "name": "stdout",
     "output_type": "stream",
     "text": [
      "0: [D loss: 0.692200, acc: 0.525391]  [A loss: 1.749664, acc: 0.000000]\n"
     ]
    },
    {
     "name": "stdout",
     "output_type": "stream",
     "text": [
      "1: [D loss: 0.639647, acc: 0.712891]  [A loss: 4.479067, acc: 0.000000]\n"
     ]
    },
    {
     "name": "stdout",
     "output_type": "stream",
     "text": [
      "2: [D loss: 0.496796, acc: 0.779297]  [A loss: 1.033688, acc: 0.019531]\n"
     ]
    },
    {
     "name": "stdout",
     "output_type": "stream",
     "text": [
      "3: [D loss: 0.956392, acc: 0.500000]  [A loss: 11.928646, acc: 0.000000]\n"
     ]
    },
    {
     "name": "stdout",
     "output_type": "stream",
     "text": [
      "4: [D loss: 0.327823, acc: 0.853516]  [A loss: 0.017988, acc: 1.000000]\n"
     ]
    },
    {
     "name": "stdout",
     "output_type": "stream",
     "text": [
      "5: [D loss: 0.667568, acc: 0.515625]  [A loss: 8.851553, acc: 0.000000]\n"
     ]
    },
    {
     "name": "stdout",
     "output_type": "stream",
     "text": [
      "6: [D loss: 0.138340, acc: 0.970703]  [A loss: 0.022482, acc: 1.000000]\n"
     ]
    },
    {
     "name": "stdout",
     "output_type": "stream",
     "text": [
      "7: [D loss: 0.145979, acc: 0.996094]  [A loss: 0.817384, acc: 0.464844]\n"
     ]
    },
    {
     "name": "stdout",
     "output_type": "stream",
     "text": [
      "8: [D loss: 0.154266, acc: 0.990234]  [A loss: 1.594352, acc: 0.183594]\n"
     ]
    },
    {
     "name": "stdout",
     "output_type": "stream",
     "text": [
      "9: [D loss: 0.222537, acc: 0.955078]  [A loss: 2.626884, acc: 0.046875]\n"
     ]
    },
    {
     "name": "stdout",
     "output_type": "stream",
     "text": [
      "10: [D loss: 0.158589, acc: 0.994141]  [A loss: 0.044211, acc: 0.996094]\n"
     ]
    },
    {
     "name": "stdout",
     "output_type": "stream",
     "text": [
      "11: [D loss: 0.118205, acc: 0.972656]  [A loss: 0.000071, acc: 1.000000]\n"
     ]
    },
    {
     "name": "stdout",
     "output_type": "stream",
     "text": [
      "12: [D loss: 0.105643, acc: 0.994141]  [A loss: 0.002003, acc: 1.000000]\n"
     ]
    },
    {
     "name": "stdout",
     "output_type": "stream",
     "text": [
      "13: [D loss: 0.107776, acc: 0.986328]  [A loss: 0.000214, acc: 1.000000]\n"
     ]
    },
    {
     "name": "stdout",
     "output_type": "stream",
     "text": [
      "14: [D loss: 0.092323, acc: 1.000000]  [A loss: 0.000809, acc: 1.000000]\n"
     ]
    },
    {
     "name": "stdout",
     "output_type": "stream",
     "text": [
      "15: [D loss: 0.082175, acc: 0.994141]  [A loss: 0.000503, acc: 1.000000]\n"
     ]
    },
    {
     "name": "stdout",
     "output_type": "stream",
     "text": [
      "16: [D loss: 0.078573, acc: 0.996094]  [A loss: 0.000669, acc: 1.000000]\n"
     ]
    },
    {
     "name": "stdout",
     "output_type": "stream",
     "text": [
      "17: [D loss: 0.099370, acc: 0.986328]  [A loss: 0.000024, acc: 1.000000]\n"
     ]
    },
    {
     "name": "stdout",
     "output_type": "stream",
     "text": [
      "18: [D loss: 0.079682, acc: 1.000000]  [A loss: 0.000157, acc: 1.000000]\n"
     ]
    },
    {
     "name": "stdout",
     "output_type": "stream",
     "text": [
      "19: [D loss: 0.071087, acc: 0.996094]  [A loss: 0.000047, acc: 1.000000]\n"
     ]
    },
    {
     "name": "stdout",
     "output_type": "stream",
     "text": [
      "20: [D loss: 0.060858, acc: 0.998047]  [A loss: 0.000157, acc: 1.000000]\n"
     ]
    },
    {
     "name": "stdout",
     "output_type": "stream",
     "text": [
      "21: [D loss: 0.077266, acc: 0.992188]  [A loss: 0.000009, acc: 1.000000]\n"
     ]
    },
    {
     "name": "stdout",
     "output_type": "stream",
     "text": [
      "22: [D loss: 0.059924, acc: 0.998047]  [A loss: 0.000044, acc: 1.000000]\n"
     ]
    },
    {
     "name": "stdout",
     "output_type": "stream",
     "text": [
      "23: [D loss: 0.061714, acc: 0.992188]  [A loss: 0.000001, acc: 1.000000]\n"
     ]
    },
    {
     "name": "stdout",
     "output_type": "stream",
     "text": [
      "24: [D loss: 0.052318, acc: 1.000000]  [A loss: 0.000010, acc: 1.000000]\n"
     ]
    },
    {
     "name": "stdout",
     "output_type": "stream",
     "text": [
      "25: [D loss: 0.043475, acc: 0.996094]  [A loss: 0.000013, acc: 1.000000]\n"
     ]
    },
    {
     "name": "stdout",
     "output_type": "stream",
     "text": [
      "26: [D loss: 0.049386, acc: 0.990234]  [A loss: 0.000001, acc: 1.000000]\n"
     ]
    },
    {
     "name": "stdout",
     "output_type": "stream",
     "text": [
      "27: [D loss: 0.039636, acc: 1.000000]  [A loss: 0.000021, acc: 1.000000]\n"
     ]
    },
    {
     "name": "stdout",
     "output_type": "stream",
     "text": [
      "28: [D loss: 0.024900, acc: 1.000000]  [A loss: 0.000067, acc: 1.000000]\n"
     ]
    },
    {
     "name": "stdout",
     "output_type": "stream",
     "text": [
      "29: [D loss: 0.026880, acc: 0.994141]  [A loss: 0.000020, acc: 1.000000]\n"
     ]
    },
    {
     "name": "stdout",
     "output_type": "stream",
     "text": [
      "30: [D loss: 0.024057, acc: 1.000000]  [A loss: 0.000021, acc: 1.000000]\n"
     ]
    },
    {
     "name": "stdout",
     "output_type": "stream",
     "text": [
      "31: [D loss: 0.024659, acc: 0.996094]  [A loss: 0.000000, acc: 1.000000]\n"
     ]
    },
    {
     "name": "stdout",
     "output_type": "stream",
     "text": [
      "32: [D loss: 0.024488, acc: 1.000000]  [A loss: 0.000034, acc: 1.000000]\n"
     ]
    },
    {
     "name": "stdout",
     "output_type": "stream",
     "text": [
      "33: [D loss: 0.028148, acc: 0.994141]  [A loss: 0.000000, acc: 1.000000]\n"
     ]
    },
    {
     "name": "stdout",
     "output_type": "stream",
     "text": [
      "34: [D loss: 0.027096, acc: 1.000000]  [A loss: 0.000539, acc: 1.000000]\n"
     ]
    },
    {
     "name": "stdout",
     "output_type": "stream",
     "text": [
      "35: [D loss: 0.026169, acc: 0.994141]  [A loss: 0.000000, acc: 1.000000]\n"
     ]
    },
    {
     "name": "stdout",
     "output_type": "stream",
     "text": [
      "36: [D loss: 0.026676, acc: 1.000000]  [A loss: 0.016938, acc: 0.996094]\n"
     ]
    },
    {
     "name": "stdout",
     "output_type": "stream",
     "text": [
      "37: [D loss: 0.026426, acc: 0.994141]  [A loss: 0.000001, acc: 1.000000]\n"
     ]
    },
    {
     "name": "stdout",
     "output_type": "stream",
     "text": [
      "38: [D loss: 0.041572, acc: 1.000000]  [A loss: 1.132666, acc: 0.652344]\n"
     ]
    },
    {
     "name": "stdout",
     "output_type": "stream",
     "text": [
      "39: [D loss: 1.081526, acc: 0.558594]  [A loss: 16.118101, acc: 0.000000]\n"
     ]
    },
    {
     "name": "stdout",
     "output_type": "stream",
     "text": [
      "40: [D loss: 7.157274, acc: 0.500000]  [A loss: 0.000000, acc: 1.000000]\n"
     ]
    },
    {
     "name": "stdout",
     "output_type": "stream",
     "text": [
      "41: [D loss: 1.050843, acc: 0.636719]  [A loss: 15.672285, acc: 0.000000]\n"
     ]
    },
    {
     "name": "stdout",
     "output_type": "stream",
     "text": [
      "42: [D loss: 0.374175, acc: 0.851562]  [A loss: 15.824579, acc: 0.000000]\n"
     ]
    },
    {
     "name": "stdout",
     "output_type": "stream",
     "text": [
      "43: [D loss: 0.581505, acc: 0.894531]  [A loss: 0.000000, acc: 1.000000]\n"
     ]
    },
    {
     "name": "stdout",
     "output_type": "stream",
     "text": [
      "44: [D loss: 3.263904, acc: 0.507812]  [A loss: 16.118101, acc: 0.000000]\n"
     ]
    },
    {
     "name": "stdout",
     "output_type": "stream",
     "text": [
      "45: [D loss: 7.812312, acc: 0.500000]  [A loss: 16.075817, acc: 0.000000]\n"
     ]
    },
    {
     "name": "stdout",
     "output_type": "stream",
     "text": [
      "46: [D loss: 3.445564, acc: 0.552734]  [A loss: 0.000000, acc: 1.000000]\n"
     ]
    },
    {
     "name": "stdout",
     "output_type": "stream",
     "text": [
      "47: [D loss: 7.489066, acc: 0.500000]  [A loss: 0.000000, acc: 1.000000]\n"
     ]
    },
    {
     "name": "stdout",
     "output_type": "stream",
     "text": [
      "48: [D loss: 6.947420, acc: 0.501953]  [A loss: 0.033747, acc: 0.988281]\n"
     ]
    },
    {
     "name": "stdout",
     "output_type": "stream",
     "text": [
      "49: [D loss: 3.127448, acc: 0.541016]  [A loss: 16.118101, acc: 0.000000]\n"
     ]
    },
    {
     "name": "stdout",
     "output_type": "stream",
     "text": [
      "50: [D loss: 6.998374, acc: 0.500000]  [A loss: 3.493535, acc: 0.503906]\n"
     ]
    },
    {
     "name": "stdout",
     "output_type": "stream",
     "text": [
      "51: [D loss: 7.890552, acc: 0.500000]  [A loss: 0.000000, acc: 1.000000]\n"
     ]
    },
    {
     "name": "stdout",
     "output_type": "stream",
     "text": [
      "52: [D loss: 7.877960, acc: 0.500000]  [A loss: 0.000000, acc: 1.000000]\n"
     ]
    },
    {
     "name": "stdout",
     "output_type": "stream",
     "text": [
      "53: [D loss: 7.858474, acc: 0.500000]  [A loss: 0.000000, acc: 1.000000]\n"
     ]
    },
    {
     "name": "stdout",
     "output_type": "stream",
     "text": [
      "54: [D loss: 7.944556, acc: 0.498047]  [A loss: 0.000000, acc: 1.000000]\n"
     ]
    },
    {
     "name": "stdout",
     "output_type": "stream",
     "text": [
      "55: [D loss: 7.812624, acc: 0.496094]  [A loss: 0.000000, acc: 1.000000]\n"
     ]
    },
    {
     "name": "stdout",
     "output_type": "stream",
     "text": [
      "56: [D loss: 7.773018, acc: 0.494141]  [A loss: 0.378588, acc: 0.933594]\n"
     ]
    },
    {
     "name": "stdout",
     "output_type": "stream",
     "text": [
      "57: [D loss: 6.763130, acc: 0.500000]  [A loss: 16.118101, acc: 0.000000]\n"
     ]
    },
    {
     "name": "stdout",
     "output_type": "stream",
     "text": [
      "58: [D loss: 6.702490, acc: 0.500000]  [A loss: 0.159627, acc: 0.972656]\n"
     ]
    },
    {
     "name": "stdout",
     "output_type": "stream",
     "text": [
      "59: [D loss: 7.217877, acc: 0.486328]  [A loss: 16.114765, acc: 0.000000]\n"
     ]
    },
    {
     "name": "stdout",
     "output_type": "stream",
     "text": [
      "60: [D loss: 4.345680, acc: 0.533203]  [A loss: 0.000000, acc: 1.000000]\n"
     ]
    },
    {
     "name": "stdout",
     "output_type": "stream",
     "text": [
      "61: [D loss: 7.971386, acc: 0.500000]  [A loss: 0.000000, acc: 1.000000]\n"
     ]
    },
    {
     "name": "stdout",
     "output_type": "stream",
     "text": [
      "62: [D loss: 7.962077, acc: 0.498047]  [A loss: 0.000000, acc: 1.000000]\n"
     ]
    },
    {
     "name": "stdout",
     "output_type": "stream",
     "text": [
      "63: [D loss: 7.959254, acc: 0.500000]  [A loss: 0.000000, acc: 1.000000]\n"
     ]
    },
    {
     "name": "stdout",
     "output_type": "stream",
     "text": [
      "64: [D loss: 7.968693, acc: 0.498047]  [A loss: 0.000000, acc: 1.000000]\n"
     ]
    },
    {
     "name": "stdout",
     "output_type": "stream",
     "text": [
      "65: [D loss: 7.971284, acc: 0.500000]  [A loss: 0.000000, acc: 1.000000]\n"
     ]
    },
    {
     "name": "stdout",
     "output_type": "stream",
     "text": [
      "66: [D loss: 7.983255, acc: 0.496094]  [A loss: 0.000000, acc: 1.000000]\n"
     ]
    },
    {
     "name": "stdout",
     "output_type": "stream",
     "text": [
      "67: [D loss: 7.982001, acc: 0.496094]  [A loss: 0.000000, acc: 1.000000]\n"
     ]
    },
    {
     "name": "stdout",
     "output_type": "stream",
     "text": [
      "68: [D loss: 7.971192, acc: 0.500000]  [A loss: 0.000000, acc: 1.000000]\n"
     ]
    },
    {
     "name": "stdout",
     "output_type": "stream",
     "text": [
      "69: [D loss: 7.972067, acc: 0.500000]  [A loss: 0.000000, acc: 1.000000]\n"
     ]
    },
    {
     "name": "stdout",
     "output_type": "stream",
     "text": [
      "70: [D loss: 7.971193, acc: 0.500000]  [A loss: 0.000000, acc: 1.000000]\n"
     ]
    },
    {
     "name": "stdout",
     "output_type": "stream",
     "text": [
      "71: [D loss: 7.971199, acc: 0.500000]  [A loss: 0.000000, acc: 1.000000]\n"
     ]
    },
    {
     "name": "stdout",
     "output_type": "stream",
     "text": [
      "72: [D loss: 7.973373, acc: 0.498047]  [A loss: 0.000000, acc: 1.000000]\n"
     ]
    },
    {
     "name": "stdout",
     "output_type": "stream",
     "text": [
      "73: [D loss: 7.971486, acc: 0.500000]  [A loss: 0.000000, acc: 1.000000]\n"
     ]
    },
    {
     "name": "stdout",
     "output_type": "stream",
     "text": [
      "74: [D loss: 7.984373, acc: 0.496094]  [A loss: 0.000000, acc: 1.000000]\n"
     ]
    },
    {
     "name": "stdout",
     "output_type": "stream",
     "text": [
      "75: [D loss: 7.971192, acc: 0.500000]  [A loss: 0.000000, acc: 1.000000]\n"
     ]
    },
    {
     "name": "stdout",
     "output_type": "stream",
     "text": [
      "76: [D loss: 7.971195, acc: 0.500000]  [A loss: 0.000000, acc: 1.000000]\n"
     ]
    },
    {
     "name": "stdout",
     "output_type": "stream",
     "text": [
      "77: [D loss: 7.971205, acc: 0.500000]  [A loss: 0.000000, acc: 1.000000]\n"
     ]
    },
    {
     "name": "stdout",
     "output_type": "stream",
     "text": [
      "78: [D loss: 7.978851, acc: 0.498047]  [A loss: 0.000000, acc: 1.000000]\n"
     ]
    },
    {
     "name": "stdout",
     "output_type": "stream",
     "text": [
      "79: [D loss: 7.971194, acc: 0.500000]  [A loss: 0.000000, acc: 1.000000]\n"
     ]
    },
    {
     "name": "stdout",
     "output_type": "stream",
     "text": [
      "80: [D loss: 7.971304, acc: 0.500000]  [A loss: 0.000000, acc: 1.000000]\n"
     ]
    },
    {
     "name": "stdout",
     "output_type": "stream",
     "text": [
      "81: [D loss: 7.971316, acc: 0.500000]  [A loss: 0.000000, acc: 1.000000]\n"
     ]
    },
    {
     "name": "stdout",
     "output_type": "stream",
     "text": [
      "82: [D loss: 7.971262, acc: 0.500000]  [A loss: 0.000000, acc: 1.000000]\n"
     ]
    },
    {
     "name": "stdout",
     "output_type": "stream",
     "text": [
      "83: [D loss: 7.973802, acc: 0.498047]  [A loss: 0.000000, acc: 1.000000]\n"
     ]
    },
    {
     "name": "stdout",
     "output_type": "stream",
     "text": [
      "84: [D loss: 7.971263, acc: 0.500000]  [A loss: 0.000000, acc: 1.000000]\n"
     ]
    },
    {
     "name": "stdout",
     "output_type": "stream",
     "text": [
      "85: [D loss: 7.971192, acc: 0.500000]  [A loss: 0.000000, acc: 1.000000]\n"
     ]
    },
    {
     "name": "stdout",
     "output_type": "stream",
     "text": [
      "86: [D loss: 7.971240, acc: 0.500000]  [A loss: 0.000000, acc: 1.000000]\n"
     ]
    },
    {
     "name": "stdout",
     "output_type": "stream",
     "text": [
      "87: [D loss: 7.971193, acc: 0.500000]  [A loss: 0.000000, acc: 1.000000]\n"
     ]
    },
    {
     "name": "stdout",
     "output_type": "stream",
     "text": [
      "88: [D loss: 7.977072, acc: 0.496094]  [A loss: 0.000000, acc: 1.000000]\n"
     ]
    },
    {
     "name": "stdout",
     "output_type": "stream",
     "text": [
      "89: [D loss: 7.972929, acc: 0.498047]  [A loss: 0.000000, acc: 1.000000]\n"
     ]
    },
    {
     "name": "stdout",
     "output_type": "stream",
     "text": [
      "90: [D loss: 7.971192, acc: 0.500000]  [A loss: 0.000000, acc: 1.000000]\n"
     ]
    },
    {
     "name": "stdout",
     "output_type": "stream",
     "text": [
      "91: [D loss: 7.979753, acc: 0.498047]  [A loss: 0.000000, acc: 1.000000]\n"
     ]
    },
    {
     "name": "stdout",
     "output_type": "stream",
     "text": [
      "92: [D loss: 7.971563, acc: 0.500000]  [A loss: 0.000000, acc: 1.000000]\n"
     ]
    },
    {
     "name": "stdout",
     "output_type": "stream",
     "text": [
      "93: [D loss: 7.971192, acc: 0.500000]  [A loss: 0.000000, acc: 1.000000]\n"
     ]
    },
    {
     "name": "stdout",
     "output_type": "stream",
     "text": [
      "94: [D loss: 7.975284, acc: 0.498047]  [A loss: 0.000000, acc: 1.000000]\n"
     ]
    },
    {
     "name": "stdout",
     "output_type": "stream",
     "text": [
      "95: [D loss: 7.971192, acc: 0.500000]  [A loss: 0.000000, acc: 1.000000]\n"
     ]
    },
    {
     "name": "stdout",
     "output_type": "stream",
     "text": [
      "96: [D loss: 7.971193, acc: 0.500000]  [A loss: 0.000000, acc: 1.000000]\n"
     ]
    },
    {
     "name": "stdout",
     "output_type": "stream",
     "text": [
      "97: [D loss: 7.971192, acc: 0.500000]  [A loss: 0.000000, acc: 1.000000]\n"
     ]
    },
    {
     "name": "stdout",
     "output_type": "stream",
     "text": [
      "98: [D loss: 7.971192, acc: 0.500000]  [A loss: 0.000000, acc: 1.000000]\n"
     ]
    },
    {
     "name": "stdout",
     "output_type": "stream",
     "text": [
      "99: [D loss: 7.971199, acc: 0.500000]  [A loss: 0.000000, acc: 1.000000]\n"
     ]
    },
    {
     "name": "stdout",
     "output_type": "stream",
     "text": [
      "100: [D loss: 7.971199, acc: 0.500000]  [A loss: 0.000000, acc: 1.000000]\n"
     ]
    },
    {
     "name": "stdout",
     "output_type": "stream",
     "text": [
      "101: [D loss: 7.972349, acc: 0.500000]  [A loss: 0.000000, acc: 1.000000]\n"
     ]
    },
    {
     "name": "stdout",
     "output_type": "stream",
     "text": [
      "102: [D loss: 7.971192, acc: 0.500000]  [A loss: 0.000000, acc: 1.000000]\n"
     ]
    },
    {
     "name": "stdout",
     "output_type": "stream",
     "text": [
      "103: [D loss: 7.971433, acc: 0.500000]  [A loss: 0.000000, acc: 1.000000]\n"
     ]
    },
    {
     "name": "stdout",
     "output_type": "stream",
     "text": [
      "104: [D loss: 7.971192, acc: 0.500000]  [A loss: 0.000000, acc: 1.000000]\n"
     ]
    },
    {
     "name": "stdout",
     "output_type": "stream",
     "text": [
      "105: [D loss: 7.971192, acc: 0.500000]  [A loss: 0.000000, acc: 1.000000]\n"
     ]
    },
    {
     "name": "stdout",
     "output_type": "stream",
     "text": [
      "106: [D loss: 7.971194, acc: 0.500000]  [A loss: 0.000000, acc: 1.000000]\n"
     ]
    },
    {
     "name": "stdout",
     "output_type": "stream",
     "text": [
      "107: [D loss: 7.971192, acc: 0.500000]  [A loss: 0.000000, acc: 1.000000]\n"
     ]
    },
    {
     "name": "stdout",
     "output_type": "stream",
     "text": [
      "108: [D loss: 7.971395, acc: 0.500000]  [A loss: 0.000000, acc: 1.000000]\n"
     ]
    },
    {
     "name": "stdout",
     "output_type": "stream",
     "text": [
      "109: [D loss: 7.971192, acc: 0.500000]  [A loss: 0.000000, acc: 1.000000]\n"
     ]
    },
    {
     "name": "stdout",
     "output_type": "stream",
     "text": [
      "110: [D loss: 7.971192, acc: 0.500000]  [A loss: 0.000000, acc: 1.000000]\n"
     ]
    },
    {
     "name": "stdout",
     "output_type": "stream",
     "text": [
      "111: [D loss: 7.971192, acc: 0.500000]  [A loss: 0.000000, acc: 1.000000]\n"
     ]
    },
    {
     "name": "stdout",
     "output_type": "stream",
     "text": [
      "112: [D loss: 7.971192, acc: 0.500000]  [A loss: 0.000000, acc: 1.000000]\n"
     ]
    },
    {
     "name": "stdout",
     "output_type": "stream",
     "text": [
      "113: [D loss: 7.971192, acc: 0.500000]  [A loss: 0.000000, acc: 1.000000]\n"
     ]
    },
    {
     "name": "stdout",
     "output_type": "stream",
     "text": [
      "114: [D loss: 7.971192, acc: 0.500000]  [A loss: 0.000000, acc: 1.000000]\n"
     ]
    },
    {
     "name": "stdout",
     "output_type": "stream",
     "text": [
      "115: [D loss: 7.971195, acc: 0.500000]  [A loss: 0.000000, acc: 1.000000]\n"
     ]
    },
    {
     "name": "stdout",
     "output_type": "stream",
     "text": [
      "116: [D loss: 7.971196, acc: 0.500000]  [A loss: 0.000000, acc: 1.000000]\n"
     ]
    },
    {
     "name": "stdout",
     "output_type": "stream",
     "text": [
      "117: [D loss: 7.971192, acc: 0.500000]  [A loss: 0.000000, acc: 1.000000]\n"
     ]
    },
    {
     "name": "stdout",
     "output_type": "stream",
     "text": [
      "118: [D loss: 7.971192, acc: 0.500000]  [A loss: 0.000000, acc: 1.000000]\n"
     ]
    },
    {
     "name": "stdout",
     "output_type": "stream",
     "text": [
      "119: [D loss: 7.971192, acc: 0.500000]  [A loss: 0.000000, acc: 1.000000]\n"
     ]
    },
    {
     "name": "stdout",
     "output_type": "stream",
     "text": [
      "120: [D loss: 7.971192, acc: 0.500000]  [A loss: 0.000000, acc: 1.000000]\n"
     ]
    },
    {
     "name": "stdout",
     "output_type": "stream",
     "text": [
      "121: [D loss: 7.971192, acc: 0.500000]  [A loss: 0.000000, acc: 1.000000]\n"
     ]
    },
    {
     "name": "stdout",
     "output_type": "stream",
     "text": [
      "122: [D loss: 7.971192, acc: 0.500000]  [A loss: 0.000000, acc: 1.000000]\n"
     ]
    },
    {
     "name": "stdout",
     "output_type": "stream",
     "text": [
      "123: [D loss: 7.971551, acc: 0.500000]  [A loss: 0.000000, acc: 1.000000]\n"
     ]
    },
    {
     "name": "stdout",
     "output_type": "stream",
     "text": [
      "124: [D loss: 7.971192, acc: 0.500000]  [A loss: 0.000000, acc: 1.000000]\n"
     ]
    },
    {
     "name": "stdout",
     "output_type": "stream",
     "text": [
      "125: [D loss: 7.971192, acc: 0.500000]  [A loss: 0.000000, acc: 1.000000]\n"
     ]
    },
    {
     "name": "stdout",
     "output_type": "stream",
     "text": [
      "126: [D loss: 7.971192, acc: 0.500000]  [A loss: 0.000000, acc: 1.000000]\n"
     ]
    },
    {
     "name": "stdout",
     "output_type": "stream",
     "text": [
      "127: [D loss: 7.971192, acc: 0.500000]  [A loss: 0.000000, acc: 1.000000]\n"
     ]
    },
    {
     "name": "stdout",
     "output_type": "stream",
     "text": [
      "128: [D loss: 7.971199, acc: 0.500000]  [A loss: 0.000000, acc: 1.000000]\n"
     ]
    },
    {
     "name": "stdout",
     "output_type": "stream",
     "text": [
      "129: [D loss: 7.971192, acc: 0.500000]  [A loss: 0.000000, acc: 1.000000]\n"
     ]
    },
    {
     "name": "stdout",
     "output_type": "stream",
     "text": [
      "130: [D loss: 7.971192, acc: 0.500000]  [A loss: 0.000000, acc: 1.000000]\n"
     ]
    },
    {
     "name": "stdout",
     "output_type": "stream",
     "text": [
      "131: [D loss: 7.971570, acc: 0.500000]  [A loss: 0.000000, acc: 1.000000]\n"
     ]
    },
    {
     "name": "stdout",
     "output_type": "stream",
     "text": [
      "132: [D loss: 7.971192, acc: 0.500000]  [A loss: 0.000000, acc: 1.000000]\n"
     ]
    },
    {
     "name": "stdout",
     "output_type": "stream",
     "text": [
      "133: [D loss: 7.971192, acc: 0.500000]  [A loss: 0.000000, acc: 1.000000]\n"
     ]
    },
    {
     "name": "stdout",
     "output_type": "stream",
     "text": [
      "134: [D loss: 7.971192, acc: 0.500000]  [A loss: 0.000000, acc: 1.000000]\n"
     ]
    },
    {
     "name": "stdout",
     "output_type": "stream",
     "text": [
      "135: [D loss: 7.971192, acc: 0.500000]  [A loss: 0.000000, acc: 1.000000]\n"
     ]
    },
    {
     "name": "stdout",
     "output_type": "stream",
     "text": [
      "136: [D loss: 7.971192, acc: 0.500000]  [A loss: 0.000000, acc: 1.000000]\n"
     ]
    },
    {
     "name": "stdout",
     "output_type": "stream",
     "text": [
      "137: [D loss: 7.971192, acc: 0.500000]  [A loss: 0.000000, acc: 1.000000]\n"
     ]
    },
    {
     "name": "stdout",
     "output_type": "stream",
     "text": [
      "138: [D loss: 7.971192, acc: 0.500000]  [A loss: 0.000000, acc: 1.000000]\n"
     ]
    },
    {
     "name": "stdout",
     "output_type": "stream",
     "text": [
      "139: [D loss: 7.971192, acc: 0.500000]  [A loss: 0.000000, acc: 1.000000]\n"
     ]
    },
    {
     "name": "stdout",
     "output_type": "stream",
     "text": [
      "140: [D loss: 7.971192, acc: 0.500000]  [A loss: 0.000000, acc: 1.000000]\n"
     ]
    },
    {
     "name": "stdout",
     "output_type": "stream",
     "text": [
      "141: [D loss: 7.971192, acc: 0.500000]  [A loss: 0.000000, acc: 1.000000]\n"
     ]
    },
    {
     "name": "stdout",
     "output_type": "stream",
     "text": [
      "142: [D loss: 7.971194, acc: 0.500000]  [A loss: 0.000000, acc: 1.000000]\n"
     ]
    },
    {
     "name": "stdout",
     "output_type": "stream",
     "text": [
      "143: [D loss: 7.971192, acc: 0.500000]  [A loss: 0.000000, acc: 1.000000]\n"
     ]
    },
    {
     "name": "stdout",
     "output_type": "stream",
     "text": [
      "144: [D loss: 7.971192, acc: 0.500000]  [A loss: 0.000000, acc: 1.000000]\n"
     ]
    },
    {
     "name": "stdout",
     "output_type": "stream",
     "text": [
      "145: [D loss: 7.971192, acc: 0.500000]  [A loss: 0.000000, acc: 1.000000]\n"
     ]
    },
    {
     "name": "stdout",
     "output_type": "stream",
     "text": [
      "146: [D loss: 7.971192, acc: 0.500000]  [A loss: 0.000000, acc: 1.000000]\n"
     ]
    },
    {
     "name": "stdout",
     "output_type": "stream",
     "text": [
      "147: [D loss: 7.971193, acc: 0.500000]  [A loss: 0.000000, acc: 1.000000]\n"
     ]
    },
    {
     "name": "stdout",
     "output_type": "stream",
     "text": [
      "148: [D loss: 7.971198, acc: 0.500000]  [A loss: 0.000000, acc: 1.000000]\n"
     ]
    },
    {
     "name": "stdout",
     "output_type": "stream",
     "text": [
      "149: [D loss: 7.971192, acc: 0.500000]  [A loss: 0.000000, acc: 1.000000]\n"
     ]
    },
    {
     "name": "stdout",
     "output_type": "stream",
     "text": [
      "150: [D loss: 7.971192, acc: 0.500000]  [A loss: 0.000000, acc: 1.000000]\n"
     ]
    },
    {
     "name": "stdout",
     "output_type": "stream",
     "text": [
      "151: [D loss: 7.971192, acc: 0.500000]  [A loss: 0.000000, acc: 1.000000]\n"
     ]
    },
    {
     "name": "stdout",
     "output_type": "stream",
     "text": [
      "152: [D loss: 7.971192, acc: 0.500000]  [A loss: 0.000000, acc: 1.000000]\n"
     ]
    },
    {
     "name": "stdout",
     "output_type": "stream",
     "text": [
      "153: [D loss: 7.971192, acc: 0.500000]  [A loss: 0.000000, acc: 1.000000]\n"
     ]
    },
    {
     "name": "stdout",
     "output_type": "stream",
     "text": [
      "154: [D loss: 7.971192, acc: 0.500000]  [A loss: 0.000000, acc: 1.000000]\n"
     ]
    },
    {
     "name": "stdout",
     "output_type": "stream",
     "text": [
      "155: [D loss: 7.971192, acc: 0.500000]  [A loss: 0.000000, acc: 1.000000]\n"
     ]
    },
    {
     "name": "stdout",
     "output_type": "stream",
     "text": [
      "156: [D loss: 7.971192, acc: 0.500000]  [A loss: 0.000000, acc: 1.000000]\n"
     ]
    },
    {
     "name": "stdout",
     "output_type": "stream",
     "text": [
      "157: [D loss: 7.971193, acc: 0.500000]  [A loss: 0.000000, acc: 1.000000]\n"
     ]
    },
    {
     "name": "stdout",
     "output_type": "stream",
     "text": [
      "158: [D loss: 7.971192, acc: 0.500000]  [A loss: 0.000000, acc: 1.000000]\n"
     ]
    },
    {
     "name": "stdout",
     "output_type": "stream",
     "text": [
      "159: [D loss: 7.971192, acc: 0.500000]  [A loss: 0.000000, acc: 1.000000]\n"
     ]
    },
    {
     "name": "stdout",
     "output_type": "stream",
     "text": [
      "160: [D loss: 7.971192, acc: 0.500000]  [A loss: 0.000000, acc: 1.000000]\n"
     ]
    },
    {
     "name": "stdout",
     "output_type": "stream",
     "text": [
      "161: [D loss: 7.971192, acc: 0.500000]  [A loss: 0.000000, acc: 1.000000]\n"
     ]
    },
    {
     "name": "stdout",
     "output_type": "stream",
     "text": [
      "162: [D loss: 7.971192, acc: 0.500000]  [A loss: 0.000000, acc: 1.000000]\n"
     ]
    },
    {
     "name": "stdout",
     "output_type": "stream",
     "text": [
      "163: [D loss: 7.971192, acc: 0.500000]  [A loss: 0.000000, acc: 1.000000]\n"
     ]
    },
    {
     "name": "stdout",
     "output_type": "stream",
     "text": [
      "164: [D loss: 7.971194, acc: 0.500000]  [A loss: 0.000000, acc: 1.000000]\n"
     ]
    },
    {
     "name": "stdout",
     "output_type": "stream",
     "text": [
      "165: [D loss: 7.971192, acc: 0.500000]  [A loss: 0.000000, acc: 1.000000]\n"
     ]
    },
    {
     "name": "stdout",
     "output_type": "stream",
     "text": [
      "166: [D loss: 7.971192, acc: 0.500000]  [A loss: 0.000000, acc: 1.000000]\n"
     ]
    },
    {
     "name": "stdout",
     "output_type": "stream",
     "text": [
      "167: [D loss: 7.971193, acc: 0.500000]  [A loss: 0.000000, acc: 1.000000]\n"
     ]
    },
    {
     "name": "stdout",
     "output_type": "stream",
     "text": [
      "168: [D loss: 7.971192, acc: 0.500000]  [A loss: 0.000000, acc: 1.000000]\n"
     ]
    },
    {
     "name": "stdout",
     "output_type": "stream",
     "text": [
      "169: [D loss: 7.971192, acc: 0.500000]  [A loss: 0.000000, acc: 1.000000]\n"
     ]
    },
    {
     "name": "stdout",
     "output_type": "stream",
     "text": [
      "170: [D loss: 7.971192, acc: 0.500000]  [A loss: 0.000000, acc: 1.000000]\n"
     ]
    },
    {
     "name": "stdout",
     "output_type": "stream",
     "text": [
      "171: [D loss: 7.971192, acc: 0.500000]  [A loss: 0.000000, acc: 1.000000]\n"
     ]
    },
    {
     "name": "stdout",
     "output_type": "stream",
     "text": [
      "172: [D loss: 7.971192, acc: 0.500000]  [A loss: 0.000000, acc: 1.000000]\n"
     ]
    },
    {
     "name": "stdout",
     "output_type": "stream",
     "text": [
      "173: [D loss: 7.971192, acc: 0.500000]  [A loss: 0.000000, acc: 1.000000]\n"
     ]
    },
    {
     "name": "stdout",
     "output_type": "stream",
     "text": [
      "174: [D loss: 7.971192, acc: 0.500000]  [A loss: 0.000000, acc: 1.000000]\n"
     ]
    },
    {
     "name": "stdout",
     "output_type": "stream",
     "text": [
      "175: [D loss: 7.971195, acc: 0.500000]  [A loss: 0.000000, acc: 1.000000]\n"
     ]
    },
    {
     "name": "stdout",
     "output_type": "stream",
     "text": [
      "176: [D loss: 7.971192, acc: 0.500000]  [A loss: 0.000000, acc: 1.000000]\n"
     ]
    },
    {
     "name": "stdout",
     "output_type": "stream",
     "text": [
      "177: [D loss: 7.971192, acc: 0.500000]  [A loss: 0.000000, acc: 1.000000]\n"
     ]
    },
    {
     "name": "stdout",
     "output_type": "stream",
     "text": [
      "178: [D loss: 7.971212, acc: 0.500000]  [A loss: 0.000000, acc: 1.000000]\n"
     ]
    },
    {
     "name": "stdout",
     "output_type": "stream",
     "text": [
      "179: [D loss: 7.971192, acc: 0.500000]  [A loss: 0.000000, acc: 1.000000]\n"
     ]
    },
    {
     "name": "stdout",
     "output_type": "stream",
     "text": [
      "180: [D loss: 7.971192, acc: 0.500000]  [A loss: 0.000000, acc: 1.000000]\n"
     ]
    },
    {
     "name": "stdout",
     "output_type": "stream",
     "text": [
      "181: [D loss: 7.971192, acc: 0.500000]  [A loss: 0.000000, acc: 1.000000]\n"
     ]
    },
    {
     "name": "stdout",
     "output_type": "stream",
     "text": [
      "182: [D loss: 7.971192, acc: 0.500000]  [A loss: 0.000000, acc: 1.000000]\n"
     ]
    },
    {
     "name": "stdout",
     "output_type": "stream",
     "text": [
      "183: [D loss: 7.971192, acc: 0.500000]  [A loss: 0.000000, acc: 1.000000]\n"
     ]
    },
    {
     "name": "stdout",
     "output_type": "stream",
     "text": [
      "184: [D loss: 7.971192, acc: 0.500000]  [A loss: 0.000000, acc: 1.000000]\n"
     ]
    },
    {
     "name": "stdout",
     "output_type": "stream",
     "text": [
      "185: [D loss: 7.971192, acc: 0.500000]  [A loss: 0.000000, acc: 1.000000]\n"
     ]
    },
    {
     "name": "stdout",
     "output_type": "stream",
     "text": [
      "186: [D loss: 7.971192, acc: 0.500000]  [A loss: 0.000000, acc: 1.000000]\n"
     ]
    },
    {
     "name": "stdout",
     "output_type": "stream",
     "text": [
      "187: [D loss: 7.971192, acc: 0.500000]  [A loss: 0.000000, acc: 1.000000]\n"
     ]
    },
    {
     "name": "stdout",
     "output_type": "stream",
     "text": [
      "188: [D loss: 7.971192, acc: 0.500000]  [A loss: 0.000000, acc: 1.000000]\n"
     ]
    },
    {
     "name": "stdout",
     "output_type": "stream",
     "text": [
      "189: [D loss: 7.971192, acc: 0.500000]  [A loss: 0.000000, acc: 1.000000]\n"
     ]
    },
    {
     "name": "stdout",
     "output_type": "stream",
     "text": [
      "190: [D loss: 7.971192, acc: 0.500000]  [A loss: 0.000000, acc: 1.000000]\n"
     ]
    },
    {
     "name": "stdout",
     "output_type": "stream",
     "text": [
      "191: [D loss: 7.971192, acc: 0.500000]  [A loss: 0.000000, acc: 1.000000]\n"
     ]
    },
    {
     "name": "stdout",
     "output_type": "stream",
     "text": [
      "192: [D loss: 7.971192, acc: 0.500000]  [A loss: 0.000000, acc: 1.000000]\n"
     ]
    },
    {
     "name": "stdout",
     "output_type": "stream",
     "text": [
      "193: [D loss: 7.971192, acc: 0.500000]  [A loss: 0.000000, acc: 1.000000]\n"
     ]
    },
    {
     "name": "stdout",
     "output_type": "stream",
     "text": [
      "194: [D loss: 7.971192, acc: 0.500000]  [A loss: 0.000000, acc: 1.000000]\n"
     ]
    },
    {
     "name": "stdout",
     "output_type": "stream",
     "text": [
      "195: [D loss: 7.971192, acc: 0.500000]  [A loss: 0.000000, acc: 1.000000]\n"
     ]
    },
    {
     "name": "stdout",
     "output_type": "stream",
     "text": [
      "196: [D loss: 7.971192, acc: 0.500000]  [A loss: 0.000000, acc: 1.000000]\n"
     ]
    },
    {
     "name": "stdout",
     "output_type": "stream",
     "text": [
      "197: [D loss: 7.971195, acc: 0.500000]  [A loss: 0.000000, acc: 1.000000]\n"
     ]
    },
    {
     "name": "stdout",
     "output_type": "stream",
     "text": [
      "198: [D loss: 7.971192, acc: 0.500000]  [A loss: 0.000000, acc: 1.000000]\n"
     ]
    },
    {
     "name": "stdout",
     "output_type": "stream",
     "text": [
      "199: [D loss: 7.971210, acc: 0.500000]  [A loss: 0.000000, acc: 1.000000]\n"
     ]
    },
    {
     "name": "stdout",
     "output_type": "stream",
     "text": [
      "200: [D loss: 7.971192, acc: 0.500000]  [A loss: 0.000000, acc: 1.000000]\n"
     ]
    },
    {
     "name": "stdout",
     "output_type": "stream",
     "text": [
      "201: [D loss: 7.971192, acc: 0.500000]  [A loss: 0.000000, acc: 1.000000]\n"
     ]
    },
    {
     "name": "stdout",
     "output_type": "stream",
     "text": [
      "202: [D loss: 7.971192, acc: 0.500000]  [A loss: 0.000000, acc: 1.000000]\n"
     ]
    },
    {
     "name": "stdout",
     "output_type": "stream",
     "text": [
      "203: [D loss: 7.971199, acc: 0.500000]  [A loss: 0.000000, acc: 1.000000]\n"
     ]
    },
    {
     "name": "stdout",
     "output_type": "stream",
     "text": [
      "204: [D loss: 7.971192, acc: 0.500000]  [A loss: 0.000000, acc: 1.000000]\n"
     ]
    },
    {
     "name": "stdout",
     "output_type": "stream",
     "text": [
      "205: [D loss: 7.971192, acc: 0.500000]  [A loss: 0.000000, acc: 1.000000]\n"
     ]
    },
    {
     "name": "stdout",
     "output_type": "stream",
     "text": [
      "206: [D loss: 7.971192, acc: 0.500000]  [A loss: 0.000000, acc: 1.000000]\n"
     ]
    },
    {
     "name": "stdout",
     "output_type": "stream",
     "text": [
      "207: [D loss: 7.971192, acc: 0.500000]  [A loss: 0.000000, acc: 1.000000]\n"
     ]
    },
    {
     "name": "stdout",
     "output_type": "stream",
     "text": [
      "208: [D loss: 7.971192, acc: 0.500000]  [A loss: 0.000000, acc: 1.000000]\n"
     ]
    },
    {
     "name": "stdout",
     "output_type": "stream",
     "text": [
      "209: [D loss: 7.971192, acc: 0.500000]  [A loss: 0.000000, acc: 1.000000]\n"
     ]
    },
    {
     "name": "stdout",
     "output_type": "stream",
     "text": [
      "210: [D loss: 7.971192, acc: 0.500000]  [A loss: 0.000000, acc: 1.000000]\n"
     ]
    },
    {
     "name": "stdout",
     "output_type": "stream",
     "text": [
      "211: [D loss: 7.971192, acc: 0.500000]  [A loss: 0.000000, acc: 1.000000]\n"
     ]
    },
    {
     "name": "stdout",
     "output_type": "stream",
     "text": [
      "212: [D loss: 7.971192, acc: 0.500000]  [A loss: 0.000000, acc: 1.000000]\n"
     ]
    },
    {
     "name": "stdout",
     "output_type": "stream",
     "text": [
      "213: [D loss: 7.971192, acc: 0.500000]  [A loss: 0.000000, acc: 1.000000]\n"
     ]
    },
    {
     "name": "stdout",
     "output_type": "stream",
     "text": [
      "214: [D loss: 7.971192, acc: 0.500000]  [A loss: 0.000000, acc: 1.000000]\n"
     ]
    },
    {
     "name": "stdout",
     "output_type": "stream",
     "text": [
      "215: [D loss: 7.971192, acc: 0.500000]  [A loss: 0.000000, acc: 1.000000]\n"
     ]
    },
    {
     "name": "stdout",
     "output_type": "stream",
     "text": [
      "216: [D loss: 7.971192, acc: 0.500000]  [A loss: 0.000000, acc: 1.000000]\n"
     ]
    },
    {
     "name": "stdout",
     "output_type": "stream",
     "text": [
      "217: [D loss: 7.971192, acc: 0.500000]  [A loss: 0.000000, acc: 1.000000]\n"
     ]
    },
    {
     "name": "stdout",
     "output_type": "stream",
     "text": [
      "218: [D loss: 7.971192, acc: 0.500000]  [A loss: 0.000000, acc: 1.000000]\n"
     ]
    },
    {
     "name": "stdout",
     "output_type": "stream",
     "text": [
      "219: [D loss: 7.971192, acc: 0.500000]  [A loss: 0.000000, acc: 1.000000]\n"
     ]
    },
    {
     "name": "stdout",
     "output_type": "stream",
     "text": [
      "220: [D loss: 7.971192, acc: 0.500000]  [A loss: 0.000000, acc: 1.000000]\n"
     ]
    },
    {
     "name": "stdout",
     "output_type": "stream",
     "text": [
      "221: [D loss: 7.971192, acc: 0.500000]  [A loss: 0.000000, acc: 1.000000]\n"
     ]
    },
    {
     "name": "stdout",
     "output_type": "stream",
     "text": [
      "222: [D loss: 7.971192, acc: 0.500000]  [A loss: 0.000000, acc: 1.000000]\n"
     ]
    },
    {
     "name": "stdout",
     "output_type": "stream",
     "text": [
      "223: [D loss: 7.971192, acc: 0.500000]  [A loss: 0.000000, acc: 1.000000]\n"
     ]
    },
    {
     "name": "stdout",
     "output_type": "stream",
     "text": [
      "224: [D loss: 7.971192, acc: 0.500000]  [A loss: 0.000000, acc: 1.000000]\n"
     ]
    },
    {
     "name": "stdout",
     "output_type": "stream",
     "text": [
      "225: [D loss: 7.971192, acc: 0.500000]  [A loss: 0.000000, acc: 1.000000]\n"
     ]
    },
    {
     "name": "stdout",
     "output_type": "stream",
     "text": [
      "226: [D loss: 7.971192, acc: 0.500000]  [A loss: 0.000000, acc: 1.000000]\n"
     ]
    },
    {
     "name": "stdout",
     "output_type": "stream",
     "text": [
      "227: [D loss: 7.971192, acc: 0.500000]  [A loss: 0.000000, acc: 1.000000]\n"
     ]
    },
    {
     "name": "stdout",
     "output_type": "stream",
     "text": [
      "228: [D loss: 7.971192, acc: 0.500000]  [A loss: 0.000000, acc: 1.000000]\n"
     ]
    },
    {
     "name": "stdout",
     "output_type": "stream",
     "text": [
      "229: [D loss: 7.971192, acc: 0.500000]  [A loss: 0.000000, acc: 1.000000]\n"
     ]
    },
    {
     "name": "stdout",
     "output_type": "stream",
     "text": [
      "230: [D loss: 7.971192, acc: 0.500000]  [A loss: 0.000000, acc: 1.000000]\n"
     ]
    },
    {
     "name": "stdout",
     "output_type": "stream",
     "text": [
      "231: [D loss: 7.971192, acc: 0.500000]  [A loss: 0.000000, acc: 1.000000]\n"
     ]
    },
    {
     "name": "stdout",
     "output_type": "stream",
     "text": [
      "232: [D loss: 7.971192, acc: 0.500000]  [A loss: 0.000000, acc: 1.000000]\n"
     ]
    },
    {
     "name": "stdout",
     "output_type": "stream",
     "text": [
      "233: [D loss: 7.971192, acc: 0.500000]  [A loss: 0.000000, acc: 1.000000]\n"
     ]
    },
    {
     "name": "stdout",
     "output_type": "stream",
     "text": [
      "234: [D loss: 7.971192, acc: 0.500000]  [A loss: 0.000000, acc: 1.000000]\n"
     ]
    },
    {
     "name": "stdout",
     "output_type": "stream",
     "text": [
      "235: [D loss: 7.971192, acc: 0.500000]  [A loss: 0.000000, acc: 1.000000]\n"
     ]
    },
    {
     "name": "stdout",
     "output_type": "stream",
     "text": [
      "236: [D loss: 7.971192, acc: 0.500000]  [A loss: 0.000000, acc: 1.000000]\n"
     ]
    },
    {
     "name": "stdout",
     "output_type": "stream",
     "text": [
      "237: [D loss: 7.971192, acc: 0.500000]  [A loss: 0.000000, acc: 1.000000]\n"
     ]
    },
    {
     "name": "stdout",
     "output_type": "stream",
     "text": [
      "238: [D loss: 7.971192, acc: 0.500000]  [A loss: 0.000000, acc: 1.000000]\n"
     ]
    },
    {
     "name": "stdout",
     "output_type": "stream",
     "text": [
      "239: [D loss: 7.971192, acc: 0.500000]  [A loss: 0.000000, acc: 1.000000]\n"
     ]
    },
    {
     "name": "stdout",
     "output_type": "stream",
     "text": [
      "240: [D loss: 7.971192, acc: 0.500000]  [A loss: 0.000000, acc: 1.000000]\n"
     ]
    },
    {
     "name": "stdout",
     "output_type": "stream",
     "text": [
      "241: [D loss: 7.971192, acc: 0.500000]  [A loss: 0.000000, acc: 1.000000]\n"
     ]
    },
    {
     "name": "stdout",
     "output_type": "stream",
     "text": [
      "242: [D loss: 7.971192, acc: 0.500000]  [A loss: 0.000000, acc: 1.000000]\n"
     ]
    },
    {
     "name": "stdout",
     "output_type": "stream",
     "text": [
      "243: [D loss: 7.971192, acc: 0.500000]  [A loss: 0.000000, acc: 1.000000]\n"
     ]
    },
    {
     "name": "stdout",
     "output_type": "stream",
     "text": [
      "244: [D loss: 7.971192, acc: 0.500000]  [A loss: 0.000000, acc: 1.000000]\n"
     ]
    },
    {
     "name": "stdout",
     "output_type": "stream",
     "text": [
      "245: [D loss: 7.971192, acc: 0.500000]  [A loss: 0.000000, acc: 1.000000]\n"
     ]
    },
    {
     "name": "stdout",
     "output_type": "stream",
     "text": [
      "246: [D loss: 7.971192, acc: 0.500000]  [A loss: 0.000000, acc: 1.000000]\n"
     ]
    },
    {
     "name": "stdout",
     "output_type": "stream",
     "text": [
      "247: [D loss: 7.971192, acc: 0.500000]  [A loss: 0.000000, acc: 1.000000]\n"
     ]
    },
    {
     "name": "stdout",
     "output_type": "stream",
     "text": [
      "248: [D loss: 7.971192, acc: 0.500000]  [A loss: 0.000000, acc: 1.000000]\n"
     ]
    },
    {
     "name": "stdout",
     "output_type": "stream",
     "text": [
      "249: [D loss: 7.971192, acc: 0.500000]  [A loss: 0.000000, acc: 1.000000]\n"
     ]
    },
    {
     "name": "stdout",
     "output_type": "stream",
     "text": [
      "250: [D loss: 7.971192, acc: 0.500000]  [A loss: 0.000000, acc: 1.000000]\n"
     ]
    },
    {
     "name": "stdout",
     "output_type": "stream",
     "text": [
      "251: [D loss: 7.971192, acc: 0.500000]  [A loss: 0.000000, acc: 1.000000]\n"
     ]
    },
    {
     "name": "stdout",
     "output_type": "stream",
     "text": [
      "252: [D loss: 7.971192, acc: 0.500000]  [A loss: 0.000000, acc: 1.000000]\n"
     ]
    },
    {
     "name": "stdout",
     "output_type": "stream",
     "text": [
      "253: [D loss: 7.971192, acc: 0.500000]  [A loss: 0.000000, acc: 1.000000]\n"
     ]
    },
    {
     "name": "stdout",
     "output_type": "stream",
     "text": [
      "254: [D loss: 7.971192, acc: 0.500000]  [A loss: 0.000000, acc: 1.000000]\n"
     ]
    },
    {
     "name": "stdout",
     "output_type": "stream",
     "text": [
      "255: [D loss: 7.971192, acc: 0.500000]  [A loss: 0.000000, acc: 1.000000]\n"
     ]
    },
    {
     "name": "stdout",
     "output_type": "stream",
     "text": [
      "256: [D loss: 7.971192, acc: 0.500000]  [A loss: 0.000000, acc: 1.000000]\n"
     ]
    },
    {
     "name": "stdout",
     "output_type": "stream",
     "text": [
      "257: [D loss: 7.971192, acc: 0.500000]  [A loss: 0.000000, acc: 1.000000]\n"
     ]
    },
    {
     "name": "stdout",
     "output_type": "stream",
     "text": [
      "258: [D loss: 7.971192, acc: 0.500000]  [A loss: 0.000000, acc: 1.000000]\n"
     ]
    },
    {
     "name": "stdout",
     "output_type": "stream",
     "text": [
      "259: [D loss: 7.971192, acc: 0.500000]  [A loss: 0.000000, acc: 1.000000]\n"
     ]
    },
    {
     "name": "stdout",
     "output_type": "stream",
     "text": [
      "260: [D loss: 7.971192, acc: 0.500000]  [A loss: 0.000000, acc: 1.000000]\n"
     ]
    },
    {
     "name": "stdout",
     "output_type": "stream",
     "text": [
      "261: [D loss: 7.971192, acc: 0.500000]  [A loss: 0.000000, acc: 1.000000]\n"
     ]
    },
    {
     "name": "stdout",
     "output_type": "stream",
     "text": [
      "262: [D loss: 7.971192, acc: 0.500000]  [A loss: 0.000000, acc: 1.000000]\n"
     ]
    },
    {
     "name": "stdout",
     "output_type": "stream",
     "text": [
      "263: [D loss: 7.971192, acc: 0.500000]  [A loss: 0.000000, acc: 1.000000]\n"
     ]
    },
    {
     "name": "stdout",
     "output_type": "stream",
     "text": [
      "264: [D loss: 7.971192, acc: 0.500000]  [A loss: 0.000000, acc: 1.000000]\n"
     ]
    },
    {
     "name": "stdout",
     "output_type": "stream",
     "text": [
      "265: [D loss: 7.971192, acc: 0.500000]  [A loss: 0.000000, acc: 1.000000]\n"
     ]
    },
    {
     "name": "stdout",
     "output_type": "stream",
     "text": [
      "266: [D loss: 7.971192, acc: 0.500000]  [A loss: 0.000000, acc: 1.000000]\n"
     ]
    },
    {
     "name": "stdout",
     "output_type": "stream",
     "text": [
      "267: [D loss: 7.971192, acc: 0.500000]  [A loss: 0.000000, acc: 1.000000]\n"
     ]
    },
    {
     "name": "stdout",
     "output_type": "stream",
     "text": [
      "268: [D loss: 7.971192, acc: 0.500000]  [A loss: 0.000000, acc: 1.000000]\n"
     ]
    },
    {
     "name": "stdout",
     "output_type": "stream",
     "text": [
      "269: [D loss: 7.971192, acc: 0.500000]  [A loss: 0.000000, acc: 1.000000]\n"
     ]
    },
    {
     "name": "stdout",
     "output_type": "stream",
     "text": [
      "270: [D loss: 7.971192, acc: 0.500000]  [A loss: 0.000000, acc: 1.000000]\n"
     ]
    },
    {
     "name": "stdout",
     "output_type": "stream",
     "text": [
      "271: [D loss: 7.971192, acc: 0.500000]  [A loss: 0.000000, acc: 1.000000]\n"
     ]
    },
    {
     "name": "stdout",
     "output_type": "stream",
     "text": [
      "272: [D loss: 7.971192, acc: 0.500000]  [A loss: 0.000000, acc: 1.000000]\n"
     ]
    },
    {
     "name": "stdout",
     "output_type": "stream",
     "text": [
      "273: [D loss: 7.971192, acc: 0.500000]  [A loss: 0.000000, acc: 1.000000]\n"
     ]
    },
    {
     "name": "stdout",
     "output_type": "stream",
     "text": [
      "274: [D loss: 7.971192, acc: 0.500000]  [A loss: 0.000000, acc: 1.000000]\n"
     ]
    },
    {
     "name": "stdout",
     "output_type": "stream",
     "text": [
      "275: [D loss: 7.971192, acc: 0.500000]  [A loss: 0.000000, acc: 1.000000]\n"
     ]
    },
    {
     "name": "stdout",
     "output_type": "stream",
     "text": [
      "276: [D loss: 7.971192, acc: 0.500000]  [A loss: 0.000000, acc: 1.000000]\n"
     ]
    },
    {
     "name": "stdout",
     "output_type": "stream",
     "text": [
      "277: [D loss: 7.971192, acc: 0.500000]  [A loss: 0.000000, acc: 1.000000]\n"
     ]
    },
    {
     "name": "stdout",
     "output_type": "stream",
     "text": [
      "278: [D loss: 7.971192, acc: 0.500000]  [A loss: 0.000000, acc: 1.000000]\n"
     ]
    },
    {
     "name": "stdout",
     "output_type": "stream",
     "text": [
      "279: [D loss: 7.971192, acc: 0.500000]  [A loss: 0.000000, acc: 1.000000]\n"
     ]
    },
    {
     "name": "stdout",
     "output_type": "stream",
     "text": [
      "280: [D loss: 7.971192, acc: 0.500000]  [A loss: 0.000000, acc: 1.000000]\n"
     ]
    },
    {
     "name": "stdout",
     "output_type": "stream",
     "text": [
      "281: [D loss: 7.971192, acc: 0.500000]  [A loss: 0.000000, acc: 1.000000]\n"
     ]
    },
    {
     "name": "stdout",
     "output_type": "stream",
     "text": [
      "282: [D loss: 7.971192, acc: 0.500000]  [A loss: 0.000000, acc: 1.000000]\n"
     ]
    },
    {
     "name": "stdout",
     "output_type": "stream",
     "text": [
      "283: [D loss: 7.971192, acc: 0.500000]  [A loss: 0.000000, acc: 1.000000]\n"
     ]
    },
    {
     "name": "stdout",
     "output_type": "stream",
     "text": [
      "284: [D loss: 7.971192, acc: 0.500000]  [A loss: 0.000000, acc: 1.000000]\n"
     ]
    },
    {
     "name": "stdout",
     "output_type": "stream",
     "text": [
      "285: [D loss: 7.971192, acc: 0.500000]  [A loss: 0.000000, acc: 1.000000]\n"
     ]
    },
    {
     "name": "stdout",
     "output_type": "stream",
     "text": [
      "286: [D loss: 7.971192, acc: 0.500000]  [A loss: 0.000000, acc: 1.000000]\n"
     ]
    },
    {
     "name": "stdout",
     "output_type": "stream",
     "text": [
      "287: [D loss: 7.971192, acc: 0.500000]  [A loss: 0.000000, acc: 1.000000]\n"
     ]
    },
    {
     "name": "stdout",
     "output_type": "stream",
     "text": [
      "288: [D loss: 7.971192, acc: 0.500000]  [A loss: 0.000000, acc: 1.000000]\n"
     ]
    },
    {
     "name": "stdout",
     "output_type": "stream",
     "text": [
      "289: [D loss: 7.971192, acc: 0.500000]  [A loss: 0.000000, acc: 1.000000]\n"
     ]
    },
    {
     "name": "stdout",
     "output_type": "stream",
     "text": [
      "290: [D loss: 7.971192, acc: 0.500000]  [A loss: 0.000000, acc: 1.000000]\n"
     ]
    },
    {
     "name": "stdout",
     "output_type": "stream",
     "text": [
      "291: [D loss: 7.971192, acc: 0.500000]  [A loss: 0.000000, acc: 1.000000]\n"
     ]
    },
    {
     "name": "stdout",
     "output_type": "stream",
     "text": [
      "292: [D loss: 7.971192, acc: 0.500000]  [A loss: 0.000000, acc: 1.000000]\n"
     ]
    },
    {
     "name": "stdout",
     "output_type": "stream",
     "text": [
      "293: [D loss: 7.971192, acc: 0.500000]  [A loss: 0.000000, acc: 1.000000]\n"
     ]
    },
    {
     "name": "stdout",
     "output_type": "stream",
     "text": [
      "294: [D loss: 7.971192, acc: 0.500000]  [A loss: 0.000000, acc: 1.000000]\n"
     ]
    },
    {
     "name": "stdout",
     "output_type": "stream",
     "text": [
      "295: [D loss: 7.971192, acc: 0.500000]  [A loss: 0.000000, acc: 1.000000]\n"
     ]
    },
    {
     "name": "stdout",
     "output_type": "stream",
     "text": [
      "296: [D loss: 7.971192, acc: 0.500000]  [A loss: 0.000000, acc: 1.000000]\n"
     ]
    },
    {
     "name": "stdout",
     "output_type": "stream",
     "text": [
      "297: [D loss: 7.971192, acc: 0.500000]  [A loss: 0.000000, acc: 1.000000]\n"
     ]
    },
    {
     "name": "stdout",
     "output_type": "stream",
     "text": [
      "298: [D loss: 7.971192, acc: 0.500000]  [A loss: 0.000000, acc: 1.000000]\n"
     ]
    },
    {
     "name": "stdout",
     "output_type": "stream",
     "text": [
      "299: [D loss: 7.971192, acc: 0.500000]  [A loss: 0.000000, acc: 1.000000]\n"
     ]
    },
    {
     "name": "stdout",
     "output_type": "stream",
     "text": [
      "300: [D loss: 7.971192, acc: 0.500000]  [A loss: 0.000000, acc: 1.000000]\n"
     ]
    },
    {
     "name": "stdout",
     "output_type": "stream",
     "text": [
      "301: [D loss: 7.971192, acc: 0.500000]  [A loss: 0.000000, acc: 1.000000]\n"
     ]
    },
    {
     "name": "stdout",
     "output_type": "stream",
     "text": [
      "302: [D loss: 7.971192, acc: 0.500000]  [A loss: 0.000000, acc: 1.000000]\n"
     ]
    },
    {
     "name": "stdout",
     "output_type": "stream",
     "text": [
      "303: [D loss: 7.971192, acc: 0.500000]  [A loss: 0.000000, acc: 1.000000]\n"
     ]
    },
    {
     "name": "stdout",
     "output_type": "stream",
     "text": [
      "304: [D loss: 7.971192, acc: 0.500000]  [A loss: 0.000000, acc: 1.000000]\n"
     ]
    },
    {
     "name": "stdout",
     "output_type": "stream",
     "text": [
      "305: [D loss: 7.971192, acc: 0.500000]  [A loss: 0.000000, acc: 1.000000]\n"
     ]
    },
    {
     "name": "stdout",
     "output_type": "stream",
     "text": [
      "306: [D loss: 7.971192, acc: 0.500000]  [A loss: 0.000000, acc: 1.000000]\n"
     ]
    },
    {
     "name": "stdout",
     "output_type": "stream",
     "text": [
      "307: [D loss: 7.971192, acc: 0.500000]  [A loss: 0.000000, acc: 1.000000]\n"
     ]
    },
    {
     "name": "stdout",
     "output_type": "stream",
     "text": [
      "308: [D loss: 7.971192, acc: 0.500000]  [A loss: 0.000000, acc: 1.000000]\n"
     ]
    },
    {
     "name": "stdout",
     "output_type": "stream",
     "text": [
      "309: [D loss: 7.971192, acc: 0.500000]  [A loss: 0.000000, acc: 1.000000]\n"
     ]
    },
    {
     "name": "stdout",
     "output_type": "stream",
     "text": [
      "310: [D loss: 7.971192, acc: 0.500000]  [A loss: 0.000000, acc: 1.000000]\n"
     ]
    },
    {
     "name": "stdout",
     "output_type": "stream",
     "text": [
      "311: [D loss: 7.971192, acc: 0.500000]  [A loss: 0.000000, acc: 1.000000]\n"
     ]
    },
    {
     "name": "stdout",
     "output_type": "stream",
     "text": [
      "312: [D loss: 7.971193, acc: 0.500000]  [A loss: 0.000000, acc: 1.000000]\n"
     ]
    },
    {
     "name": "stdout",
     "output_type": "stream",
     "text": [
      "313: [D loss: 7.971192, acc: 0.500000]  [A loss: 0.000000, acc: 1.000000]\n"
     ]
    },
    {
     "name": "stdout",
     "output_type": "stream",
     "text": [
      "314: [D loss: 7.971192, acc: 0.500000]  [A loss: 0.000000, acc: 1.000000]\n"
     ]
    },
    {
     "name": "stdout",
     "output_type": "stream",
     "text": [
      "315: [D loss: 7.971192, acc: 0.500000]  [A loss: 0.000000, acc: 1.000000]\n"
     ]
    },
    {
     "name": "stdout",
     "output_type": "stream",
     "text": [
      "316: [D loss: 7.971192, acc: 0.500000]  [A loss: 0.000000, acc: 1.000000]\n"
     ]
    },
    {
     "name": "stdout",
     "output_type": "stream",
     "text": [
      "317: [D loss: 7.971192, acc: 0.500000]  [A loss: 0.000000, acc: 1.000000]\n"
     ]
    },
    {
     "name": "stdout",
     "output_type": "stream",
     "text": [
      "318: [D loss: 7.971192, acc: 0.500000]  [A loss: 0.000000, acc: 1.000000]\n"
     ]
    },
    {
     "name": "stdout",
     "output_type": "stream",
     "text": [
      "319: [D loss: 7.971192, acc: 0.500000]  [A loss: 0.000000, acc: 1.000000]\n"
     ]
    },
    {
     "name": "stdout",
     "output_type": "stream",
     "text": [
      "320: [D loss: 7.971192, acc: 0.500000]  [A loss: 0.000000, acc: 1.000000]\n"
     ]
    },
    {
     "name": "stdout",
     "output_type": "stream",
     "text": [
      "321: [D loss: 7.971192, acc: 0.500000]  [A loss: 0.000000, acc: 1.000000]\n"
     ]
    },
    {
     "name": "stdout",
     "output_type": "stream",
     "text": [
      "322: [D loss: 7.971192, acc: 0.500000]  [A loss: 0.000000, acc: 1.000000]\n"
     ]
    },
    {
     "name": "stdout",
     "output_type": "stream",
     "text": [
      "323: [D loss: 7.971192, acc: 0.500000]  [A loss: 0.000000, acc: 1.000000]\n"
     ]
    },
    {
     "name": "stdout",
     "output_type": "stream",
     "text": [
      "324: [D loss: 7.971192, acc: 0.500000]  [A loss: 0.000000, acc: 1.000000]\n"
     ]
    },
    {
     "name": "stdout",
     "output_type": "stream",
     "text": [
      "325: [D loss: 7.971192, acc: 0.500000]  [A loss: 0.000000, acc: 1.000000]\n"
     ]
    },
    {
     "name": "stdout",
     "output_type": "stream",
     "text": [
      "326: [D loss: 7.971192, acc: 0.500000]  [A loss: 0.000000, acc: 1.000000]\n"
     ]
    },
    {
     "name": "stdout",
     "output_type": "stream",
     "text": [
      "327: [D loss: 7.971192, acc: 0.500000]  [A loss: 0.000000, acc: 1.000000]\n"
     ]
    },
    {
     "name": "stdout",
     "output_type": "stream",
     "text": [
      "328: [D loss: 7.971192, acc: 0.500000]  [A loss: 0.000000, acc: 1.000000]\n"
     ]
    },
    {
     "name": "stdout",
     "output_type": "stream",
     "text": [
      "329: [D loss: 7.971192, acc: 0.500000]  [A loss: 0.000000, acc: 1.000000]\n"
     ]
    },
    {
     "name": "stdout",
     "output_type": "stream",
     "text": [
      "330: [D loss: 7.971192, acc: 0.500000]  [A loss: 0.000000, acc: 1.000000]\n"
     ]
    },
    {
     "name": "stdout",
     "output_type": "stream",
     "text": [
      "331: [D loss: 7.971192, acc: 0.500000]  [A loss: 0.000000, acc: 1.000000]\n"
     ]
    },
    {
     "name": "stdout",
     "output_type": "stream",
     "text": [
      "332: [D loss: 7.971192, acc: 0.500000]  [A loss: 0.000000, acc: 1.000000]\n"
     ]
    },
    {
     "name": "stdout",
     "output_type": "stream",
     "text": [
      "333: [D loss: 7.971192, acc: 0.500000]  [A loss: 0.000000, acc: 1.000000]\n"
     ]
    },
    {
     "name": "stdout",
     "output_type": "stream",
     "text": [
      "334: [D loss: 7.971192, acc: 0.500000]  [A loss: 0.000000, acc: 1.000000]\n"
     ]
    },
    {
     "name": "stdout",
     "output_type": "stream",
     "text": [
      "335: [D loss: 7.971192, acc: 0.500000]  [A loss: 0.000000, acc: 1.000000]\n"
     ]
    },
    {
     "name": "stdout",
     "output_type": "stream",
     "text": [
      "336: [D loss: 7.971192, acc: 0.500000]  [A loss: 0.000000, acc: 1.000000]\n"
     ]
    },
    {
     "name": "stdout",
     "output_type": "stream",
     "text": [
      "337: [D loss: 7.971192, acc: 0.500000]  [A loss: 0.000000, acc: 1.000000]\n"
     ]
    },
    {
     "name": "stdout",
     "output_type": "stream",
     "text": [
      "338: [D loss: 7.971192, acc: 0.500000]  [A loss: 0.000000, acc: 1.000000]\n"
     ]
    },
    {
     "name": "stdout",
     "output_type": "stream",
     "text": [
      "339: [D loss: 7.971192, acc: 0.500000]  [A loss: 0.000000, acc: 1.000000]\n"
     ]
    },
    {
     "name": "stdout",
     "output_type": "stream",
     "text": [
      "340: [D loss: 7.971192, acc: 0.500000]  [A loss: 0.000000, acc: 1.000000]\n"
     ]
    },
    {
     "name": "stdout",
     "output_type": "stream",
     "text": [
      "341: [D loss: 7.971192, acc: 0.500000]  [A loss: 0.000000, acc: 1.000000]\n"
     ]
    },
    {
     "name": "stdout",
     "output_type": "stream",
     "text": [
      "342: [D loss: 7.971192, acc: 0.500000]  [A loss: 0.000000, acc: 1.000000]\n"
     ]
    },
    {
     "name": "stdout",
     "output_type": "stream",
     "text": [
      "343: [D loss: 7.971192, acc: 0.500000]  [A loss: 0.000000, acc: 1.000000]\n"
     ]
    },
    {
     "name": "stdout",
     "output_type": "stream",
     "text": [
      "344: [D loss: 7.971192, acc: 0.500000]  [A loss: 0.000000, acc: 1.000000]\n"
     ]
    },
    {
     "name": "stdout",
     "output_type": "stream",
     "text": [
      "345: [D loss: 7.971192, acc: 0.500000]  [A loss: 0.000000, acc: 1.000000]\n"
     ]
    },
    {
     "name": "stdout",
     "output_type": "stream",
     "text": [
      "346: [D loss: 7.971192, acc: 0.500000]  [A loss: 0.000000, acc: 1.000000]\n"
     ]
    },
    {
     "name": "stdout",
     "output_type": "stream",
     "text": [
      "347: [D loss: 7.971192, acc: 0.500000]  [A loss: 0.000000, acc: 1.000000]\n"
     ]
    },
    {
     "name": "stdout",
     "output_type": "stream",
     "text": [
      "348: [D loss: 7.971192, acc: 0.500000]  [A loss: 0.000000, acc: 1.000000]\n"
     ]
    },
    {
     "name": "stdout",
     "output_type": "stream",
     "text": [
      "349: [D loss: 7.971192, acc: 0.500000]  [A loss: 0.000000, acc: 1.000000]\n"
     ]
    },
    {
     "name": "stdout",
     "output_type": "stream",
     "text": [
      "350: [D loss: 7.971192, acc: 0.500000]  [A loss: 0.000000, acc: 1.000000]\n"
     ]
    },
    {
     "name": "stdout",
     "output_type": "stream",
     "text": [
      "351: [D loss: 7.971192, acc: 0.500000]  [A loss: 0.000000, acc: 1.000000]\n"
     ]
    },
    {
     "name": "stdout",
     "output_type": "stream",
     "text": [
      "352: [D loss: 7.971192, acc: 0.500000]  [A loss: 0.000000, acc: 1.000000]\n"
     ]
    },
    {
     "name": "stdout",
     "output_type": "stream",
     "text": [
      "353: [D loss: 7.971192, acc: 0.500000]  [A loss: 0.000000, acc: 1.000000]\n"
     ]
    },
    {
     "name": "stdout",
     "output_type": "stream",
     "text": [
      "354: [D loss: 7.971192, acc: 0.500000]  [A loss: 0.000000, acc: 1.000000]\n"
     ]
    },
    {
     "name": "stdout",
     "output_type": "stream",
     "text": [
      "355: [D loss: 7.971192, acc: 0.500000]  [A loss: 0.000000, acc: 1.000000]\n"
     ]
    },
    {
     "name": "stdout",
     "output_type": "stream",
     "text": [
      "356: [D loss: 7.971192, acc: 0.500000]  [A loss: 0.000000, acc: 1.000000]\n"
     ]
    },
    {
     "name": "stdout",
     "output_type": "stream",
     "text": [
      "357: [D loss: 7.971192, acc: 0.500000]  [A loss: 0.000000, acc: 1.000000]\n"
     ]
    },
    {
     "name": "stdout",
     "output_type": "stream",
     "text": [
      "358: [D loss: 7.971192, acc: 0.500000]  [A loss: 0.000000, acc: 1.000000]\n"
     ]
    },
    {
     "name": "stdout",
     "output_type": "stream",
     "text": [
      "359: [D loss: 7.971192, acc: 0.500000]  [A loss: 0.000000, acc: 1.000000]\n"
     ]
    },
    {
     "name": "stdout",
     "output_type": "stream",
     "text": [
      "360: [D loss: 7.971192, acc: 0.500000]  [A loss: 0.000000, acc: 1.000000]\n"
     ]
    },
    {
     "name": "stdout",
     "output_type": "stream",
     "text": [
      "361: [D loss: 7.971192, acc: 0.500000]  [A loss: 0.000000, acc: 1.000000]\n"
     ]
    },
    {
     "name": "stdout",
     "output_type": "stream",
     "text": [
      "362: [D loss: 7.971192, acc: 0.500000]  [A loss: 0.000000, acc: 1.000000]\n"
     ]
    },
    {
     "name": "stdout",
     "output_type": "stream",
     "text": [
      "363: [D loss: 7.971192, acc: 0.500000]  [A loss: 0.000000, acc: 1.000000]\n"
     ]
    },
    {
     "name": "stdout",
     "output_type": "stream",
     "text": [
      "364: [D loss: 7.971192, acc: 0.500000]  [A loss: 0.000000, acc: 1.000000]\n"
     ]
    },
    {
     "name": "stdout",
     "output_type": "stream",
     "text": [
      "365: [D loss: 7.971192, acc: 0.500000]  [A loss: 0.000000, acc: 1.000000]\n"
     ]
    },
    {
     "name": "stdout",
     "output_type": "stream",
     "text": [
      "366: [D loss: 7.971192, acc: 0.500000]  [A loss: 0.000000, acc: 1.000000]\n"
     ]
    },
    {
     "name": "stdout",
     "output_type": "stream",
     "text": [
      "367: [D loss: 7.971192, acc: 0.500000]  [A loss: 0.000000, acc: 1.000000]\n"
     ]
    },
    {
     "name": "stdout",
     "output_type": "stream",
     "text": [
      "368: [D loss: 7.971192, acc: 0.500000]  [A loss: 0.000000, acc: 1.000000]\n"
     ]
    },
    {
     "name": "stdout",
     "output_type": "stream",
     "text": [
      "369: [D loss: 7.971192, acc: 0.500000]  [A loss: 0.000000, acc: 1.000000]\n"
     ]
    },
    {
     "name": "stdout",
     "output_type": "stream",
     "text": [
      "370: [D loss: 7.971192, acc: 0.500000]  [A loss: 0.000000, acc: 1.000000]\n"
     ]
    },
    {
     "name": "stdout",
     "output_type": "stream",
     "text": [
      "371: [D loss: 7.971192, acc: 0.500000]  [A loss: 0.000000, acc: 1.000000]\n"
     ]
    },
    {
     "name": "stdout",
     "output_type": "stream",
     "text": [
      "372: [D loss: 7.971192, acc: 0.500000]  [A loss: 0.000000, acc: 1.000000]\n"
     ]
    },
    {
     "name": "stdout",
     "output_type": "stream",
     "text": [
      "373: [D loss: 7.971192, acc: 0.500000]  [A loss: 0.000000, acc: 1.000000]\n"
     ]
    },
    {
     "name": "stdout",
     "output_type": "stream",
     "text": [
      "374: [D loss: 7.971192, acc: 0.500000]  [A loss: 0.000000, acc: 1.000000]\n"
     ]
    },
    {
     "name": "stdout",
     "output_type": "stream",
     "text": [
      "375: [D loss: 7.971192, acc: 0.500000]  [A loss: 0.000000, acc: 1.000000]\n"
     ]
    },
    {
     "name": "stdout",
     "output_type": "stream",
     "text": [
      "376: [D loss: 7.971192, acc: 0.500000]  [A loss: 0.000000, acc: 1.000000]\n"
     ]
    },
    {
     "name": "stdout",
     "output_type": "stream",
     "text": [
      "377: [D loss: 7.971192, acc: 0.500000]  [A loss: 0.000000, acc: 1.000000]\n"
     ]
    },
    {
     "name": "stdout",
     "output_type": "stream",
     "text": [
      "378: [D loss: 7.971192, acc: 0.500000]  [A loss: 0.000000, acc: 1.000000]\n"
     ]
    },
    {
     "name": "stdout",
     "output_type": "stream",
     "text": [
      "379: [D loss: 7.971192, acc: 0.500000]  [A loss: 0.000000, acc: 1.000000]\n"
     ]
    },
    {
     "name": "stdout",
     "output_type": "stream",
     "text": [
      "380: [D loss: 7.971192, acc: 0.500000]  [A loss: 0.000000, acc: 1.000000]\n"
     ]
    },
    {
     "name": "stdout",
     "output_type": "stream",
     "text": [
      "381: [D loss: 7.971192, acc: 0.500000]  [A loss: 0.000000, acc: 1.000000]\n"
     ]
    },
    {
     "name": "stdout",
     "output_type": "stream",
     "text": [
      "382: [D loss: 7.971192, acc: 0.500000]  [A loss: 0.000000, acc: 1.000000]\n"
     ]
    },
    {
     "name": "stdout",
     "output_type": "stream",
     "text": [
      "383: [D loss: 7.971192, acc: 0.500000]  [A loss: 0.000000, acc: 1.000000]\n"
     ]
    },
    {
     "name": "stdout",
     "output_type": "stream",
     "text": [
      "384: [D loss: 7.971192, acc: 0.500000]  [A loss: 0.000000, acc: 1.000000]\n"
     ]
    },
    {
     "name": "stdout",
     "output_type": "stream",
     "text": [
      "385: [D loss: 7.971192, acc: 0.500000]  [A loss: 0.000000, acc: 1.000000]\n"
     ]
    },
    {
     "name": "stdout",
     "output_type": "stream",
     "text": [
      "386: [D loss: 7.971192, acc: 0.500000]  [A loss: 0.000000, acc: 1.000000]\n"
     ]
    },
    {
     "name": "stdout",
     "output_type": "stream",
     "text": [
      "387: [D loss: 7.971192, acc: 0.500000]  [A loss: 0.000000, acc: 1.000000]\n"
     ]
    },
    {
     "name": "stdout",
     "output_type": "stream",
     "text": [
      "388: [D loss: 7.971192, acc: 0.500000]  [A loss: 0.000000, acc: 1.000000]\n"
     ]
    },
    {
     "name": "stdout",
     "output_type": "stream",
     "text": [
      "389: [D loss: 7.971192, acc: 0.500000]  [A loss: 0.000000, acc: 1.000000]\n"
     ]
    },
    {
     "name": "stdout",
     "output_type": "stream",
     "text": [
      "390: [D loss: 7.971192, acc: 0.500000]  [A loss: 0.000000, acc: 1.000000]\n"
     ]
    },
    {
     "name": "stdout",
     "output_type": "stream",
     "text": [
      "391: [D loss: 7.971192, acc: 0.500000]  [A loss: 0.000000, acc: 1.000000]\n"
     ]
    },
    {
     "name": "stdout",
     "output_type": "stream",
     "text": [
      "392: [D loss: 7.971192, acc: 0.500000]  [A loss: 0.000000, acc: 1.000000]\n"
     ]
    },
    {
     "name": "stdout",
     "output_type": "stream",
     "text": [
      "393: [D loss: 7.971192, acc: 0.500000]  [A loss: 0.000000, acc: 1.000000]\n"
     ]
    },
    {
     "name": "stdout",
     "output_type": "stream",
     "text": [
      "394: [D loss: 7.971192, acc: 0.500000]  [A loss: 0.000000, acc: 1.000000]\n"
     ]
    },
    {
     "name": "stdout",
     "output_type": "stream",
     "text": [
      "395: [D loss: 7.971192, acc: 0.500000]  [A loss: 0.000000, acc: 1.000000]\n"
     ]
    },
    {
     "name": "stdout",
     "output_type": "stream",
     "text": [
      "396: [D loss: 7.971192, acc: 0.500000]  [A loss: 0.000000, acc: 1.000000]\n"
     ]
    },
    {
     "name": "stdout",
     "output_type": "stream",
     "text": [
      "397: [D loss: 7.971192, acc: 0.500000]  [A loss: 0.000000, acc: 1.000000]\n"
     ]
    },
    {
     "name": "stdout",
     "output_type": "stream",
     "text": [
      "398: [D loss: 7.971192, acc: 0.500000]  [A loss: 0.000000, acc: 1.000000]\n"
     ]
    },
    {
     "name": "stdout",
     "output_type": "stream",
     "text": [
      "399: [D loss: 7.971192, acc: 0.500000]  [A loss: 0.000000, acc: 1.000000]\n"
     ]
    },
    {
     "name": "stdout",
     "output_type": "stream",
     "text": [
      "400: [D loss: 7.971192, acc: 0.500000]  [A loss: 0.000000, acc: 1.000000]\n"
     ]
    },
    {
     "name": "stdout",
     "output_type": "stream",
     "text": [
      "401: [D loss: 7.971192, acc: 0.500000]  [A loss: 0.000000, acc: 1.000000]\n"
     ]
    },
    {
     "name": "stdout",
     "output_type": "stream",
     "text": [
      "402: [D loss: 7.971192, acc: 0.500000]  [A loss: 0.000000, acc: 1.000000]\n"
     ]
    },
    {
     "name": "stdout",
     "output_type": "stream",
     "text": [
      "403: [D loss: 7.971192, acc: 0.500000]  [A loss: 0.000000, acc: 1.000000]\n"
     ]
    },
    {
     "name": "stdout",
     "output_type": "stream",
     "text": [
      "404: [D loss: 7.971192, acc: 0.500000]  [A loss: 0.000000, acc: 1.000000]\n"
     ]
    },
    {
     "name": "stdout",
     "output_type": "stream",
     "text": [
      "405: [D loss: 7.971192, acc: 0.500000]  [A loss: 0.000000, acc: 1.000000]\n"
     ]
    },
    {
     "name": "stdout",
     "output_type": "stream",
     "text": [
      "406: [D loss: 7.971192, acc: 0.500000]  [A loss: 0.000000, acc: 1.000000]\n"
     ]
    },
    {
     "name": "stdout",
     "output_type": "stream",
     "text": [
      "407: [D loss: 7.971192, acc: 0.500000]  [A loss: 0.000000, acc: 1.000000]\n"
     ]
    },
    {
     "name": "stdout",
     "output_type": "stream",
     "text": [
      "408: [D loss: 7.971192, acc: 0.500000]  [A loss: 0.000000, acc: 1.000000]\n"
     ]
    },
    {
     "name": "stdout",
     "output_type": "stream",
     "text": [
      "409: [D loss: 7.971192, acc: 0.500000]  [A loss: 0.000000, acc: 1.000000]\n"
     ]
    },
    {
     "name": "stdout",
     "output_type": "stream",
     "text": [
      "410: [D loss: 7.971192, acc: 0.500000]  [A loss: 0.000000, acc: 1.000000]\n"
     ]
    },
    {
     "name": "stdout",
     "output_type": "stream",
     "text": [
      "411: [D loss: 7.971192, acc: 0.500000]  [A loss: 0.000000, acc: 1.000000]\n"
     ]
    },
    {
     "name": "stdout",
     "output_type": "stream",
     "text": [
      "412: [D loss: 7.971192, acc: 0.500000]  [A loss: 0.000000, acc: 1.000000]\n"
     ]
    },
    {
     "name": "stdout",
     "output_type": "stream",
     "text": [
      "413: [D loss: 7.971192, acc: 0.500000]  [A loss: 0.000000, acc: 1.000000]\n"
     ]
    },
    {
     "name": "stdout",
     "output_type": "stream",
     "text": [
      "414: [D loss: 7.971192, acc: 0.500000]  [A loss: 0.000000, acc: 1.000000]\n"
     ]
    },
    {
     "name": "stdout",
     "output_type": "stream",
     "text": [
      "415: [D loss: 7.971192, acc: 0.500000]  [A loss: 0.000000, acc: 1.000000]\n"
     ]
    },
    {
     "name": "stdout",
     "output_type": "stream",
     "text": [
      "416: [D loss: 7.971192, acc: 0.500000]  [A loss: 0.000000, acc: 1.000000]\n"
     ]
    },
    {
     "name": "stdout",
     "output_type": "stream",
     "text": [
      "417: [D loss: 7.971192, acc: 0.500000]  [A loss: 0.000000, acc: 1.000000]\n"
     ]
    },
    {
     "name": "stdout",
     "output_type": "stream",
     "text": [
      "418: [D loss: 7.971192, acc: 0.500000]  [A loss: 0.000000, acc: 1.000000]\n"
     ]
    },
    {
     "name": "stdout",
     "output_type": "stream",
     "text": [
      "419: [D loss: 7.971192, acc: 0.500000]  [A loss: 0.000000, acc: 1.000000]\n"
     ]
    },
    {
     "name": "stdout",
     "output_type": "stream",
     "text": [
      "420: [D loss: 7.971192, acc: 0.500000]  [A loss: 0.000000, acc: 1.000000]\n"
     ]
    },
    {
     "name": "stdout",
     "output_type": "stream",
     "text": [
      "421: [D loss: 7.971192, acc: 0.500000]  [A loss: 0.000000, acc: 1.000000]\n"
     ]
    },
    {
     "name": "stdout",
     "output_type": "stream",
     "text": [
      "422: [D loss: 7.971192, acc: 0.500000]  [A loss: 0.000000, acc: 1.000000]\n"
     ]
    },
    {
     "name": "stdout",
     "output_type": "stream",
     "text": [
      "423: [D loss: 7.971192, acc: 0.500000]  [A loss: 0.000000, acc: 1.000000]\n"
     ]
    },
    {
     "name": "stdout",
     "output_type": "stream",
     "text": [
      "424: [D loss: 7.971192, acc: 0.500000]  [A loss: 0.000000, acc: 1.000000]\n"
     ]
    },
    {
     "name": "stdout",
     "output_type": "stream",
     "text": [
      "425: [D loss: 7.971192, acc: 0.500000]  [A loss: 0.000000, acc: 1.000000]\n"
     ]
    },
    {
     "name": "stdout",
     "output_type": "stream",
     "text": [
      "426: [D loss: 7.971192, acc: 0.500000]  [A loss: 0.000000, acc: 1.000000]\n"
     ]
    },
    {
     "name": "stdout",
     "output_type": "stream",
     "text": [
      "427: [D loss: 7.971192, acc: 0.500000]  [A loss: 0.000000, acc: 1.000000]\n"
     ]
    },
    {
     "name": "stdout",
     "output_type": "stream",
     "text": [
      "428: [D loss: 7.971192, acc: 0.500000]  [A loss: 0.000000, acc: 1.000000]\n"
     ]
    },
    {
     "name": "stdout",
     "output_type": "stream",
     "text": [
      "429: [D loss: 7.971192, acc: 0.500000]  [A loss: 0.000000, acc: 1.000000]\n"
     ]
    },
    {
     "name": "stdout",
     "output_type": "stream",
     "text": [
      "430: [D loss: 7.971192, acc: 0.500000]  [A loss: 0.000000, acc: 1.000000]\n"
     ]
    },
    {
     "name": "stdout",
     "output_type": "stream",
     "text": [
      "431: [D loss: 7.971192, acc: 0.500000]  [A loss: 0.000000, acc: 1.000000]\n"
     ]
    },
    {
     "name": "stdout",
     "output_type": "stream",
     "text": [
      "432: [D loss: 7.971192, acc: 0.500000]  [A loss: 0.000000, acc: 1.000000]\n"
     ]
    },
    {
     "name": "stdout",
     "output_type": "stream",
     "text": [
      "433: [D loss: 7.971192, acc: 0.500000]  [A loss: 0.000000, acc: 1.000000]\n"
     ]
    },
    {
     "name": "stdout",
     "output_type": "stream",
     "text": [
      "434: [D loss: 7.971192, acc: 0.500000]  [A loss: 0.000000, acc: 1.000000]\n"
     ]
    },
    {
     "name": "stdout",
     "output_type": "stream",
     "text": [
      "435: [D loss: 7.971192, acc: 0.500000]  [A loss: 0.000000, acc: 1.000000]\n"
     ]
    },
    {
     "name": "stdout",
     "output_type": "stream",
     "text": [
      "436: [D loss: 7.971192, acc: 0.500000]  [A loss: 0.000000, acc: 1.000000]\n"
     ]
    },
    {
     "name": "stdout",
     "output_type": "stream",
     "text": [
      "437: [D loss: 7.971192, acc: 0.500000]  [A loss: 0.000000, acc: 1.000000]\n"
     ]
    },
    {
     "name": "stdout",
     "output_type": "stream",
     "text": [
      "438: [D loss: 7.971192, acc: 0.500000]  [A loss: 0.000000, acc: 1.000000]\n"
     ]
    },
    {
     "name": "stdout",
     "output_type": "stream",
     "text": [
      "439: [D loss: 7.971192, acc: 0.500000]  [A loss: 0.000000, acc: 1.000000]\n"
     ]
    },
    {
     "name": "stdout",
     "output_type": "stream",
     "text": [
      "440: [D loss: 7.971192, acc: 0.500000]  [A loss: 0.000000, acc: 1.000000]\n"
     ]
    },
    {
     "name": "stdout",
     "output_type": "stream",
     "text": [
      "441: [D loss: 7.971192, acc: 0.500000]  [A loss: 0.000000, acc: 1.000000]\n"
     ]
    },
    {
     "name": "stdout",
     "output_type": "stream",
     "text": [
      "442: [D loss: 7.971192, acc: 0.500000]  [A loss: 0.000000, acc: 1.000000]\n"
     ]
    },
    {
     "name": "stdout",
     "output_type": "stream",
     "text": [
      "443: [D loss: 7.971192, acc: 0.500000]  [A loss: 0.000000, acc: 1.000000]\n"
     ]
    },
    {
     "name": "stdout",
     "output_type": "stream",
     "text": [
      "444: [D loss: 7.971192, acc: 0.500000]  [A loss: 0.000000, acc: 1.000000]\n"
     ]
    },
    {
     "name": "stdout",
     "output_type": "stream",
     "text": [
      "445: [D loss: 7.971192, acc: 0.500000]  [A loss: 0.000000, acc: 1.000000]\n"
     ]
    },
    {
     "name": "stdout",
     "output_type": "stream",
     "text": [
      "446: [D loss: 7.971192, acc: 0.500000]  [A loss: 0.000000, acc: 1.000000]\n"
     ]
    },
    {
     "name": "stdout",
     "output_type": "stream",
     "text": [
      "447: [D loss: 7.971192, acc: 0.500000]  [A loss: 0.000000, acc: 1.000000]\n"
     ]
    },
    {
     "name": "stdout",
     "output_type": "stream",
     "text": [
      "448: [D loss: 7.971192, acc: 0.500000]  [A loss: 0.000000, acc: 1.000000]\n"
     ]
    },
    {
     "name": "stdout",
     "output_type": "stream",
     "text": [
      "449: [D loss: 7.971192, acc: 0.500000]  [A loss: 0.000000, acc: 1.000000]\n"
     ]
    },
    {
     "name": "stdout",
     "output_type": "stream",
     "text": [
      "450: [D loss: 7.971192, acc: 0.500000]  [A loss: 0.000000, acc: 1.000000]\n"
     ]
    },
    {
     "name": "stdout",
     "output_type": "stream",
     "text": [
      "451: [D loss: 7.971192, acc: 0.500000]  [A loss: 0.000000, acc: 1.000000]\n"
     ]
    },
    {
     "name": "stdout",
     "output_type": "stream",
     "text": [
      "452: [D loss: 7.971192, acc: 0.500000]  [A loss: 0.000000, acc: 1.000000]\n"
     ]
    },
    {
     "name": "stdout",
     "output_type": "stream",
     "text": [
      "453: [D loss: 7.971192, acc: 0.500000]  [A loss: 0.000000, acc: 1.000000]\n"
     ]
    },
    {
     "name": "stdout",
     "output_type": "stream",
     "text": [
      "454: [D loss: 7.971192, acc: 0.500000]  [A loss: 0.000000, acc: 1.000000]\n"
     ]
    },
    {
     "name": "stdout",
     "output_type": "stream",
     "text": [
      "455: [D loss: 7.971192, acc: 0.500000]  [A loss: 0.000000, acc: 1.000000]\n"
     ]
    },
    {
     "name": "stdout",
     "output_type": "stream",
     "text": [
      "456: [D loss: 7.971192, acc: 0.500000]  [A loss: 0.000000, acc: 1.000000]\n"
     ]
    },
    {
     "name": "stdout",
     "output_type": "stream",
     "text": [
      "457: [D loss: 7.971192, acc: 0.500000]  [A loss: 0.000000, acc: 1.000000]\n"
     ]
    },
    {
     "name": "stdout",
     "output_type": "stream",
     "text": [
      "458: [D loss: 7.971192, acc: 0.500000]  [A loss: 0.000000, acc: 1.000000]\n"
     ]
    },
    {
     "name": "stdout",
     "output_type": "stream",
     "text": [
      "459: [D loss: 7.971192, acc: 0.500000]  [A loss: 0.000000, acc: 1.000000]\n"
     ]
    },
    {
     "name": "stdout",
     "output_type": "stream",
     "text": [
      "460: [D loss: 7.971192, acc: 0.500000]  [A loss: 0.000000, acc: 1.000000]\n"
     ]
    },
    {
     "name": "stdout",
     "output_type": "stream",
     "text": [
      "461: [D loss: 7.971192, acc: 0.500000]  [A loss: 0.000000, acc: 1.000000]\n"
     ]
    },
    {
     "name": "stdout",
     "output_type": "stream",
     "text": [
      "462: [D loss: 7.971192, acc: 0.500000]  [A loss: 0.000000, acc: 1.000000]\n"
     ]
    },
    {
     "name": "stdout",
     "output_type": "stream",
     "text": [
      "463: [D loss: 7.971192, acc: 0.500000]  [A loss: 0.000000, acc: 1.000000]\n"
     ]
    },
    {
     "name": "stdout",
     "output_type": "stream",
     "text": [
      "464: [D loss: 7.971192, acc: 0.500000]  [A loss: 0.000000, acc: 1.000000]\n"
     ]
    },
    {
     "name": "stdout",
     "output_type": "stream",
     "text": [
      "465: [D loss: 7.971192, acc: 0.500000]  [A loss: 0.000000, acc: 1.000000]\n"
     ]
    },
    {
     "name": "stdout",
     "output_type": "stream",
     "text": [
      "466: [D loss: 7.971192, acc: 0.500000]  [A loss: 0.000000, acc: 1.000000]\n"
     ]
    },
    {
     "name": "stdout",
     "output_type": "stream",
     "text": [
      "467: [D loss: 7.971192, acc: 0.500000]  [A loss: 0.000000, acc: 1.000000]\n"
     ]
    },
    {
     "name": "stdout",
     "output_type": "stream",
     "text": [
      "468: [D loss: 7.971192, acc: 0.500000]  [A loss: 0.000000, acc: 1.000000]\n"
     ]
    },
    {
     "name": "stdout",
     "output_type": "stream",
     "text": [
      "469: [D loss: 7.971192, acc: 0.500000]  [A loss: 0.000000, acc: 1.000000]\n"
     ]
    },
    {
     "name": "stdout",
     "output_type": "stream",
     "text": [
      "470: [D loss: 7.971192, acc: 0.500000]  [A loss: 0.000000, acc: 1.000000]\n"
     ]
    },
    {
     "name": "stdout",
     "output_type": "stream",
     "text": [
      "471: [D loss: 7.971192, acc: 0.500000]  [A loss: 0.000000, acc: 1.000000]\n"
     ]
    },
    {
     "name": "stdout",
     "output_type": "stream",
     "text": [
      "472: [D loss: 7.971192, acc: 0.500000]  [A loss: 0.000000, acc: 1.000000]\n"
     ]
    },
    {
     "name": "stdout",
     "output_type": "stream",
     "text": [
      "473: [D loss: 7.971192, acc: 0.500000]  [A loss: 0.000000, acc: 1.000000]\n"
     ]
    },
    {
     "name": "stdout",
     "output_type": "stream",
     "text": [
      "474: [D loss: 7.971192, acc: 0.500000]  [A loss: 0.000000, acc: 1.000000]\n"
     ]
    },
    {
     "name": "stdout",
     "output_type": "stream",
     "text": [
      "475: [D loss: 7.971192, acc: 0.500000]  [A loss: 0.000000, acc: 1.000000]\n"
     ]
    },
    {
     "name": "stdout",
     "output_type": "stream",
     "text": [
      "476: [D loss: 7.971192, acc: 0.500000]  [A loss: 0.000000, acc: 1.000000]\n"
     ]
    },
    {
     "name": "stdout",
     "output_type": "stream",
     "text": [
      "477: [D loss: 7.971192, acc: 0.500000]  [A loss: 0.000000, acc: 1.000000]\n"
     ]
    },
    {
     "name": "stdout",
     "output_type": "stream",
     "text": [
      "478: [D loss: 7.971192, acc: 0.500000]  [A loss: 0.000000, acc: 1.000000]\n"
     ]
    },
    {
     "name": "stdout",
     "output_type": "stream",
     "text": [
      "479: [D loss: 7.971192, acc: 0.500000]  [A loss: 0.000000, acc: 1.000000]\n"
     ]
    },
    {
     "name": "stdout",
     "output_type": "stream",
     "text": [
      "480: [D loss: 7.971192, acc: 0.500000]  [A loss: 0.000000, acc: 1.000000]\n"
     ]
    },
    {
     "name": "stdout",
     "output_type": "stream",
     "text": [
      "481: [D loss: 7.971192, acc: 0.500000]  [A loss: 0.000000, acc: 1.000000]\n"
     ]
    },
    {
     "name": "stdout",
     "output_type": "stream",
     "text": [
      "482: [D loss: 7.971192, acc: 0.500000]  [A loss: 0.000000, acc: 1.000000]\n"
     ]
    },
    {
     "name": "stdout",
     "output_type": "stream",
     "text": [
      "483: [D loss: 7.971192, acc: 0.500000]  [A loss: 0.000000, acc: 1.000000]\n"
     ]
    },
    {
     "name": "stdout",
     "output_type": "stream",
     "text": [
      "484: [D loss: 7.971192, acc: 0.500000]  [A loss: 0.000000, acc: 1.000000]\n"
     ]
    },
    {
     "name": "stdout",
     "output_type": "stream",
     "text": [
      "485: [D loss: 7.971192, acc: 0.500000]  [A loss: 0.000000, acc: 1.000000]\n"
     ]
    },
    {
     "name": "stdout",
     "output_type": "stream",
     "text": [
      "486: [D loss: 7.971192, acc: 0.500000]  [A loss: 0.000000, acc: 1.000000]\n"
     ]
    },
    {
     "name": "stdout",
     "output_type": "stream",
     "text": [
      "487: [D loss: 7.971192, acc: 0.500000]  [A loss: 0.000000, acc: 1.000000]\n"
     ]
    },
    {
     "name": "stdout",
     "output_type": "stream",
     "text": [
      "488: [D loss: 7.971192, acc: 0.500000]  [A loss: 0.000000, acc: 1.000000]\n"
     ]
    },
    {
     "name": "stdout",
     "output_type": "stream",
     "text": [
      "489: [D loss: 7.971192, acc: 0.500000]  [A loss: 0.000000, acc: 1.000000]\n"
     ]
    },
    {
     "name": "stdout",
     "output_type": "stream",
     "text": [
      "490: [D loss: 7.971192, acc: 0.500000]  [A loss: 0.000000, acc: 1.000000]\n"
     ]
    },
    {
     "name": "stdout",
     "output_type": "stream",
     "text": [
      "491: [D loss: 7.971192, acc: 0.500000]  [A loss: 0.000000, acc: 1.000000]\n"
     ]
    },
    {
     "name": "stdout",
     "output_type": "stream",
     "text": [
      "492: [D loss: 7.971192, acc: 0.500000]  [A loss: 0.000000, acc: 1.000000]\n"
     ]
    },
    {
     "name": "stdout",
     "output_type": "stream",
     "text": [
      "493: [D loss: 7.971192, acc: 0.500000]  [A loss: 0.000000, acc: 1.000000]\n"
     ]
    },
    {
     "name": "stdout",
     "output_type": "stream",
     "text": [
      "494: [D loss: 7.971192, acc: 0.500000]  [A loss: 0.000000, acc: 1.000000]\n"
     ]
    },
    {
     "name": "stdout",
     "output_type": "stream",
     "text": [
      "495: [D loss: 7.971192, acc: 0.500000]  [A loss: 0.000000, acc: 1.000000]\n"
     ]
    },
    {
     "name": "stdout",
     "output_type": "stream",
     "text": [
      "496: [D loss: 7.971192, acc: 0.500000]  [A loss: 0.000000, acc: 1.000000]\n"
     ]
    },
    {
     "name": "stdout",
     "output_type": "stream",
     "text": [
      "497: [D loss: 7.971192, acc: 0.500000]  [A loss: 0.000000, acc: 1.000000]\n"
     ]
    },
    {
     "name": "stdout",
     "output_type": "stream",
     "text": [
      "498: [D loss: 7.971192, acc: 0.500000]  [A loss: 0.000000, acc: 1.000000]\n"
     ]
    },
    {
     "name": "stdout",
     "output_type": "stream",
     "text": [
      "499: [D loss: 7.971192, acc: 0.500000]  [A loss: 0.000000, acc: 1.000000]\n"
     ]
    },
    {
     "name": "stdout",
     "output_type": "stream",
     "text": [
      "500: [D loss: 7.971192, acc: 0.500000]  [A loss: 0.000000, acc: 1.000000]\n"
     ]
    },
    {
     "name": "stdout",
     "output_type": "stream",
     "text": [
      "501: [D loss: 7.971192, acc: 0.500000]  [A loss: 0.000000, acc: 1.000000]\n"
     ]
    },
    {
     "name": "stdout",
     "output_type": "stream",
     "text": [
      "502: [D loss: 7.971192, acc: 0.500000]  [A loss: 0.000000, acc: 1.000000]\n"
     ]
    },
    {
     "name": "stdout",
     "output_type": "stream",
     "text": [
      "503: [D loss: 7.971192, acc: 0.500000]  [A loss: 0.000000, acc: 1.000000]\n"
     ]
    },
    {
     "name": "stdout",
     "output_type": "stream",
     "text": [
      "504: [D loss: 7.971192, acc: 0.500000]  [A loss: 0.000000, acc: 1.000000]\n"
     ]
    },
    {
     "name": "stdout",
     "output_type": "stream",
     "text": [
      "505: [D loss: 7.971192, acc: 0.500000]  [A loss: 0.000000, acc: 1.000000]\n"
     ]
    },
    {
     "name": "stdout",
     "output_type": "stream",
     "text": [
      "506: [D loss: 7.971192, acc: 0.500000]  [A loss: 0.000000, acc: 1.000000]\n"
     ]
    },
    {
     "name": "stdout",
     "output_type": "stream",
     "text": [
      "507: [D loss: 7.971192, acc: 0.500000]  [A loss: 0.000000, acc: 1.000000]\n"
     ]
    },
    {
     "name": "stdout",
     "output_type": "stream",
     "text": [
      "508: [D loss: 7.971192, acc: 0.500000]  [A loss: 0.000000, acc: 1.000000]\n"
     ]
    },
    {
     "name": "stdout",
     "output_type": "stream",
     "text": [
      "509: [D loss: 7.971192, acc: 0.500000]  [A loss: 0.000000, acc: 1.000000]\n"
     ]
    },
    {
     "name": "stdout",
     "output_type": "stream",
     "text": [
      "510: [D loss: 7.971192, acc: 0.500000]  [A loss: 0.000000, acc: 1.000000]\n"
     ]
    },
    {
     "name": "stdout",
     "output_type": "stream",
     "text": [
      "511: [D loss: 7.971192, acc: 0.500000]  [A loss: 0.000000, acc: 1.000000]\n"
     ]
    },
    {
     "name": "stdout",
     "output_type": "stream",
     "text": [
      "512: [D loss: 7.971192, acc: 0.500000]  [A loss: 0.000000, acc: 1.000000]\n"
     ]
    },
    {
     "name": "stdout",
     "output_type": "stream",
     "text": [
      "513: [D loss: 7.971192, acc: 0.500000]  [A loss: 0.000000, acc: 1.000000]\n"
     ]
    },
    {
     "name": "stdout",
     "output_type": "stream",
     "text": [
      "514: [D loss: 7.971192, acc: 0.500000]  [A loss: 0.000000, acc: 1.000000]\n"
     ]
    },
    {
     "name": "stdout",
     "output_type": "stream",
     "text": [
      "515: [D loss: 7.971192, acc: 0.500000]  [A loss: 0.000000, acc: 1.000000]\n"
     ]
    },
    {
     "name": "stdout",
     "output_type": "stream",
     "text": [
      "516: [D loss: 7.971192, acc: 0.500000]  [A loss: 0.000000, acc: 1.000000]\n"
     ]
    },
    {
     "name": "stdout",
     "output_type": "stream",
     "text": [
      "517: [D loss: 7.971192, acc: 0.500000]  [A loss: 0.000000, acc: 1.000000]\n"
     ]
    },
    {
     "name": "stdout",
     "output_type": "stream",
     "text": [
      "518: [D loss: 7.971192, acc: 0.500000]  [A loss: 0.000000, acc: 1.000000]\n"
     ]
    },
    {
     "name": "stdout",
     "output_type": "stream",
     "text": [
      "519: [D loss: 7.971192, acc: 0.500000]  [A loss: 0.000000, acc: 1.000000]\n"
     ]
    },
    {
     "name": "stdout",
     "output_type": "stream",
     "text": [
      "520: [D loss: 7.971192, acc: 0.500000]  [A loss: 0.000000, acc: 1.000000]\n"
     ]
    },
    {
     "name": "stdout",
     "output_type": "stream",
     "text": [
      "521: [D loss: 7.971192, acc: 0.500000]  [A loss: 0.000000, acc: 1.000000]\n"
     ]
    },
    {
     "name": "stdout",
     "output_type": "stream",
     "text": [
      "522: [D loss: 7.971192, acc: 0.500000]  [A loss: 0.000000, acc: 1.000000]\n"
     ]
    },
    {
     "name": "stdout",
     "output_type": "stream",
     "text": [
      "523: [D loss: 7.971192, acc: 0.500000]  [A loss: 0.000000, acc: 1.000000]\n"
     ]
    },
    {
     "name": "stdout",
     "output_type": "stream",
     "text": [
      "524: [D loss: 7.971192, acc: 0.500000]  [A loss: 0.000000, acc: 1.000000]\n"
     ]
    },
    {
     "name": "stdout",
     "output_type": "stream",
     "text": [
      "525: [D loss: 7.971192, acc: 0.500000]  [A loss: 0.000000, acc: 1.000000]\n"
     ]
    },
    {
     "name": "stdout",
     "output_type": "stream",
     "text": [
      "526: [D loss: 7.971192, acc: 0.500000]  [A loss: 0.000000, acc: 1.000000]\n"
     ]
    },
    {
     "name": "stdout",
     "output_type": "stream",
     "text": [
      "527: [D loss: 7.971192, acc: 0.500000]  [A loss: 0.000000, acc: 1.000000]\n"
     ]
    },
    {
     "name": "stdout",
     "output_type": "stream",
     "text": [
      "528: [D loss: 7.971192, acc: 0.500000]  [A loss: 0.000000, acc: 1.000000]\n"
     ]
    },
    {
     "name": "stdout",
     "output_type": "stream",
     "text": [
      "529: [D loss: 7.971192, acc: 0.500000]  [A loss: 0.000000, acc: 1.000000]\n"
     ]
    },
    {
     "name": "stdout",
     "output_type": "stream",
     "text": [
      "530: [D loss: 7.971192, acc: 0.500000]  [A loss: 0.000000, acc: 1.000000]\n"
     ]
    },
    {
     "name": "stdout",
     "output_type": "stream",
     "text": [
      "531: [D loss: 7.971192, acc: 0.500000]  [A loss: 0.000000, acc: 1.000000]\n"
     ]
    },
    {
     "name": "stdout",
     "output_type": "stream",
     "text": [
      "532: [D loss: 7.971192, acc: 0.500000]  [A loss: 0.000000, acc: 1.000000]\n"
     ]
    },
    {
     "name": "stdout",
     "output_type": "stream",
     "text": [
      "533: [D loss: 7.971192, acc: 0.500000]  [A loss: 0.000000, acc: 1.000000]\n"
     ]
    },
    {
     "name": "stdout",
     "output_type": "stream",
     "text": [
      "534: [D loss: 7.971192, acc: 0.500000]  [A loss: 0.000000, acc: 1.000000]\n"
     ]
    },
    {
     "name": "stdout",
     "output_type": "stream",
     "text": [
      "535: [D loss: 7.971192, acc: 0.500000]  [A loss: 0.000000, acc: 1.000000]\n"
     ]
    },
    {
     "name": "stdout",
     "output_type": "stream",
     "text": [
      "536: [D loss: 7.971192, acc: 0.500000]  [A loss: 0.000000, acc: 1.000000]\n"
     ]
    },
    {
     "name": "stdout",
     "output_type": "stream",
     "text": [
      "537: [D loss: 7.971192, acc: 0.500000]  [A loss: 0.000000, acc: 1.000000]\n"
     ]
    },
    {
     "name": "stdout",
     "output_type": "stream",
     "text": [
      "538: [D loss: 7.971192, acc: 0.500000]  [A loss: 0.000000, acc: 1.000000]\n"
     ]
    },
    {
     "name": "stdout",
     "output_type": "stream",
     "text": [
      "539: [D loss: 7.971192, acc: 0.500000]  [A loss: 0.000000, acc: 1.000000]\n"
     ]
    },
    {
     "name": "stdout",
     "output_type": "stream",
     "text": [
      "540: [D loss: 7.971192, acc: 0.500000]  [A loss: 0.000000, acc: 1.000000]\n"
     ]
    },
    {
     "name": "stdout",
     "output_type": "stream",
     "text": [
      "541: [D loss: 7.971192, acc: 0.500000]  [A loss: 0.000000, acc: 1.000000]\n"
     ]
    },
    {
     "name": "stdout",
     "output_type": "stream",
     "text": [
      "542: [D loss: 7.971192, acc: 0.500000]  [A loss: 0.000000, acc: 1.000000]\n"
     ]
    },
    {
     "name": "stdout",
     "output_type": "stream",
     "text": [
      "543: [D loss: 7.971192, acc: 0.500000]  [A loss: 0.000000, acc: 1.000000]\n"
     ]
    },
    {
     "name": "stdout",
     "output_type": "stream",
     "text": [
      "544: [D loss: 7.971192, acc: 0.500000]  [A loss: 0.000000, acc: 1.000000]\n"
     ]
    },
    {
     "name": "stdout",
     "output_type": "stream",
     "text": [
      "545: [D loss: 7.971192, acc: 0.500000]  [A loss: 0.000000, acc: 1.000000]\n"
     ]
    },
    {
     "name": "stdout",
     "output_type": "stream",
     "text": [
      "546: [D loss: 7.971192, acc: 0.500000]  [A loss: 0.000000, acc: 1.000000]\n"
     ]
    },
    {
     "name": "stdout",
     "output_type": "stream",
     "text": [
      "547: [D loss: 7.971192, acc: 0.500000]  [A loss: 0.000000, acc: 1.000000]\n"
     ]
    },
    {
     "name": "stdout",
     "output_type": "stream",
     "text": [
      "548: [D loss: 7.971192, acc: 0.500000]  [A loss: 0.000000, acc: 1.000000]\n"
     ]
    },
    {
     "name": "stdout",
     "output_type": "stream",
     "text": [
      "549: [D loss: 7.971192, acc: 0.500000]  [A loss: 0.000000, acc: 1.000000]\n"
     ]
    },
    {
     "name": "stdout",
     "output_type": "stream",
     "text": [
      "550: [D loss: 7.971192, acc: 0.500000]  [A loss: 0.000000, acc: 1.000000]\n"
     ]
    },
    {
     "name": "stdout",
     "output_type": "stream",
     "text": [
      "551: [D loss: 7.971192, acc: 0.500000]  [A loss: 0.000000, acc: 1.000000]\n"
     ]
    },
    {
     "name": "stdout",
     "output_type": "stream",
     "text": [
      "552: [D loss: 7.971192, acc: 0.500000]  [A loss: 0.000000, acc: 1.000000]\n"
     ]
    },
    {
     "name": "stdout",
     "output_type": "stream",
     "text": [
      "553: [D loss: 7.971192, acc: 0.500000]  [A loss: 0.000000, acc: 1.000000]\n"
     ]
    },
    {
     "name": "stdout",
     "output_type": "stream",
     "text": [
      "554: [D loss: 7.971192, acc: 0.500000]  [A loss: 0.000000, acc: 1.000000]\n"
     ]
    },
    {
     "name": "stdout",
     "output_type": "stream",
     "text": [
      "555: [D loss: 7.971192, acc: 0.500000]  [A loss: 0.000000, acc: 1.000000]\n"
     ]
    },
    {
     "name": "stdout",
     "output_type": "stream",
     "text": [
      "556: [D loss: 7.971192, acc: 0.500000]  [A loss: 0.000000, acc: 1.000000]\n"
     ]
    },
    {
     "name": "stdout",
     "output_type": "stream",
     "text": [
      "557: [D loss: 7.971192, acc: 0.500000]  [A loss: 0.000000, acc: 1.000000]\n"
     ]
    },
    {
     "name": "stdout",
     "output_type": "stream",
     "text": [
      "558: [D loss: 7.971192, acc: 0.500000]  [A loss: 0.000000, acc: 1.000000]\n"
     ]
    },
    {
     "name": "stdout",
     "output_type": "stream",
     "text": [
      "559: [D loss: 7.971192, acc: 0.500000]  [A loss: 0.000000, acc: 1.000000]\n"
     ]
    },
    {
     "name": "stdout",
     "output_type": "stream",
     "text": [
      "560: [D loss: 7.971192, acc: 0.500000]  [A loss: 0.000000, acc: 1.000000]\n"
     ]
    },
    {
     "name": "stdout",
     "output_type": "stream",
     "text": [
      "561: [D loss: 7.971192, acc: 0.500000]  [A loss: 0.000000, acc: 1.000000]\n"
     ]
    },
    {
     "name": "stdout",
     "output_type": "stream",
     "text": [
      "562: [D loss: 7.971192, acc: 0.500000]  [A loss: 0.000000, acc: 1.000000]\n"
     ]
    },
    {
     "name": "stdout",
     "output_type": "stream",
     "text": [
      "563: [D loss: 7.971192, acc: 0.500000]  [A loss: 0.000000, acc: 1.000000]\n"
     ]
    },
    {
     "name": "stdout",
     "output_type": "stream",
     "text": [
      "564: [D loss: 7.971192, acc: 0.500000]  [A loss: 0.000000, acc: 1.000000]\n"
     ]
    },
    {
     "name": "stdout",
     "output_type": "stream",
     "text": [
      "565: [D loss: 7.971192, acc: 0.500000]  [A loss: 0.000000, acc: 1.000000]\n"
     ]
    },
    {
     "name": "stdout",
     "output_type": "stream",
     "text": [
      "566: [D loss: 7.971192, acc: 0.500000]  [A loss: 0.000000, acc: 1.000000]\n"
     ]
    },
    {
     "name": "stdout",
     "output_type": "stream",
     "text": [
      "567: [D loss: 7.971192, acc: 0.500000]  [A loss: 0.000000, acc: 1.000000]\n"
     ]
    },
    {
     "name": "stdout",
     "output_type": "stream",
     "text": [
      "568: [D loss: 7.971192, acc: 0.500000]  [A loss: 0.000000, acc: 1.000000]\n"
     ]
    },
    {
     "name": "stdout",
     "output_type": "stream",
     "text": [
      "569: [D loss: 7.971192, acc: 0.500000]  [A loss: 0.000000, acc: 1.000000]\n"
     ]
    },
    {
     "name": "stdout",
     "output_type": "stream",
     "text": [
      "570: [D loss: 7.971192, acc: 0.500000]  [A loss: 0.000000, acc: 1.000000]\n"
     ]
    },
    {
     "name": "stdout",
     "output_type": "stream",
     "text": [
      "571: [D loss: 7.971192, acc: 0.500000]  [A loss: 0.000000, acc: 1.000000]\n"
     ]
    },
    {
     "name": "stdout",
     "output_type": "stream",
     "text": [
      "572: [D loss: 7.971192, acc: 0.500000]  [A loss: 0.000000, acc: 1.000000]\n"
     ]
    },
    {
     "name": "stdout",
     "output_type": "stream",
     "text": [
      "573: [D loss: 7.971192, acc: 0.500000]  [A loss: 0.000000, acc: 1.000000]\n"
     ]
    },
    {
     "name": "stdout",
     "output_type": "stream",
     "text": [
      "574: [D loss: 7.971192, acc: 0.500000]  [A loss: 0.000000, acc: 1.000000]\n"
     ]
    },
    {
     "name": "stdout",
     "output_type": "stream",
     "text": [
      "575: [D loss: 7.971192, acc: 0.500000]  [A loss: 0.000000, acc: 1.000000]\n"
     ]
    },
    {
     "name": "stdout",
     "output_type": "stream",
     "text": [
      "576: [D loss: 7.971192, acc: 0.500000]  [A loss: 0.000000, acc: 1.000000]\n"
     ]
    },
    {
     "name": "stdout",
     "output_type": "stream",
     "text": [
      "577: [D loss: 7.971192, acc: 0.500000]  [A loss: 0.000000, acc: 1.000000]\n"
     ]
    },
    {
     "name": "stdout",
     "output_type": "stream",
     "text": [
      "578: [D loss: 7.971192, acc: 0.500000]  [A loss: 0.000000, acc: 1.000000]\n"
     ]
    },
    {
     "name": "stdout",
     "output_type": "stream",
     "text": [
      "579: [D loss: 7.971192, acc: 0.500000]  [A loss: 0.000000, acc: 1.000000]\n"
     ]
    },
    {
     "name": "stdout",
     "output_type": "stream",
     "text": [
      "580: [D loss: 7.971192, acc: 0.500000]  [A loss: 0.000000, acc: 1.000000]\n"
     ]
    },
    {
     "name": "stdout",
     "output_type": "stream",
     "text": [
      "581: [D loss: 7.971192, acc: 0.500000]  [A loss: 0.000000, acc: 1.000000]\n"
     ]
    },
    {
     "name": "stdout",
     "output_type": "stream",
     "text": [
      "582: [D loss: 7.971192, acc: 0.500000]  [A loss: 0.000000, acc: 1.000000]\n"
     ]
    },
    {
     "name": "stdout",
     "output_type": "stream",
     "text": [
      "583: [D loss: 7.971192, acc: 0.500000]  [A loss: 0.000000, acc: 1.000000]\n"
     ]
    },
    {
     "name": "stdout",
     "output_type": "stream",
     "text": [
      "584: [D loss: 7.971192, acc: 0.500000]  [A loss: 0.000000, acc: 1.000000]\n"
     ]
    },
    {
     "name": "stdout",
     "output_type": "stream",
     "text": [
      "585: [D loss: 7.971192, acc: 0.500000]  [A loss: 0.000000, acc: 1.000000]\n"
     ]
    },
    {
     "name": "stdout",
     "output_type": "stream",
     "text": [
      "586: [D loss: 7.971192, acc: 0.500000]  [A loss: 0.000000, acc: 1.000000]\n"
     ]
    },
    {
     "name": "stdout",
     "output_type": "stream",
     "text": [
      "587: [D loss: 7.971192, acc: 0.500000]  [A loss: 0.000000, acc: 1.000000]\n"
     ]
    },
    {
     "name": "stdout",
     "output_type": "stream",
     "text": [
      "588: [D loss: 7.971192, acc: 0.500000]  [A loss: 0.000000, acc: 1.000000]\n"
     ]
    },
    {
     "name": "stdout",
     "output_type": "stream",
     "text": [
      "589: [D loss: 7.971192, acc: 0.500000]  [A loss: 0.000000, acc: 1.000000]\n"
     ]
    },
    {
     "name": "stdout",
     "output_type": "stream",
     "text": [
      "590: [D loss: 7.971192, acc: 0.500000]  [A loss: 0.000000, acc: 1.000000]\n"
     ]
    },
    {
     "name": "stdout",
     "output_type": "stream",
     "text": [
      "591: [D loss: 7.971192, acc: 0.500000]  [A loss: 0.000000, acc: 1.000000]\n"
     ]
    },
    {
     "name": "stdout",
     "output_type": "stream",
     "text": [
      "592: [D loss: 7.971192, acc: 0.500000]  [A loss: 0.000000, acc: 1.000000]\n"
     ]
    },
    {
     "name": "stdout",
     "output_type": "stream",
     "text": [
      "593: [D loss: 7.971192, acc: 0.500000]  [A loss: 0.000000, acc: 1.000000]\n"
     ]
    },
    {
     "name": "stdout",
     "output_type": "stream",
     "text": [
      "594: [D loss: 7.971192, acc: 0.500000]  [A loss: 0.000000, acc: 1.000000]\n"
     ]
    },
    {
     "name": "stdout",
     "output_type": "stream",
     "text": [
      "595: [D loss: 7.971192, acc: 0.500000]  [A loss: 0.000000, acc: 1.000000]\n"
     ]
    },
    {
     "name": "stdout",
     "output_type": "stream",
     "text": [
      "596: [D loss: 7.971192, acc: 0.500000]  [A loss: 0.000000, acc: 1.000000]\n"
     ]
    },
    {
     "name": "stdout",
     "output_type": "stream",
     "text": [
      "597: [D loss: 7.971192, acc: 0.500000]  [A loss: 0.000000, acc: 1.000000]\n"
     ]
    },
    {
     "name": "stdout",
     "output_type": "stream",
     "text": [
      "598: [D loss: 7.971192, acc: 0.500000]  [A loss: 0.000000, acc: 1.000000]\n"
     ]
    },
    {
     "name": "stdout",
     "output_type": "stream",
     "text": [
      "599: [D loss: 7.971192, acc: 0.500000]  [A loss: 0.000000, acc: 1.000000]\n"
     ]
    },
    {
     "name": "stdout",
     "output_type": "stream",
     "text": [
      "600: [D loss: 7.971192, acc: 0.500000]  [A loss: 0.000000, acc: 1.000000]\n"
     ]
    },
    {
     "name": "stdout",
     "output_type": "stream",
     "text": [
      "601: [D loss: 7.971192, acc: 0.500000]  [A loss: 0.000000, acc: 1.000000]\n"
     ]
    },
    {
     "name": "stdout",
     "output_type": "stream",
     "text": [
      "602: [D loss: 7.971192, acc: 0.500000]  [A loss: 0.000000, acc: 1.000000]\n"
     ]
    },
    {
     "name": "stdout",
     "output_type": "stream",
     "text": [
      "603: [D loss: 7.971192, acc: 0.500000]  [A loss: 0.000000, acc: 1.000000]\n"
     ]
    },
    {
     "name": "stdout",
     "output_type": "stream",
     "text": [
      "604: [D loss: 7.971192, acc: 0.500000]  [A loss: 0.000000, acc: 1.000000]\n"
     ]
    },
    {
     "name": "stdout",
     "output_type": "stream",
     "text": [
      "605: [D loss: 7.971192, acc: 0.500000]  [A loss: 0.000000, acc: 1.000000]\n"
     ]
    },
    {
     "name": "stdout",
     "output_type": "stream",
     "text": [
      "606: [D loss: 7.971192, acc: 0.500000]  [A loss: 0.000000, acc: 1.000000]\n"
     ]
    },
    {
     "name": "stdout",
     "output_type": "stream",
     "text": [
      "607: [D loss: 7.971192, acc: 0.500000]  [A loss: 0.000000, acc: 1.000000]\n"
     ]
    },
    {
     "name": "stdout",
     "output_type": "stream",
     "text": [
      "608: [D loss: 7.971192, acc: 0.500000]  [A loss: 0.000000, acc: 1.000000]\n"
     ]
    },
    {
     "name": "stdout",
     "output_type": "stream",
     "text": [
      "609: [D loss: 7.971192, acc: 0.500000]  [A loss: 0.000000, acc: 1.000000]\n"
     ]
    },
    {
     "name": "stdout",
     "output_type": "stream",
     "text": [
      "610: [D loss: 7.971192, acc: 0.500000]  [A loss: 0.000000, acc: 1.000000]\n"
     ]
    },
    {
     "name": "stdout",
     "output_type": "stream",
     "text": [
      "611: [D loss: 7.971192, acc: 0.500000]  [A loss: 0.000000, acc: 1.000000]\n"
     ]
    },
    {
     "name": "stdout",
     "output_type": "stream",
     "text": [
      "612: [D loss: 7.971192, acc: 0.500000]  [A loss: 0.000000, acc: 1.000000]\n"
     ]
    },
    {
     "name": "stdout",
     "output_type": "stream",
     "text": [
      "613: [D loss: 7.971192, acc: 0.500000]  [A loss: 0.000000, acc: 1.000000]\n"
     ]
    },
    {
     "name": "stdout",
     "output_type": "stream",
     "text": [
      "614: [D loss: 7.971192, acc: 0.500000]  [A loss: 0.000000, acc: 1.000000]\n"
     ]
    },
    {
     "name": "stdout",
     "output_type": "stream",
     "text": [
      "615: [D loss: 7.971192, acc: 0.500000]  [A loss: 0.000000, acc: 1.000000]\n"
     ]
    },
    {
     "name": "stdout",
     "output_type": "stream",
     "text": [
      "616: [D loss: 7.971192, acc: 0.500000]  [A loss: 0.000000, acc: 1.000000]\n"
     ]
    },
    {
     "name": "stdout",
     "output_type": "stream",
     "text": [
      "617: [D loss: 7.971192, acc: 0.500000]  [A loss: 0.000000, acc: 1.000000]\n"
     ]
    },
    {
     "name": "stdout",
     "output_type": "stream",
     "text": [
      "618: [D loss: 7.971192, acc: 0.500000]  [A loss: 0.000000, acc: 1.000000]\n"
     ]
    },
    {
     "name": "stdout",
     "output_type": "stream",
     "text": [
      "619: [D loss: 7.971192, acc: 0.500000]  [A loss: 0.000000, acc: 1.000000]\n"
     ]
    },
    {
     "name": "stdout",
     "output_type": "stream",
     "text": [
      "620: [D loss: 7.971192, acc: 0.500000]  [A loss: 0.000000, acc: 1.000000]\n"
     ]
    },
    {
     "name": "stdout",
     "output_type": "stream",
     "text": [
      "621: [D loss: 7.971192, acc: 0.500000]  [A loss: 0.000000, acc: 1.000000]\n"
     ]
    },
    {
     "name": "stdout",
     "output_type": "stream",
     "text": [
      "622: [D loss: 7.971192, acc: 0.500000]  [A loss: 0.000000, acc: 1.000000]\n"
     ]
    },
    {
     "name": "stdout",
     "output_type": "stream",
     "text": [
      "623: [D loss: 7.971192, acc: 0.500000]  [A loss: 0.000000, acc: 1.000000]\n"
     ]
    },
    {
     "name": "stdout",
     "output_type": "stream",
     "text": [
      "624: [D loss: 7.971192, acc: 0.500000]  [A loss: 0.000000, acc: 1.000000]\n"
     ]
    },
    {
     "name": "stdout",
     "output_type": "stream",
     "text": [
      "625: [D loss: 7.971192, acc: 0.500000]  [A loss: 0.000000, acc: 1.000000]\n"
     ]
    },
    {
     "name": "stdout",
     "output_type": "stream",
     "text": [
      "626: [D loss: 7.971192, acc: 0.500000]  [A loss: 0.000000, acc: 1.000000]\n"
     ]
    },
    {
     "name": "stdout",
     "output_type": "stream",
     "text": [
      "627: [D loss: 7.971192, acc: 0.500000]  [A loss: 0.000000, acc: 1.000000]\n"
     ]
    },
    {
     "name": "stdout",
     "output_type": "stream",
     "text": [
      "628: [D loss: 7.971192, acc: 0.500000]  [A loss: 0.000000, acc: 1.000000]\n"
     ]
    },
    {
     "name": "stdout",
     "output_type": "stream",
     "text": [
      "629: [D loss: 7.971192, acc: 0.500000]  [A loss: 0.000000, acc: 1.000000]\n"
     ]
    },
    {
     "name": "stdout",
     "output_type": "stream",
     "text": [
      "630: [D loss: 7.971192, acc: 0.500000]  [A loss: 0.000000, acc: 1.000000]\n"
     ]
    },
    {
     "name": "stdout",
     "output_type": "stream",
     "text": [
      "631: [D loss: 7.971192, acc: 0.500000]  [A loss: 0.000000, acc: 1.000000]\n"
     ]
    },
    {
     "name": "stdout",
     "output_type": "stream",
     "text": [
      "632: [D loss: 7.971192, acc: 0.500000]  [A loss: 0.000000, acc: 1.000000]\n"
     ]
    },
    {
     "name": "stdout",
     "output_type": "stream",
     "text": [
      "633: [D loss: 7.971192, acc: 0.500000]  [A loss: 0.000000, acc: 1.000000]\n"
     ]
    },
    {
     "name": "stdout",
     "output_type": "stream",
     "text": [
      "634: [D loss: 7.971192, acc: 0.500000]  [A loss: 0.000000, acc: 1.000000]\n"
     ]
    },
    {
     "name": "stdout",
     "output_type": "stream",
     "text": [
      "635: [D loss: 7.971192, acc: 0.500000]  [A loss: 0.000000, acc: 1.000000]\n"
     ]
    },
    {
     "name": "stdout",
     "output_type": "stream",
     "text": [
      "636: [D loss: 7.971192, acc: 0.500000]  [A loss: 0.000000, acc: 1.000000]\n"
     ]
    },
    {
     "name": "stdout",
     "output_type": "stream",
     "text": [
      "637: [D loss: 7.971192, acc: 0.500000]  [A loss: 0.000000, acc: 1.000000]\n"
     ]
    },
    {
     "name": "stdout",
     "output_type": "stream",
     "text": [
      "638: [D loss: 7.971192, acc: 0.500000]  [A loss: 0.000000, acc: 1.000000]\n"
     ]
    },
    {
     "name": "stdout",
     "output_type": "stream",
     "text": [
      "639: [D loss: 7.971192, acc: 0.500000]  [A loss: 0.000000, acc: 1.000000]\n"
     ]
    },
    {
     "name": "stdout",
     "output_type": "stream",
     "text": [
      "640: [D loss: 7.971192, acc: 0.500000]  [A loss: 0.000000, acc: 1.000000]\n"
     ]
    },
    {
     "name": "stdout",
     "output_type": "stream",
     "text": [
      "641: [D loss: 7.971192, acc: 0.500000]  [A loss: 0.000000, acc: 1.000000]\n"
     ]
    },
    {
     "name": "stdout",
     "output_type": "stream",
     "text": [
      "642: [D loss: 7.971192, acc: 0.500000]  [A loss: 0.000000, acc: 1.000000]\n"
     ]
    },
    {
     "name": "stdout",
     "output_type": "stream",
     "text": [
      "643: [D loss: 7.971192, acc: 0.500000]  [A loss: 0.000000, acc: 1.000000]\n"
     ]
    },
    {
     "name": "stdout",
     "output_type": "stream",
     "text": [
      "644: [D loss: 7.971192, acc: 0.500000]  [A loss: 0.000000, acc: 1.000000]\n"
     ]
    },
    {
     "name": "stdout",
     "output_type": "stream",
     "text": [
      "645: [D loss: 7.971192, acc: 0.500000]  [A loss: 0.000000, acc: 1.000000]\n"
     ]
    },
    {
     "name": "stdout",
     "output_type": "stream",
     "text": [
      "646: [D loss: 7.971192, acc: 0.500000]  [A loss: 0.000000, acc: 1.000000]\n"
     ]
    },
    {
     "name": "stdout",
     "output_type": "stream",
     "text": [
      "647: [D loss: 7.971192, acc: 0.500000]  [A loss: 0.000000, acc: 1.000000]\n"
     ]
    },
    {
     "name": "stdout",
     "output_type": "stream",
     "text": [
      "648: [D loss: 7.971192, acc: 0.500000]  [A loss: 0.000000, acc: 1.000000]\n"
     ]
    },
    {
     "name": "stdout",
     "output_type": "stream",
     "text": [
      "649: [D loss: 7.971192, acc: 0.500000]  [A loss: 0.000000, acc: 1.000000]\n"
     ]
    },
    {
     "name": "stdout",
     "output_type": "stream",
     "text": [
      "650: [D loss: 7.971192, acc: 0.500000]  [A loss: 0.000000, acc: 1.000000]\n"
     ]
    },
    {
     "name": "stdout",
     "output_type": "stream",
     "text": [
      "651: [D loss: 7.971192, acc: 0.500000]  [A loss: 0.000000, acc: 1.000000]\n"
     ]
    },
    {
     "name": "stdout",
     "output_type": "stream",
     "text": [
      "652: [D loss: 7.971192, acc: 0.500000]  [A loss: 0.000000, acc: 1.000000]\n"
     ]
    },
    {
     "name": "stdout",
     "output_type": "stream",
     "text": [
      "653: [D loss: 7.971192, acc: 0.500000]  [A loss: 0.000000, acc: 1.000000]\n"
     ]
    },
    {
     "name": "stdout",
     "output_type": "stream",
     "text": [
      "654: [D loss: 7.971192, acc: 0.500000]  [A loss: 0.000000, acc: 1.000000]\n"
     ]
    },
    {
     "name": "stdout",
     "output_type": "stream",
     "text": [
      "655: [D loss: 7.971192, acc: 0.500000]  [A loss: 0.000000, acc: 1.000000]\n"
     ]
    },
    {
     "name": "stdout",
     "output_type": "stream",
     "text": [
      "656: [D loss: 7.971192, acc: 0.500000]  [A loss: 0.000000, acc: 1.000000]\n"
     ]
    },
    {
     "name": "stdout",
     "output_type": "stream",
     "text": [
      "657: [D loss: 7.971192, acc: 0.500000]  [A loss: 0.000000, acc: 1.000000]\n"
     ]
    },
    {
     "name": "stdout",
     "output_type": "stream",
     "text": [
      "658: [D loss: 7.971192, acc: 0.500000]  [A loss: 0.000000, acc: 1.000000]\n"
     ]
    },
    {
     "name": "stdout",
     "output_type": "stream",
     "text": [
      "659: [D loss: 7.971192, acc: 0.500000]  [A loss: 0.000000, acc: 1.000000]\n"
     ]
    },
    {
     "name": "stdout",
     "output_type": "stream",
     "text": [
      "660: [D loss: 7.971192, acc: 0.500000]  [A loss: 0.000000, acc: 1.000000]\n"
     ]
    },
    {
     "name": "stdout",
     "output_type": "stream",
     "text": [
      "661: [D loss: 7.971192, acc: 0.500000]  [A loss: 0.000000, acc: 1.000000]\n"
     ]
    },
    {
     "name": "stdout",
     "output_type": "stream",
     "text": [
      "662: [D loss: 7.971192, acc: 0.500000]  [A loss: 0.000000, acc: 1.000000]\n"
     ]
    },
    {
     "name": "stdout",
     "output_type": "stream",
     "text": [
      "663: [D loss: 7.971192, acc: 0.500000]  [A loss: 0.000000, acc: 1.000000]\n"
     ]
    },
    {
     "name": "stdout",
     "output_type": "stream",
     "text": [
      "664: [D loss: 7.971192, acc: 0.500000]  [A loss: 0.000000, acc: 1.000000]\n"
     ]
    },
    {
     "name": "stdout",
     "output_type": "stream",
     "text": [
      "665: [D loss: 7.971192, acc: 0.500000]  [A loss: 0.000000, acc: 1.000000]\n"
     ]
    },
    {
     "name": "stdout",
     "output_type": "stream",
     "text": [
      "666: [D loss: 7.971192, acc: 0.500000]  [A loss: 0.000000, acc: 1.000000]\n"
     ]
    },
    {
     "name": "stdout",
     "output_type": "stream",
     "text": [
      "667: [D loss: 7.971192, acc: 0.500000]  [A loss: 0.000000, acc: 1.000000]\n"
     ]
    },
    {
     "name": "stdout",
     "output_type": "stream",
     "text": [
      "668: [D loss: 7.971192, acc: 0.500000]  [A loss: 0.000000, acc: 1.000000]\n"
     ]
    },
    {
     "name": "stdout",
     "output_type": "stream",
     "text": [
      "669: [D loss: 7.971192, acc: 0.500000]  [A loss: 0.000000, acc: 1.000000]\n"
     ]
    },
    {
     "name": "stdout",
     "output_type": "stream",
     "text": [
      "670: [D loss: 7.971192, acc: 0.500000]  [A loss: 0.000000, acc: 1.000000]\n"
     ]
    },
    {
     "name": "stdout",
     "output_type": "stream",
     "text": [
      "671: [D loss: 7.971192, acc: 0.500000]  [A loss: 0.000000, acc: 1.000000]\n"
     ]
    },
    {
     "name": "stdout",
     "output_type": "stream",
     "text": [
      "672: [D loss: 7.971192, acc: 0.500000]  [A loss: 0.000000, acc: 1.000000]\n"
     ]
    },
    {
     "name": "stdout",
     "output_type": "stream",
     "text": [
      "673: [D loss: 7.971192, acc: 0.500000]  [A loss: 0.000000, acc: 1.000000]\n"
     ]
    },
    {
     "name": "stdout",
     "output_type": "stream",
     "text": [
      "674: [D loss: 7.971192, acc: 0.500000]  [A loss: 0.000000, acc: 1.000000]\n"
     ]
    },
    {
     "name": "stdout",
     "output_type": "stream",
     "text": [
      "675: [D loss: 7.971192, acc: 0.500000]  [A loss: 0.000000, acc: 1.000000]\n"
     ]
    },
    {
     "name": "stdout",
     "output_type": "stream",
     "text": [
      "676: [D loss: 7.971192, acc: 0.500000]  [A loss: 0.000000, acc: 1.000000]\n"
     ]
    },
    {
     "name": "stdout",
     "output_type": "stream",
     "text": [
      "677: [D loss: 7.971192, acc: 0.500000]  [A loss: 0.000000, acc: 1.000000]\n"
     ]
    },
    {
     "name": "stdout",
     "output_type": "stream",
     "text": [
      "678: [D loss: 7.971192, acc: 0.500000]  [A loss: 0.000000, acc: 1.000000]\n"
     ]
    },
    {
     "name": "stdout",
     "output_type": "stream",
     "text": [
      "679: [D loss: 7.971192, acc: 0.500000]  [A loss: 0.000000, acc: 1.000000]\n"
     ]
    },
    {
     "name": "stdout",
     "output_type": "stream",
     "text": [
      "680: [D loss: 7.971192, acc: 0.500000]  [A loss: 0.000000, acc: 1.000000]\n"
     ]
    },
    {
     "name": "stdout",
     "output_type": "stream",
     "text": [
      "681: [D loss: 7.971192, acc: 0.500000]  [A loss: 0.000000, acc: 1.000000]\n"
     ]
    },
    {
     "name": "stdout",
     "output_type": "stream",
     "text": [
      "682: [D loss: 7.971192, acc: 0.500000]  [A loss: 0.000000, acc: 1.000000]\n"
     ]
    },
    {
     "name": "stdout",
     "output_type": "stream",
     "text": [
      "683: [D loss: 7.971192, acc: 0.500000]  [A loss: 0.000000, acc: 1.000000]\n"
     ]
    },
    {
     "name": "stdout",
     "output_type": "stream",
     "text": [
      "684: [D loss: 7.971192, acc: 0.500000]  [A loss: 0.000000, acc: 1.000000]\n"
     ]
    },
    {
     "name": "stdout",
     "output_type": "stream",
     "text": [
      "685: [D loss: 7.971192, acc: 0.500000]  [A loss: 0.000000, acc: 1.000000]\n"
     ]
    },
    {
     "name": "stdout",
     "output_type": "stream",
     "text": [
      "686: [D loss: 7.971192, acc: 0.500000]  [A loss: 0.000000, acc: 1.000000]\n"
     ]
    },
    {
     "name": "stdout",
     "output_type": "stream",
     "text": [
      "687: [D loss: 7.971192, acc: 0.500000]  [A loss: 0.000000, acc: 1.000000]\n"
     ]
    },
    {
     "name": "stdout",
     "output_type": "stream",
     "text": [
      "688: [D loss: 7.971192, acc: 0.500000]  [A loss: 0.000000, acc: 1.000000]\n"
     ]
    },
    {
     "name": "stdout",
     "output_type": "stream",
     "text": [
      "689: [D loss: 7.971192, acc: 0.500000]  [A loss: 0.000000, acc: 1.000000]\n"
     ]
    },
    {
     "name": "stdout",
     "output_type": "stream",
     "text": [
      "690: [D loss: 7.971192, acc: 0.500000]  [A loss: 0.000000, acc: 1.000000]\n"
     ]
    },
    {
     "name": "stdout",
     "output_type": "stream",
     "text": [
      "691: [D loss: 7.971192, acc: 0.500000]  [A loss: 0.000000, acc: 1.000000]\n"
     ]
    },
    {
     "name": "stdout",
     "output_type": "stream",
     "text": [
      "692: [D loss: 7.971192, acc: 0.500000]  [A loss: 0.000000, acc: 1.000000]\n"
     ]
    },
    {
     "name": "stdout",
     "output_type": "stream",
     "text": [
      "693: [D loss: 7.971192, acc: 0.500000]  [A loss: 0.000000, acc: 1.000000]\n"
     ]
    },
    {
     "name": "stdout",
     "output_type": "stream",
     "text": [
      "694: [D loss: 7.971192, acc: 0.500000]  [A loss: 0.000000, acc: 1.000000]\n"
     ]
    },
    {
     "name": "stdout",
     "output_type": "stream",
     "text": [
      "695: [D loss: 7.971192, acc: 0.500000]  [A loss: 0.000000, acc: 1.000000]\n"
     ]
    },
    {
     "name": "stdout",
     "output_type": "stream",
     "text": [
      "696: [D loss: 7.971192, acc: 0.500000]  [A loss: 0.000000, acc: 1.000000]\n"
     ]
    },
    {
     "name": "stdout",
     "output_type": "stream",
     "text": [
      "697: [D loss: 7.971192, acc: 0.500000]  [A loss: 0.000000, acc: 1.000000]\n"
     ]
    },
    {
     "name": "stdout",
     "output_type": "stream",
     "text": [
      "698: [D loss: 7.971192, acc: 0.500000]  [A loss: 0.000000, acc: 1.000000]\n"
     ]
    },
    {
     "name": "stdout",
     "output_type": "stream",
     "text": [
      "699: [D loss: 7.971192, acc: 0.500000]  [A loss: 0.000000, acc: 1.000000]\n"
     ]
    },
    {
     "name": "stdout",
     "output_type": "stream",
     "text": [
      "700: [D loss: 7.971192, acc: 0.500000]  [A loss: 0.000000, acc: 1.000000]\n"
     ]
    },
    {
     "name": "stdout",
     "output_type": "stream",
     "text": [
      "701: [D loss: 7.971192, acc: 0.500000]  [A loss: 0.000000, acc: 1.000000]\n"
     ]
    },
    {
     "name": "stdout",
     "output_type": "stream",
     "text": [
      "702: [D loss: 7.971192, acc: 0.500000]  [A loss: 0.000000, acc: 1.000000]\n"
     ]
    },
    {
     "name": "stdout",
     "output_type": "stream",
     "text": [
      "703: [D loss: 7.971192, acc: 0.500000]  [A loss: 0.000000, acc: 1.000000]\n"
     ]
    },
    {
     "name": "stdout",
     "output_type": "stream",
     "text": [
      "704: [D loss: 7.971192, acc: 0.500000]  [A loss: 0.000000, acc: 1.000000]\n"
     ]
    },
    {
     "name": "stdout",
     "output_type": "stream",
     "text": [
      "705: [D loss: 7.971192, acc: 0.500000]  [A loss: 0.000000, acc: 1.000000]\n"
     ]
    },
    {
     "name": "stdout",
     "output_type": "stream",
     "text": [
      "706: [D loss: 7.971192, acc: 0.500000]  [A loss: 0.000000, acc: 1.000000]\n"
     ]
    },
    {
     "name": "stdout",
     "output_type": "stream",
     "text": [
      "707: [D loss: 7.971192, acc: 0.500000]  [A loss: 0.000000, acc: 1.000000]\n"
     ]
    },
    {
     "name": "stdout",
     "output_type": "stream",
     "text": [
      "708: [D loss: 7.971192, acc: 0.500000]  [A loss: 0.000000, acc: 1.000000]\n"
     ]
    },
    {
     "name": "stdout",
     "output_type": "stream",
     "text": [
      "709: [D loss: 7.971192, acc: 0.500000]  [A loss: 0.000000, acc: 1.000000]\n"
     ]
    },
    {
     "name": "stdout",
     "output_type": "stream",
     "text": [
      "710: [D loss: 7.971192, acc: 0.500000]  [A loss: 0.000000, acc: 1.000000]\n"
     ]
    },
    {
     "name": "stdout",
     "output_type": "stream",
     "text": [
      "711: [D loss: 7.971192, acc: 0.500000]  [A loss: 0.000000, acc: 1.000000]\n"
     ]
    },
    {
     "name": "stdout",
     "output_type": "stream",
     "text": [
      "712: [D loss: 7.971192, acc: 0.500000]  [A loss: 0.000000, acc: 1.000000]\n"
     ]
    },
    {
     "name": "stdout",
     "output_type": "stream",
     "text": [
      "713: [D loss: 7.971192, acc: 0.500000]  [A loss: 0.000000, acc: 1.000000]\n"
     ]
    },
    {
     "name": "stdout",
     "output_type": "stream",
     "text": [
      "714: [D loss: 7.971192, acc: 0.500000]  [A loss: 0.000000, acc: 1.000000]\n"
     ]
    },
    {
     "name": "stdout",
     "output_type": "stream",
     "text": [
      "715: [D loss: 7.971192, acc: 0.500000]  [A loss: 0.000000, acc: 1.000000]\n"
     ]
    },
    {
     "name": "stdout",
     "output_type": "stream",
     "text": [
      "716: [D loss: 7.971192, acc: 0.500000]  [A loss: 0.000000, acc: 1.000000]\n"
     ]
    },
    {
     "name": "stdout",
     "output_type": "stream",
     "text": [
      "717: [D loss: 7.971192, acc: 0.500000]  [A loss: 0.000000, acc: 1.000000]\n"
     ]
    },
    {
     "name": "stdout",
     "output_type": "stream",
     "text": [
      "718: [D loss: 7.971192, acc: 0.500000]  [A loss: 0.000000, acc: 1.000000]\n"
     ]
    },
    {
     "name": "stdout",
     "output_type": "stream",
     "text": [
      "719: [D loss: 7.971192, acc: 0.500000]  [A loss: 0.000000, acc: 1.000000]\n"
     ]
    },
    {
     "name": "stdout",
     "output_type": "stream",
     "text": [
      "720: [D loss: 7.971192, acc: 0.500000]  [A loss: 0.000000, acc: 1.000000]\n"
     ]
    },
    {
     "name": "stdout",
     "output_type": "stream",
     "text": [
      "721: [D loss: 7.971192, acc: 0.500000]  [A loss: 0.000000, acc: 1.000000]\n"
     ]
    },
    {
     "name": "stdout",
     "output_type": "stream",
     "text": [
      "722: [D loss: 7.971192, acc: 0.500000]  [A loss: 0.000000, acc: 1.000000]\n"
     ]
    },
    {
     "name": "stdout",
     "output_type": "stream",
     "text": [
      "723: [D loss: 7.971192, acc: 0.500000]  [A loss: 0.000000, acc: 1.000000]\n"
     ]
    },
    {
     "name": "stdout",
     "output_type": "stream",
     "text": [
      "724: [D loss: 7.971192, acc: 0.500000]  [A loss: 0.000000, acc: 1.000000]\n"
     ]
    },
    {
     "name": "stdout",
     "output_type": "stream",
     "text": [
      "725: [D loss: 7.971192, acc: 0.500000]  [A loss: 0.000000, acc: 1.000000]\n"
     ]
    },
    {
     "name": "stdout",
     "output_type": "stream",
     "text": [
      "726: [D loss: 7.971192, acc: 0.500000]  [A loss: 0.000000, acc: 1.000000]\n"
     ]
    },
    {
     "name": "stdout",
     "output_type": "stream",
     "text": [
      "727: [D loss: 7.971192, acc: 0.500000]  [A loss: 0.000000, acc: 1.000000]\n"
     ]
    },
    {
     "name": "stdout",
     "output_type": "stream",
     "text": [
      "728: [D loss: 7.971192, acc: 0.500000]  [A loss: 0.000000, acc: 1.000000]\n"
     ]
    },
    {
     "name": "stdout",
     "output_type": "stream",
     "text": [
      "729: [D loss: 7.971192, acc: 0.500000]  [A loss: 0.000000, acc: 1.000000]\n"
     ]
    },
    {
     "name": "stdout",
     "output_type": "stream",
     "text": [
      "730: [D loss: 7.971192, acc: 0.500000]  [A loss: 0.000000, acc: 1.000000]\n"
     ]
    },
    {
     "name": "stdout",
     "output_type": "stream",
     "text": [
      "731: [D loss: 7.971192, acc: 0.500000]  [A loss: 0.000000, acc: 1.000000]\n"
     ]
    },
    {
     "name": "stdout",
     "output_type": "stream",
     "text": [
      "732: [D loss: 7.971192, acc: 0.500000]  [A loss: 0.000000, acc: 1.000000]\n"
     ]
    },
    {
     "name": "stdout",
     "output_type": "stream",
     "text": [
      "733: [D loss: 7.971192, acc: 0.500000]  [A loss: 0.000000, acc: 1.000000]\n"
     ]
    },
    {
     "name": "stdout",
     "output_type": "stream",
     "text": [
      "734: [D loss: 7.971192, acc: 0.500000]  [A loss: 0.000000, acc: 1.000000]\n"
     ]
    },
    {
     "name": "stdout",
     "output_type": "stream",
     "text": [
      "735: [D loss: 7.971192, acc: 0.500000]  [A loss: 0.000000, acc: 1.000000]\n"
     ]
    },
    {
     "name": "stdout",
     "output_type": "stream",
     "text": [
      "736: [D loss: 7.971192, acc: 0.500000]  [A loss: 0.000000, acc: 1.000000]\n"
     ]
    },
    {
     "name": "stdout",
     "output_type": "stream",
     "text": [
      "737: [D loss: 7.971192, acc: 0.500000]  [A loss: 0.000000, acc: 1.000000]\n"
     ]
    },
    {
     "name": "stdout",
     "output_type": "stream",
     "text": [
      "738: [D loss: 7.971192, acc: 0.500000]  [A loss: 0.000000, acc: 1.000000]\n"
     ]
    },
    {
     "name": "stdout",
     "output_type": "stream",
     "text": [
      "739: [D loss: 7.971192, acc: 0.500000]  [A loss: 0.000000, acc: 1.000000]\n"
     ]
    },
    {
     "name": "stdout",
     "output_type": "stream",
     "text": [
      "740: [D loss: 7.971192, acc: 0.500000]  [A loss: 0.000000, acc: 1.000000]\n"
     ]
    },
    {
     "name": "stdout",
     "output_type": "stream",
     "text": [
      "741: [D loss: 7.971192, acc: 0.500000]  [A loss: 0.000000, acc: 1.000000]\n"
     ]
    },
    {
     "name": "stdout",
     "output_type": "stream",
     "text": [
      "742: [D loss: 7.971192, acc: 0.500000]  [A loss: 0.000000, acc: 1.000000]\n"
     ]
    },
    {
     "name": "stdout",
     "output_type": "stream",
     "text": [
      "743: [D loss: 7.971192, acc: 0.500000]  [A loss: 0.000000, acc: 1.000000]\n"
     ]
    },
    {
     "name": "stdout",
     "output_type": "stream",
     "text": [
      "744: [D loss: 7.971192, acc: 0.500000]  [A loss: 0.000000, acc: 1.000000]\n"
     ]
    },
    {
     "name": "stdout",
     "output_type": "stream",
     "text": [
      "745: [D loss: 7.971192, acc: 0.500000]  [A loss: 0.000000, acc: 1.000000]\n"
     ]
    },
    {
     "name": "stdout",
     "output_type": "stream",
     "text": [
      "746: [D loss: 7.971192, acc: 0.500000]  [A loss: 0.000000, acc: 1.000000]\n"
     ]
    },
    {
     "name": "stdout",
     "output_type": "stream",
     "text": [
      "747: [D loss: 7.971192, acc: 0.500000]  [A loss: 0.000000, acc: 1.000000]\n"
     ]
    },
    {
     "name": "stdout",
     "output_type": "stream",
     "text": [
      "748: [D loss: 7.971192, acc: 0.500000]  [A loss: 0.000000, acc: 1.000000]\n"
     ]
    },
    {
     "name": "stdout",
     "output_type": "stream",
     "text": [
      "749: [D loss: 7.971192, acc: 0.500000]  [A loss: 0.000000, acc: 1.000000]\n"
     ]
    },
    {
     "name": "stdout",
     "output_type": "stream",
     "text": [
      "750: [D loss: 7.971192, acc: 0.500000]  [A loss: 0.000000, acc: 1.000000]\n"
     ]
    },
    {
     "name": "stdout",
     "output_type": "stream",
     "text": [
      "751: [D loss: 7.971192, acc: 0.500000]  [A loss: 0.000000, acc: 1.000000]\n"
     ]
    },
    {
     "name": "stdout",
     "output_type": "stream",
     "text": [
      "752: [D loss: 7.971192, acc: 0.500000]  [A loss: 0.000000, acc: 1.000000]\n"
     ]
    },
    {
     "name": "stdout",
     "output_type": "stream",
     "text": [
      "753: [D loss: 7.971192, acc: 0.500000]  [A loss: 0.000000, acc: 1.000000]\n"
     ]
    },
    {
     "name": "stdout",
     "output_type": "stream",
     "text": [
      "754: [D loss: 7.971192, acc: 0.500000]  [A loss: 0.000000, acc: 1.000000]\n"
     ]
    },
    {
     "name": "stdout",
     "output_type": "stream",
     "text": [
      "755: [D loss: 7.971192, acc: 0.500000]  [A loss: 0.000000, acc: 1.000000]\n"
     ]
    },
    {
     "name": "stdout",
     "output_type": "stream",
     "text": [
      "756: [D loss: 7.971192, acc: 0.500000]  [A loss: 0.000000, acc: 1.000000]\n"
     ]
    },
    {
     "name": "stdout",
     "output_type": "stream",
     "text": [
      "757: [D loss: 7.971192, acc: 0.500000]  [A loss: 0.000000, acc: 1.000000]\n"
     ]
    },
    {
     "name": "stdout",
     "output_type": "stream",
     "text": [
      "758: [D loss: 7.971192, acc: 0.500000]  [A loss: 0.000000, acc: 1.000000]\n"
     ]
    },
    {
     "name": "stdout",
     "output_type": "stream",
     "text": [
      "759: [D loss: 7.971192, acc: 0.500000]  [A loss: 0.000000, acc: 1.000000]\n"
     ]
    },
    {
     "name": "stdout",
     "output_type": "stream",
     "text": [
      "760: [D loss: 7.971192, acc: 0.500000]  [A loss: 0.000000, acc: 1.000000]\n"
     ]
    },
    {
     "name": "stdout",
     "output_type": "stream",
     "text": [
      "761: [D loss: 7.971192, acc: 0.500000]  [A loss: 0.000000, acc: 1.000000]\n"
     ]
    },
    {
     "name": "stdout",
     "output_type": "stream",
     "text": [
      "762: [D loss: 7.971192, acc: 0.500000]  [A loss: 0.000000, acc: 1.000000]\n"
     ]
    },
    {
     "name": "stdout",
     "output_type": "stream",
     "text": [
      "763: [D loss: 7.971192, acc: 0.500000]  [A loss: 0.000000, acc: 1.000000]\n"
     ]
    },
    {
     "name": "stdout",
     "output_type": "stream",
     "text": [
      "764: [D loss: 7.971192, acc: 0.500000]  [A loss: 0.000000, acc: 1.000000]\n"
     ]
    },
    {
     "name": "stdout",
     "output_type": "stream",
     "text": [
      "765: [D loss: 7.971192, acc: 0.500000]  [A loss: 0.000000, acc: 1.000000]\n"
     ]
    },
    {
     "name": "stdout",
     "output_type": "stream",
     "text": [
      "766: [D loss: 7.971192, acc: 0.500000]  [A loss: 0.000000, acc: 1.000000]\n"
     ]
    },
    {
     "name": "stdout",
     "output_type": "stream",
     "text": [
      "767: [D loss: 7.971192, acc: 0.500000]  [A loss: 0.000000, acc: 1.000000]\n"
     ]
    },
    {
     "name": "stdout",
     "output_type": "stream",
     "text": [
      "768: [D loss: 7.971192, acc: 0.500000]  [A loss: 0.000000, acc: 1.000000]\n"
     ]
    },
    {
     "name": "stdout",
     "output_type": "stream",
     "text": [
      "769: [D loss: 7.971192, acc: 0.500000]  [A loss: 0.000000, acc: 1.000000]\n"
     ]
    },
    {
     "name": "stdout",
     "output_type": "stream",
     "text": [
      "770: [D loss: 7.971192, acc: 0.500000]  [A loss: 0.000000, acc: 1.000000]\n"
     ]
    },
    {
     "name": "stdout",
     "output_type": "stream",
     "text": [
      "771: [D loss: 7.971192, acc: 0.500000]  [A loss: 0.000000, acc: 1.000000]\n"
     ]
    },
    {
     "name": "stdout",
     "output_type": "stream",
     "text": [
      "772: [D loss: 7.971192, acc: 0.500000]  [A loss: 0.000000, acc: 1.000000]\n"
     ]
    },
    {
     "name": "stdout",
     "output_type": "stream",
     "text": [
      "773: [D loss: 7.971192, acc: 0.500000]  [A loss: 0.000000, acc: 1.000000]\n"
     ]
    },
    {
     "name": "stdout",
     "output_type": "stream",
     "text": [
      "774: [D loss: 7.971192, acc: 0.500000]  [A loss: 0.000000, acc: 1.000000]\n"
     ]
    },
    {
     "name": "stdout",
     "output_type": "stream",
     "text": [
      "775: [D loss: 7.971192, acc: 0.500000]  [A loss: 0.000000, acc: 1.000000]\n"
     ]
    },
    {
     "name": "stdout",
     "output_type": "stream",
     "text": [
      "776: [D loss: 7.971192, acc: 0.500000]  [A loss: 0.000000, acc: 1.000000]\n"
     ]
    },
    {
     "name": "stdout",
     "output_type": "stream",
     "text": [
      "777: [D loss: 7.971192, acc: 0.500000]  [A loss: 0.000000, acc: 1.000000]\n"
     ]
    },
    {
     "name": "stdout",
     "output_type": "stream",
     "text": [
      "778: [D loss: 7.971192, acc: 0.500000]  [A loss: 0.000000, acc: 1.000000]\n"
     ]
    },
    {
     "name": "stdout",
     "output_type": "stream",
     "text": [
      "779: [D loss: 7.971192, acc: 0.500000]  [A loss: 0.000000, acc: 1.000000]\n"
     ]
    },
    {
     "name": "stdout",
     "output_type": "stream",
     "text": [
      "780: [D loss: 7.971192, acc: 0.500000]  [A loss: 0.000000, acc: 1.000000]\n"
     ]
    },
    {
     "name": "stdout",
     "output_type": "stream",
     "text": [
      "781: [D loss: 7.971192, acc: 0.500000]  [A loss: 0.000000, acc: 1.000000]\n"
     ]
    },
    {
     "name": "stdout",
     "output_type": "stream",
     "text": [
      "782: [D loss: 7.971192, acc: 0.500000]  [A loss: 0.000000, acc: 1.000000]\n"
     ]
    },
    {
     "name": "stdout",
     "output_type": "stream",
     "text": [
      "783: [D loss: 7.971192, acc: 0.500000]  [A loss: 0.000000, acc: 1.000000]\n"
     ]
    },
    {
     "name": "stdout",
     "output_type": "stream",
     "text": [
      "784: [D loss: 7.971192, acc: 0.500000]  [A loss: 0.000000, acc: 1.000000]\n"
     ]
    },
    {
     "name": "stdout",
     "output_type": "stream",
     "text": [
      "785: [D loss: 7.971192, acc: 0.500000]  [A loss: 0.000000, acc: 1.000000]\n"
     ]
    },
    {
     "name": "stdout",
     "output_type": "stream",
     "text": [
      "786: [D loss: 7.971192, acc: 0.500000]  [A loss: 0.000000, acc: 1.000000]\n"
     ]
    },
    {
     "name": "stdout",
     "output_type": "stream",
     "text": [
      "787: [D loss: 7.971192, acc: 0.500000]  [A loss: 0.000000, acc: 1.000000]\n"
     ]
    },
    {
     "name": "stdout",
     "output_type": "stream",
     "text": [
      "788: [D loss: 7.971192, acc: 0.500000]  [A loss: 0.000000, acc: 1.000000]\n"
     ]
    },
    {
     "name": "stdout",
     "output_type": "stream",
     "text": [
      "789: [D loss: 7.971192, acc: 0.500000]  [A loss: 0.000000, acc: 1.000000]\n"
     ]
    },
    {
     "name": "stdout",
     "output_type": "stream",
     "text": [
      "790: [D loss: 7.971192, acc: 0.500000]  [A loss: 0.000000, acc: 1.000000]\n"
     ]
    },
    {
     "name": "stdout",
     "output_type": "stream",
     "text": [
      "791: [D loss: 7.971192, acc: 0.500000]  [A loss: 0.000000, acc: 1.000000]\n"
     ]
    },
    {
     "name": "stdout",
     "output_type": "stream",
     "text": [
      "792: [D loss: 7.971192, acc: 0.500000]  [A loss: 0.000000, acc: 1.000000]\n"
     ]
    },
    {
     "name": "stdout",
     "output_type": "stream",
     "text": [
      "793: [D loss: 7.971192, acc: 0.500000]  [A loss: 0.000000, acc: 1.000000]\n"
     ]
    },
    {
     "name": "stdout",
     "output_type": "stream",
     "text": [
      "794: [D loss: 7.971192, acc: 0.500000]  [A loss: 0.000000, acc: 1.000000]\n"
     ]
    },
    {
     "name": "stdout",
     "output_type": "stream",
     "text": [
      "795: [D loss: 7.971192, acc: 0.500000]  [A loss: 0.000000, acc: 1.000000]\n"
     ]
    },
    {
     "name": "stdout",
     "output_type": "stream",
     "text": [
      "796: [D loss: 7.971192, acc: 0.500000]  [A loss: 0.000000, acc: 1.000000]\n"
     ]
    },
    {
     "name": "stdout",
     "output_type": "stream",
     "text": [
      "797: [D loss: 7.971192, acc: 0.500000]  [A loss: 0.000000, acc: 1.000000]\n"
     ]
    },
    {
     "name": "stdout",
     "output_type": "stream",
     "text": [
      "798: [D loss: 7.971192, acc: 0.500000]  [A loss: 0.000000, acc: 1.000000]\n"
     ]
    },
    {
     "name": "stdout",
     "output_type": "stream",
     "text": [
      "799: [D loss: 7.971192, acc: 0.500000]  [A loss: 0.000000, acc: 1.000000]\n"
     ]
    },
    {
     "name": "stdout",
     "output_type": "stream",
     "text": [
      "800: [D loss: 7.971192, acc: 0.500000]  [A loss: 0.000000, acc: 1.000000]\n"
     ]
    },
    {
     "name": "stdout",
     "output_type": "stream",
     "text": [
      "801: [D loss: 7.971192, acc: 0.500000]  [A loss: 0.000000, acc: 1.000000]\n"
     ]
    },
    {
     "name": "stdout",
     "output_type": "stream",
     "text": [
      "802: [D loss: 7.971192, acc: 0.500000]  [A loss: 0.000000, acc: 1.000000]\n"
     ]
    },
    {
     "name": "stdout",
     "output_type": "stream",
     "text": [
      "803: [D loss: 7.971192, acc: 0.500000]  [A loss: 0.000000, acc: 1.000000]\n"
     ]
    },
    {
     "name": "stdout",
     "output_type": "stream",
     "text": [
      "804: [D loss: 7.971192, acc: 0.500000]  [A loss: 0.000000, acc: 1.000000]\n"
     ]
    },
    {
     "name": "stdout",
     "output_type": "stream",
     "text": [
      "805: [D loss: 7.971192, acc: 0.500000]  [A loss: 0.000000, acc: 1.000000]\n"
     ]
    },
    {
     "name": "stdout",
     "output_type": "stream",
     "text": [
      "806: [D loss: 7.971192, acc: 0.500000]  [A loss: 0.000000, acc: 1.000000]\n"
     ]
    },
    {
     "name": "stdout",
     "output_type": "stream",
     "text": [
      "807: [D loss: 7.971192, acc: 0.500000]  [A loss: 0.000000, acc: 1.000000]\n"
     ]
    },
    {
     "name": "stdout",
     "output_type": "stream",
     "text": [
      "808: [D loss: 7.971192, acc: 0.500000]  [A loss: 0.000000, acc: 1.000000]\n"
     ]
    },
    {
     "name": "stdout",
     "output_type": "stream",
     "text": [
      "809: [D loss: 7.971192, acc: 0.500000]  [A loss: 0.000000, acc: 1.000000]\n"
     ]
    },
    {
     "name": "stdout",
     "output_type": "stream",
     "text": [
      "810: [D loss: 7.971192, acc: 0.500000]  [A loss: 0.000000, acc: 1.000000]\n"
     ]
    },
    {
     "name": "stdout",
     "output_type": "stream",
     "text": [
      "811: [D loss: 7.971192, acc: 0.500000]  [A loss: 0.000000, acc: 1.000000]\n"
     ]
    },
    {
     "name": "stdout",
     "output_type": "stream",
     "text": [
      "812: [D loss: 7.971192, acc: 0.500000]  [A loss: 0.000000, acc: 1.000000]\n"
     ]
    },
    {
     "name": "stdout",
     "output_type": "stream",
     "text": [
      "813: [D loss: 7.971192, acc: 0.500000]  [A loss: 0.000000, acc: 1.000000]\n"
     ]
    },
    {
     "name": "stdout",
     "output_type": "stream",
     "text": [
      "814: [D loss: 7.971192, acc: 0.500000]  [A loss: 0.000000, acc: 1.000000]\n"
     ]
    },
    {
     "name": "stdout",
     "output_type": "stream",
     "text": [
      "815: [D loss: 7.971192, acc: 0.500000]  [A loss: 0.000000, acc: 1.000000]\n"
     ]
    },
    {
     "name": "stdout",
     "output_type": "stream",
     "text": [
      "816: [D loss: 7.971192, acc: 0.500000]  [A loss: 0.000000, acc: 1.000000]\n"
     ]
    },
    {
     "name": "stdout",
     "output_type": "stream",
     "text": [
      "817: [D loss: 7.971192, acc: 0.500000]  [A loss: 0.000000, acc: 1.000000]\n"
     ]
    },
    {
     "name": "stdout",
     "output_type": "stream",
     "text": [
      "818: [D loss: 7.971192, acc: 0.500000]  [A loss: 0.000000, acc: 1.000000]\n"
     ]
    },
    {
     "name": "stdout",
     "output_type": "stream",
     "text": [
      "819: [D loss: 7.971192, acc: 0.500000]  [A loss: 0.000000, acc: 1.000000]\n"
     ]
    },
    {
     "name": "stdout",
     "output_type": "stream",
     "text": [
      "820: [D loss: 7.971192, acc: 0.500000]  [A loss: 0.000000, acc: 1.000000]\n"
     ]
    },
    {
     "name": "stdout",
     "output_type": "stream",
     "text": [
      "821: [D loss: 7.971192, acc: 0.500000]  [A loss: 0.000000, acc: 1.000000]\n"
     ]
    },
    {
     "name": "stdout",
     "output_type": "stream",
     "text": [
      "822: [D loss: 7.971192, acc: 0.500000]  [A loss: 0.000000, acc: 1.000000]\n"
     ]
    },
    {
     "name": "stdout",
     "output_type": "stream",
     "text": [
      "823: [D loss: 7.971192, acc: 0.500000]  [A loss: 0.000000, acc: 1.000000]\n"
     ]
    },
    {
     "name": "stdout",
     "output_type": "stream",
     "text": [
      "824: [D loss: 7.971192, acc: 0.500000]  [A loss: 0.000000, acc: 1.000000]\n"
     ]
    },
    {
     "name": "stdout",
     "output_type": "stream",
     "text": [
      "825: [D loss: 7.971192, acc: 0.500000]  [A loss: 0.000000, acc: 1.000000]\n"
     ]
    },
    {
     "name": "stdout",
     "output_type": "stream",
     "text": [
      "826: [D loss: 7.971192, acc: 0.500000]  [A loss: 0.000000, acc: 1.000000]\n"
     ]
    },
    {
     "name": "stdout",
     "output_type": "stream",
     "text": [
      "827: [D loss: 7.971192, acc: 0.500000]  [A loss: 0.000000, acc: 1.000000]\n"
     ]
    },
    {
     "name": "stdout",
     "output_type": "stream",
     "text": [
      "828: [D loss: 7.971192, acc: 0.500000]  [A loss: 0.000000, acc: 1.000000]\n"
     ]
    },
    {
     "name": "stdout",
     "output_type": "stream",
     "text": [
      "829: [D loss: 7.971192, acc: 0.500000]  [A loss: 0.000000, acc: 1.000000]\n"
     ]
    },
    {
     "name": "stdout",
     "output_type": "stream",
     "text": [
      "830: [D loss: 7.971192, acc: 0.500000]  [A loss: 0.000000, acc: 1.000000]\n"
     ]
    },
    {
     "name": "stdout",
     "output_type": "stream",
     "text": [
      "831: [D loss: 7.971192, acc: 0.500000]  [A loss: 0.000000, acc: 1.000000]\n"
     ]
    },
    {
     "name": "stdout",
     "output_type": "stream",
     "text": [
      "832: [D loss: 7.971192, acc: 0.500000]  [A loss: 0.000000, acc: 1.000000]\n"
     ]
    },
    {
     "name": "stdout",
     "output_type": "stream",
     "text": [
      "833: [D loss: 7.971192, acc: 0.500000]  [A loss: 0.000000, acc: 1.000000]\n"
     ]
    },
    {
     "name": "stdout",
     "output_type": "stream",
     "text": [
      "834: [D loss: 7.971192, acc: 0.500000]  [A loss: 0.000000, acc: 1.000000]\n"
     ]
    },
    {
     "name": "stdout",
     "output_type": "stream",
     "text": [
      "835: [D loss: 7.971192, acc: 0.500000]  [A loss: 0.000000, acc: 1.000000]\n"
     ]
    },
    {
     "name": "stdout",
     "output_type": "stream",
     "text": [
      "836: [D loss: 7.971192, acc: 0.500000]  [A loss: 0.000000, acc: 1.000000]\n"
     ]
    },
    {
     "name": "stdout",
     "output_type": "stream",
     "text": [
      "837: [D loss: 7.971192, acc: 0.500000]  [A loss: 0.000000, acc: 1.000000]\n"
     ]
    },
    {
     "name": "stdout",
     "output_type": "stream",
     "text": [
      "838: [D loss: 7.971192, acc: 0.500000]  [A loss: 0.000000, acc: 1.000000]\n"
     ]
    },
    {
     "name": "stdout",
     "output_type": "stream",
     "text": [
      "839: [D loss: 7.971192, acc: 0.500000]  [A loss: 0.000000, acc: 1.000000]\n"
     ]
    },
    {
     "name": "stdout",
     "output_type": "stream",
     "text": [
      "840: [D loss: 7.971192, acc: 0.500000]  [A loss: 0.000000, acc: 1.000000]\n"
     ]
    },
    {
     "name": "stdout",
     "output_type": "stream",
     "text": [
      "841: [D loss: 7.971192, acc: 0.500000]  [A loss: 0.000000, acc: 1.000000]\n"
     ]
    },
    {
     "name": "stdout",
     "output_type": "stream",
     "text": [
      "842: [D loss: 7.971192, acc: 0.500000]  [A loss: 0.000000, acc: 1.000000]\n"
     ]
    },
    {
     "name": "stdout",
     "output_type": "stream",
     "text": [
      "843: [D loss: 7.971192, acc: 0.500000]  [A loss: 0.000000, acc: 1.000000]\n"
     ]
    },
    {
     "name": "stdout",
     "output_type": "stream",
     "text": [
      "844: [D loss: 7.971192, acc: 0.500000]  [A loss: 0.000000, acc: 1.000000]\n"
     ]
    },
    {
     "name": "stdout",
     "output_type": "stream",
     "text": [
      "845: [D loss: 7.971192, acc: 0.500000]  [A loss: 0.000000, acc: 1.000000]\n"
     ]
    },
    {
     "name": "stdout",
     "output_type": "stream",
     "text": [
      "846: [D loss: 7.971192, acc: 0.500000]  [A loss: 0.000000, acc: 1.000000]\n"
     ]
    },
    {
     "name": "stdout",
     "output_type": "stream",
     "text": [
      "847: [D loss: 7.971192, acc: 0.500000]  [A loss: 0.000000, acc: 1.000000]\n"
     ]
    },
    {
     "name": "stdout",
     "output_type": "stream",
     "text": [
      "848: [D loss: 7.971192, acc: 0.500000]  [A loss: 0.000000, acc: 1.000000]\n"
     ]
    },
    {
     "name": "stdout",
     "output_type": "stream",
     "text": [
      "849: [D loss: 7.971192, acc: 0.500000]  [A loss: 0.000000, acc: 1.000000]\n"
     ]
    },
    {
     "name": "stdout",
     "output_type": "stream",
     "text": [
      "850: [D loss: 7.971192, acc: 0.500000]  [A loss: 0.000000, acc: 1.000000]\n"
     ]
    },
    {
     "name": "stdout",
     "output_type": "stream",
     "text": [
      "851: [D loss: 7.971192, acc: 0.500000]  [A loss: 0.000000, acc: 1.000000]\n"
     ]
    },
    {
     "name": "stdout",
     "output_type": "stream",
     "text": [
      "852: [D loss: 7.971192, acc: 0.500000]  [A loss: 0.000000, acc: 1.000000]\n"
     ]
    },
    {
     "name": "stdout",
     "output_type": "stream",
     "text": [
      "853: [D loss: 7.971192, acc: 0.500000]  [A loss: 0.000000, acc: 1.000000]\n"
     ]
    },
    {
     "name": "stdout",
     "output_type": "stream",
     "text": [
      "854: [D loss: 7.971192, acc: 0.500000]  [A loss: 0.000000, acc: 1.000000]\n"
     ]
    },
    {
     "name": "stdout",
     "output_type": "stream",
     "text": [
      "855: [D loss: 7.971192, acc: 0.500000]  [A loss: 0.000000, acc: 1.000000]\n"
     ]
    },
    {
     "name": "stdout",
     "output_type": "stream",
     "text": [
      "856: [D loss: 7.971192, acc: 0.500000]  [A loss: 0.000000, acc: 1.000000]\n"
     ]
    },
    {
     "name": "stdout",
     "output_type": "stream",
     "text": [
      "857: [D loss: 7.971192, acc: 0.500000]  [A loss: 0.000000, acc: 1.000000]\n"
     ]
    },
    {
     "name": "stdout",
     "output_type": "stream",
     "text": [
      "858: [D loss: 7.971192, acc: 0.500000]  [A loss: 0.000000, acc: 1.000000]\n"
     ]
    },
    {
     "name": "stdout",
     "output_type": "stream",
     "text": [
      "859: [D loss: 7.971192, acc: 0.500000]  [A loss: 0.000000, acc: 1.000000]\n"
     ]
    },
    {
     "name": "stdout",
     "output_type": "stream",
     "text": [
      "860: [D loss: 7.971192, acc: 0.500000]  [A loss: 0.000000, acc: 1.000000]\n"
     ]
    },
    {
     "name": "stdout",
     "output_type": "stream",
     "text": [
      "861: [D loss: 7.971192, acc: 0.500000]  [A loss: 0.000000, acc: 1.000000]\n"
     ]
    },
    {
     "name": "stdout",
     "output_type": "stream",
     "text": [
      "862: [D loss: 7.971192, acc: 0.500000]  [A loss: 0.000000, acc: 1.000000]\n"
     ]
    },
    {
     "name": "stdout",
     "output_type": "stream",
     "text": [
      "863: [D loss: 7.971192, acc: 0.500000]  [A loss: 0.000000, acc: 1.000000]\n"
     ]
    },
    {
     "name": "stdout",
     "output_type": "stream",
     "text": [
      "864: [D loss: 7.971192, acc: 0.500000]  [A loss: 0.000000, acc: 1.000000]\n"
     ]
    },
    {
     "name": "stdout",
     "output_type": "stream",
     "text": [
      "865: [D loss: 7.971192, acc: 0.500000]  [A loss: 0.000000, acc: 1.000000]\n"
     ]
    },
    {
     "name": "stdout",
     "output_type": "stream",
     "text": [
      "866: [D loss: 7.971192, acc: 0.500000]  [A loss: 0.000000, acc: 1.000000]\n"
     ]
    },
    {
     "name": "stdout",
     "output_type": "stream",
     "text": [
      "867: [D loss: 7.971192, acc: 0.500000]  [A loss: 0.000000, acc: 1.000000]\n"
     ]
    },
    {
     "name": "stdout",
     "output_type": "stream",
     "text": [
      "868: [D loss: 7.971192, acc: 0.500000]  [A loss: 0.000000, acc: 1.000000]\n"
     ]
    },
    {
     "name": "stdout",
     "output_type": "stream",
     "text": [
      "869: [D loss: 7.971192, acc: 0.500000]  [A loss: 0.000000, acc: 1.000000]\n"
     ]
    },
    {
     "name": "stdout",
     "output_type": "stream",
     "text": [
      "870: [D loss: 7.971192, acc: 0.500000]  [A loss: 0.000000, acc: 1.000000]\n"
     ]
    },
    {
     "name": "stdout",
     "output_type": "stream",
     "text": [
      "871: [D loss: 7.971192, acc: 0.500000]  [A loss: 0.000000, acc: 1.000000]\n"
     ]
    },
    {
     "name": "stdout",
     "output_type": "stream",
     "text": [
      "872: [D loss: 7.971192, acc: 0.500000]  [A loss: 0.000000, acc: 1.000000]\n"
     ]
    },
    {
     "name": "stdout",
     "output_type": "stream",
     "text": [
      "873: [D loss: 7.971192, acc: 0.500000]  [A loss: 0.000000, acc: 1.000000]\n"
     ]
    },
    {
     "name": "stdout",
     "output_type": "stream",
     "text": [
      "874: [D loss: 7.971192, acc: 0.500000]  [A loss: 0.000000, acc: 1.000000]\n"
     ]
    },
    {
     "name": "stdout",
     "output_type": "stream",
     "text": [
      "875: [D loss: 7.971192, acc: 0.500000]  [A loss: 0.000000, acc: 1.000000]\n"
     ]
    },
    {
     "name": "stdout",
     "output_type": "stream",
     "text": [
      "876: [D loss: 7.971192, acc: 0.500000]  [A loss: 0.000000, acc: 1.000000]\n"
     ]
    },
    {
     "name": "stdout",
     "output_type": "stream",
     "text": [
      "877: [D loss: 7.971192, acc: 0.500000]  [A loss: 0.000000, acc: 1.000000]\n"
     ]
    },
    {
     "name": "stdout",
     "output_type": "stream",
     "text": [
      "878: [D loss: 7.971192, acc: 0.500000]  [A loss: 0.000000, acc: 1.000000]\n"
     ]
    },
    {
     "name": "stdout",
     "output_type": "stream",
     "text": [
      "879: [D loss: 7.971192, acc: 0.500000]  [A loss: 0.000000, acc: 1.000000]\n"
     ]
    },
    {
     "name": "stdout",
     "output_type": "stream",
     "text": [
      "880: [D loss: 7.971192, acc: 0.500000]  [A loss: 0.000000, acc: 1.000000]\n"
     ]
    },
    {
     "name": "stdout",
     "output_type": "stream",
     "text": [
      "881: [D loss: 7.971192, acc: 0.500000]  [A loss: 0.000000, acc: 1.000000]\n"
     ]
    },
    {
     "name": "stdout",
     "output_type": "stream",
     "text": [
      "882: [D loss: 7.971192, acc: 0.500000]  [A loss: 0.000000, acc: 1.000000]\n"
     ]
    },
    {
     "name": "stdout",
     "output_type": "stream",
     "text": [
      "883: [D loss: 7.971192, acc: 0.500000]  [A loss: 0.000000, acc: 1.000000]\n"
     ]
    },
    {
     "name": "stdout",
     "output_type": "stream",
     "text": [
      "884: [D loss: 7.971192, acc: 0.500000]  [A loss: 0.000000, acc: 1.000000]\n"
     ]
    },
    {
     "name": "stdout",
     "output_type": "stream",
     "text": [
      "885: [D loss: 7.971192, acc: 0.500000]  [A loss: 0.000000, acc: 1.000000]\n"
     ]
    },
    {
     "name": "stdout",
     "output_type": "stream",
     "text": [
      "886: [D loss: 7.971192, acc: 0.500000]  [A loss: 0.000000, acc: 1.000000]\n"
     ]
    },
    {
     "name": "stdout",
     "output_type": "stream",
     "text": [
      "887: [D loss: 7.971192, acc: 0.500000]  [A loss: 0.000000, acc: 1.000000]\n"
     ]
    },
    {
     "name": "stdout",
     "output_type": "stream",
     "text": [
      "888: [D loss: 7.971192, acc: 0.500000]  [A loss: 0.000000, acc: 1.000000]\n"
     ]
    },
    {
     "name": "stdout",
     "output_type": "stream",
     "text": [
      "889: [D loss: 7.971192, acc: 0.500000]  [A loss: 0.000000, acc: 1.000000]\n"
     ]
    },
    {
     "name": "stdout",
     "output_type": "stream",
     "text": [
      "890: [D loss: 7.971192, acc: 0.500000]  [A loss: 0.000000, acc: 1.000000]\n"
     ]
    },
    {
     "name": "stdout",
     "output_type": "stream",
     "text": [
      "891: [D loss: 7.971192, acc: 0.500000]  [A loss: 0.000000, acc: 1.000000]\n"
     ]
    },
    {
     "name": "stdout",
     "output_type": "stream",
     "text": [
      "892: [D loss: 7.971192, acc: 0.500000]  [A loss: 0.000000, acc: 1.000000]\n"
     ]
    },
    {
     "name": "stdout",
     "output_type": "stream",
     "text": [
      "893: [D loss: 7.971192, acc: 0.500000]  [A loss: 0.000000, acc: 1.000000]\n"
     ]
    },
    {
     "name": "stdout",
     "output_type": "stream",
     "text": [
      "894: [D loss: 7.971192, acc: 0.500000]  [A loss: 0.000000, acc: 1.000000]\n"
     ]
    },
    {
     "name": "stdout",
     "output_type": "stream",
     "text": [
      "895: [D loss: 7.971192, acc: 0.500000]  [A loss: 0.000000, acc: 1.000000]\n"
     ]
    },
    {
     "name": "stdout",
     "output_type": "stream",
     "text": [
      "896: [D loss: 7.971192, acc: 0.500000]  [A loss: 0.000000, acc: 1.000000]\n"
     ]
    },
    {
     "name": "stdout",
     "output_type": "stream",
     "text": [
      "897: [D loss: 7.971192, acc: 0.500000]  [A loss: 0.000000, acc: 1.000000]\n"
     ]
    },
    {
     "name": "stdout",
     "output_type": "stream",
     "text": [
      "898: [D loss: 7.971192, acc: 0.500000]  [A loss: 0.000000, acc: 1.000000]\n"
     ]
    },
    {
     "name": "stdout",
     "output_type": "stream",
     "text": [
      "899: [D loss: 7.971192, acc: 0.500000]  [A loss: 0.000000, acc: 1.000000]\n"
     ]
    },
    {
     "name": "stdout",
     "output_type": "stream",
     "text": [
      "900: [D loss: 7.971192, acc: 0.500000]  [A loss: 0.000000, acc: 1.000000]\n"
     ]
    },
    {
     "name": "stdout",
     "output_type": "stream",
     "text": [
      "901: [D loss: 7.971192, acc: 0.500000]  [A loss: 0.000000, acc: 1.000000]\n"
     ]
    },
    {
     "name": "stdout",
     "output_type": "stream",
     "text": [
      "902: [D loss: 7.971192, acc: 0.500000]  [A loss: 0.000000, acc: 1.000000]\n"
     ]
    },
    {
     "name": "stdout",
     "output_type": "stream",
     "text": [
      "903: [D loss: 7.971192, acc: 0.500000]  [A loss: 0.000000, acc: 1.000000]\n"
     ]
    },
    {
     "name": "stdout",
     "output_type": "stream",
     "text": [
      "904: [D loss: 7.971192, acc: 0.500000]  [A loss: 0.000000, acc: 1.000000]\n"
     ]
    },
    {
     "name": "stdout",
     "output_type": "stream",
     "text": [
      "905: [D loss: 7.971192, acc: 0.500000]  [A loss: 0.000000, acc: 1.000000]\n"
     ]
    },
    {
     "name": "stdout",
     "output_type": "stream",
     "text": [
      "906: [D loss: 7.971192, acc: 0.500000]  [A loss: 0.000000, acc: 1.000000]\n"
     ]
    },
    {
     "name": "stdout",
     "output_type": "stream",
     "text": [
      "907: [D loss: 7.971192, acc: 0.500000]  [A loss: 0.000000, acc: 1.000000]\n"
     ]
    },
    {
     "name": "stdout",
     "output_type": "stream",
     "text": [
      "908: [D loss: 7.971192, acc: 0.500000]  [A loss: 0.000000, acc: 1.000000]\n"
     ]
    },
    {
     "name": "stdout",
     "output_type": "stream",
     "text": [
      "909: [D loss: 7.971192, acc: 0.500000]  [A loss: 0.000000, acc: 1.000000]\n"
     ]
    },
    {
     "name": "stdout",
     "output_type": "stream",
     "text": [
      "910: [D loss: 7.971192, acc: 0.500000]  [A loss: 0.000000, acc: 1.000000]\n"
     ]
    },
    {
     "name": "stdout",
     "output_type": "stream",
     "text": [
      "911: [D loss: 7.971192, acc: 0.500000]  [A loss: 0.000000, acc: 1.000000]\n"
     ]
    },
    {
     "name": "stdout",
     "output_type": "stream",
     "text": [
      "912: [D loss: 7.971192, acc: 0.500000]  [A loss: 0.000000, acc: 1.000000]\n"
     ]
    },
    {
     "name": "stdout",
     "output_type": "stream",
     "text": [
      "913: [D loss: 7.971192, acc: 0.500000]  [A loss: 0.000000, acc: 1.000000]\n"
     ]
    },
    {
     "name": "stdout",
     "output_type": "stream",
     "text": [
      "914: [D loss: 7.971192, acc: 0.500000]  [A loss: 0.000000, acc: 1.000000]\n"
     ]
    },
    {
     "name": "stdout",
     "output_type": "stream",
     "text": [
      "915: [D loss: 7.971192, acc: 0.500000]  [A loss: 0.000000, acc: 1.000000]\n"
     ]
    },
    {
     "name": "stdout",
     "output_type": "stream",
     "text": [
      "916: [D loss: 7.971192, acc: 0.500000]  [A loss: 0.000000, acc: 1.000000]\n"
     ]
    },
    {
     "name": "stdout",
     "output_type": "stream",
     "text": [
      "917: [D loss: 7.971192, acc: 0.500000]  [A loss: 0.000000, acc: 1.000000]\n"
     ]
    },
    {
     "name": "stdout",
     "output_type": "stream",
     "text": [
      "918: [D loss: 7.971192, acc: 0.500000]  [A loss: 0.000000, acc: 1.000000]\n"
     ]
    },
    {
     "name": "stdout",
     "output_type": "stream",
     "text": [
      "919: [D loss: 7.971192, acc: 0.500000]  [A loss: 0.000000, acc: 1.000000]\n"
     ]
    },
    {
     "name": "stdout",
     "output_type": "stream",
     "text": [
      "920: [D loss: 7.971192, acc: 0.500000]  [A loss: 0.000000, acc: 1.000000]\n"
     ]
    },
    {
     "name": "stdout",
     "output_type": "stream",
     "text": [
      "921: [D loss: 7.971192, acc: 0.500000]  [A loss: 0.000000, acc: 1.000000]\n"
     ]
    },
    {
     "name": "stdout",
     "output_type": "stream",
     "text": [
      "922: [D loss: 7.971192, acc: 0.500000]  [A loss: 0.000000, acc: 1.000000]\n"
     ]
    },
    {
     "name": "stdout",
     "output_type": "stream",
     "text": [
      "923: [D loss: 7.971192, acc: 0.500000]  [A loss: 0.000000, acc: 1.000000]\n"
     ]
    },
    {
     "name": "stdout",
     "output_type": "stream",
     "text": [
      "924: [D loss: 7.971192, acc: 0.500000]  [A loss: 0.000000, acc: 1.000000]\n"
     ]
    },
    {
     "name": "stdout",
     "output_type": "stream",
     "text": [
      "925: [D loss: 7.971192, acc: 0.500000]  [A loss: 0.000000, acc: 1.000000]\n"
     ]
    },
    {
     "name": "stdout",
     "output_type": "stream",
     "text": [
      "926: [D loss: 7.971192, acc: 0.500000]  [A loss: 0.000000, acc: 1.000000]\n"
     ]
    },
    {
     "name": "stdout",
     "output_type": "stream",
     "text": [
      "927: [D loss: 7.971192, acc: 0.500000]  [A loss: 0.000000, acc: 1.000000]\n"
     ]
    },
    {
     "name": "stdout",
     "output_type": "stream",
     "text": [
      "928: [D loss: 7.971192, acc: 0.500000]  [A loss: 0.000000, acc: 1.000000]\n"
     ]
    },
    {
     "name": "stdout",
     "output_type": "stream",
     "text": [
      "929: [D loss: 7.971192, acc: 0.500000]  [A loss: 0.000000, acc: 1.000000]\n"
     ]
    },
    {
     "name": "stdout",
     "output_type": "stream",
     "text": [
      "930: [D loss: 7.971192, acc: 0.500000]  [A loss: 0.000000, acc: 1.000000]\n"
     ]
    },
    {
     "name": "stdout",
     "output_type": "stream",
     "text": [
      "931: [D loss: 7.971192, acc: 0.500000]  [A loss: 0.000000, acc: 1.000000]\n"
     ]
    },
    {
     "name": "stdout",
     "output_type": "stream",
     "text": [
      "932: [D loss: 7.971192, acc: 0.500000]  [A loss: 0.000000, acc: 1.000000]\n"
     ]
    },
    {
     "name": "stdout",
     "output_type": "stream",
     "text": [
      "933: [D loss: 7.971192, acc: 0.500000]  [A loss: 0.000000, acc: 1.000000]\n"
     ]
    },
    {
     "name": "stdout",
     "output_type": "stream",
     "text": [
      "934: [D loss: 7.971192, acc: 0.500000]  [A loss: 0.000000, acc: 1.000000]\n"
     ]
    },
    {
     "name": "stdout",
     "output_type": "stream",
     "text": [
      "935: [D loss: 7.971192, acc: 0.500000]  [A loss: 0.000000, acc: 1.000000]\n"
     ]
    },
    {
     "name": "stdout",
     "output_type": "stream",
     "text": [
      "936: [D loss: 7.971192, acc: 0.500000]  [A loss: 0.000000, acc: 1.000000]\n"
     ]
    },
    {
     "name": "stdout",
     "output_type": "stream",
     "text": [
      "937: [D loss: 7.971192, acc: 0.500000]  [A loss: 0.000000, acc: 1.000000]\n"
     ]
    },
    {
     "name": "stdout",
     "output_type": "stream",
     "text": [
      "938: [D loss: 7.971192, acc: 0.500000]  [A loss: 0.000000, acc: 1.000000]\n"
     ]
    },
    {
     "name": "stdout",
     "output_type": "stream",
     "text": [
      "939: [D loss: 7.971192, acc: 0.500000]  [A loss: 0.000000, acc: 1.000000]\n"
     ]
    },
    {
     "name": "stdout",
     "output_type": "stream",
     "text": [
      "940: [D loss: 7.971192, acc: 0.500000]  [A loss: 0.000000, acc: 1.000000]\n"
     ]
    },
    {
     "name": "stdout",
     "output_type": "stream",
     "text": [
      "941: [D loss: 7.971192, acc: 0.500000]  [A loss: 0.000000, acc: 1.000000]\n"
     ]
    },
    {
     "name": "stdout",
     "output_type": "stream",
     "text": [
      "942: [D loss: 7.971192, acc: 0.500000]  [A loss: 0.000000, acc: 1.000000]\n"
     ]
    },
    {
     "name": "stdout",
     "output_type": "stream",
     "text": [
      "943: [D loss: 7.971192, acc: 0.500000]  [A loss: 0.000000, acc: 1.000000]\n"
     ]
    },
    {
     "name": "stdout",
     "output_type": "stream",
     "text": [
      "944: [D loss: 7.971192, acc: 0.500000]  [A loss: 0.000000, acc: 1.000000]\n"
     ]
    },
    {
     "name": "stdout",
     "output_type": "stream",
     "text": [
      "945: [D loss: 7.971192, acc: 0.500000]  [A loss: 0.000000, acc: 1.000000]\n"
     ]
    },
    {
     "name": "stdout",
     "output_type": "stream",
     "text": [
      "946: [D loss: 7.971192, acc: 0.500000]  [A loss: 0.000000, acc: 1.000000]\n"
     ]
    },
    {
     "name": "stdout",
     "output_type": "stream",
     "text": [
      "947: [D loss: 7.971192, acc: 0.500000]  [A loss: 0.000000, acc: 1.000000]\n"
     ]
    },
    {
     "name": "stdout",
     "output_type": "stream",
     "text": [
      "948: [D loss: 7.971192, acc: 0.500000]  [A loss: 0.000000, acc: 1.000000]\n"
     ]
    },
    {
     "name": "stdout",
     "output_type": "stream",
     "text": [
      "949: [D loss: 7.971192, acc: 0.500000]  [A loss: 0.000000, acc: 1.000000]\n"
     ]
    },
    {
     "name": "stdout",
     "output_type": "stream",
     "text": [
      "950: [D loss: 7.971192, acc: 0.500000]  [A loss: 0.000000, acc: 1.000000]\n"
     ]
    },
    {
     "name": "stdout",
     "output_type": "stream",
     "text": [
      "951: [D loss: 7.971192, acc: 0.500000]  [A loss: 0.000000, acc: 1.000000]\n"
     ]
    },
    {
     "name": "stdout",
     "output_type": "stream",
     "text": [
      "952: [D loss: 7.971192, acc: 0.500000]  [A loss: 0.000000, acc: 1.000000]\n"
     ]
    },
    {
     "name": "stdout",
     "output_type": "stream",
     "text": [
      "953: [D loss: 7.971192, acc: 0.500000]  [A loss: 0.000000, acc: 1.000000]\n"
     ]
    },
    {
     "name": "stdout",
     "output_type": "stream",
     "text": [
      "954: [D loss: 7.971192, acc: 0.500000]  [A loss: 0.000000, acc: 1.000000]\n"
     ]
    },
    {
     "name": "stdout",
     "output_type": "stream",
     "text": [
      "955: [D loss: 7.971192, acc: 0.500000]  [A loss: 0.000000, acc: 1.000000]\n"
     ]
    },
    {
     "name": "stdout",
     "output_type": "stream",
     "text": [
      "956: [D loss: 7.971192, acc: 0.500000]  [A loss: 0.000000, acc: 1.000000]\n"
     ]
    },
    {
     "name": "stdout",
     "output_type": "stream",
     "text": [
      "957: [D loss: 7.971192, acc: 0.500000]  [A loss: 0.000000, acc: 1.000000]\n"
     ]
    },
    {
     "name": "stdout",
     "output_type": "stream",
     "text": [
      "958: [D loss: 7.971192, acc: 0.500000]  [A loss: 0.000000, acc: 1.000000]\n"
     ]
    },
    {
     "name": "stdout",
     "output_type": "stream",
     "text": [
      "959: [D loss: 7.971192, acc: 0.500000]  [A loss: 0.000000, acc: 1.000000]\n"
     ]
    },
    {
     "name": "stdout",
     "output_type": "stream",
     "text": [
      "960: [D loss: 7.971192, acc: 0.500000]  [A loss: 0.000000, acc: 1.000000]\n"
     ]
    },
    {
     "name": "stdout",
     "output_type": "stream",
     "text": [
      "961: [D loss: 7.971192, acc: 0.500000]  [A loss: 0.000000, acc: 1.000000]\n"
     ]
    },
    {
     "name": "stdout",
     "output_type": "stream",
     "text": [
      "962: [D loss: 7.971192, acc: 0.500000]  [A loss: 0.000000, acc: 1.000000]\n"
     ]
    },
    {
     "name": "stdout",
     "output_type": "stream",
     "text": [
      "963: [D loss: 7.971192, acc: 0.500000]  [A loss: 0.000000, acc: 1.000000]\n"
     ]
    },
    {
     "name": "stdout",
     "output_type": "stream",
     "text": [
      "964: [D loss: 7.971192, acc: 0.500000]  [A loss: 0.000000, acc: 1.000000]\n"
     ]
    },
    {
     "name": "stdout",
     "output_type": "stream",
     "text": [
      "965: [D loss: 7.971192, acc: 0.500000]  [A loss: 0.000000, acc: 1.000000]\n"
     ]
    },
    {
     "name": "stdout",
     "output_type": "stream",
     "text": [
      "966: [D loss: 7.971192, acc: 0.500000]  [A loss: 0.000000, acc: 1.000000]\n"
     ]
    },
    {
     "name": "stdout",
     "output_type": "stream",
     "text": [
      "967: [D loss: 7.971192, acc: 0.500000]  [A loss: 0.000000, acc: 1.000000]\n"
     ]
    },
    {
     "name": "stdout",
     "output_type": "stream",
     "text": [
      "968: [D loss: 7.971192, acc: 0.500000]  [A loss: 0.000000, acc: 1.000000]\n"
     ]
    },
    {
     "name": "stdout",
     "output_type": "stream",
     "text": [
      "969: [D loss: 7.971192, acc: 0.500000]  [A loss: 0.000000, acc: 1.000000]\n"
     ]
    },
    {
     "name": "stdout",
     "output_type": "stream",
     "text": [
      "970: [D loss: 7.971192, acc: 0.500000]  [A loss: 0.000000, acc: 1.000000]\n"
     ]
    },
    {
     "name": "stdout",
     "output_type": "stream",
     "text": [
      "971: [D loss: 7.971192, acc: 0.500000]  [A loss: 0.000000, acc: 1.000000]\n"
     ]
    },
    {
     "name": "stdout",
     "output_type": "stream",
     "text": [
      "972: [D loss: 7.971192, acc: 0.500000]  [A loss: 0.000000, acc: 1.000000]\n"
     ]
    },
    {
     "name": "stdout",
     "output_type": "stream",
     "text": [
      "973: [D loss: 7.971192, acc: 0.500000]  [A loss: 0.000000, acc: 1.000000]\n"
     ]
    },
    {
     "name": "stdout",
     "output_type": "stream",
     "text": [
      "974: [D loss: 7.971192, acc: 0.500000]  [A loss: 0.000000, acc: 1.000000]\n"
     ]
    },
    {
     "name": "stdout",
     "output_type": "stream",
     "text": [
      "975: [D loss: 7.971192, acc: 0.500000]  [A loss: 0.000000, acc: 1.000000]\n"
     ]
    },
    {
     "name": "stdout",
     "output_type": "stream",
     "text": [
      "976: [D loss: 7.971192, acc: 0.500000]  [A loss: 0.000000, acc: 1.000000]\n"
     ]
    },
    {
     "name": "stdout",
     "output_type": "stream",
     "text": [
      "977: [D loss: 7.971192, acc: 0.500000]  [A loss: 0.000000, acc: 1.000000]\n"
     ]
    },
    {
     "name": "stdout",
     "output_type": "stream",
     "text": [
      "978: [D loss: 7.971192, acc: 0.500000]  [A loss: 0.000000, acc: 1.000000]\n"
     ]
    },
    {
     "name": "stdout",
     "output_type": "stream",
     "text": [
      "979: [D loss: 7.971192, acc: 0.500000]  [A loss: 0.000000, acc: 1.000000]\n"
     ]
    },
    {
     "name": "stdout",
     "output_type": "stream",
     "text": [
      "980: [D loss: 7.971192, acc: 0.500000]  [A loss: 0.000000, acc: 1.000000]\n"
     ]
    },
    {
     "name": "stdout",
     "output_type": "stream",
     "text": [
      "981: [D loss: 7.971192, acc: 0.500000]  [A loss: 0.000000, acc: 1.000000]\n"
     ]
    },
    {
     "name": "stdout",
     "output_type": "stream",
     "text": [
      "982: [D loss: 7.971192, acc: 0.500000]  [A loss: 0.000000, acc: 1.000000]\n"
     ]
    },
    {
     "name": "stdout",
     "output_type": "stream",
     "text": [
      "983: [D loss: 7.971192, acc: 0.500000]  [A loss: 0.000000, acc: 1.000000]\n"
     ]
    },
    {
     "name": "stdout",
     "output_type": "stream",
     "text": [
      "984: [D loss: 7.971192, acc: 0.500000]  [A loss: 0.000000, acc: 1.000000]\n"
     ]
    },
    {
     "name": "stdout",
     "output_type": "stream",
     "text": [
      "985: [D loss: 7.971192, acc: 0.500000]  [A loss: 0.000000, acc: 1.000000]\n"
     ]
    },
    {
     "name": "stdout",
     "output_type": "stream",
     "text": [
      "986: [D loss: 7.971192, acc: 0.500000]  [A loss: 0.000000, acc: 1.000000]\n"
     ]
    },
    {
     "name": "stdout",
     "output_type": "stream",
     "text": [
      "987: [D loss: 7.971192, acc: 0.500000]  [A loss: 0.000000, acc: 1.000000]\n"
     ]
    },
    {
     "name": "stdout",
     "output_type": "stream",
     "text": [
      "988: [D loss: 7.971192, acc: 0.500000]  [A loss: 0.000000, acc: 1.000000]\n"
     ]
    },
    {
     "name": "stdout",
     "output_type": "stream",
     "text": [
      "989: [D loss: 7.971192, acc: 0.500000]  [A loss: 0.000000, acc: 1.000000]\n"
     ]
    },
    {
     "name": "stdout",
     "output_type": "stream",
     "text": [
      "990: [D loss: 7.971192, acc: 0.500000]  [A loss: 0.000000, acc: 1.000000]\n"
     ]
    },
    {
     "name": "stdout",
     "output_type": "stream",
     "text": [
      "991: [D loss: 7.971192, acc: 0.500000]  [A loss: 0.000000, acc: 1.000000]\n"
     ]
    },
    {
     "name": "stdout",
     "output_type": "stream",
     "text": [
      "992: [D loss: 7.971192, acc: 0.500000]  [A loss: 0.000000, acc: 1.000000]\n"
     ]
    },
    {
     "name": "stdout",
     "output_type": "stream",
     "text": [
      "993: [D loss: 7.971192, acc: 0.500000]  [A loss: 0.000000, acc: 1.000000]\n"
     ]
    },
    {
     "name": "stdout",
     "output_type": "stream",
     "text": [
      "994: [D loss: 7.971192, acc: 0.500000]  [A loss: 0.000000, acc: 1.000000]\n"
     ]
    },
    {
     "name": "stdout",
     "output_type": "stream",
     "text": [
      "995: [D loss: 7.971192, acc: 0.500000]  [A loss: 0.000000, acc: 1.000000]\n"
     ]
    },
    {
     "name": "stdout",
     "output_type": "stream",
     "text": [
      "996: [D loss: 7.971192, acc: 0.500000]  [A loss: 0.000000, acc: 1.000000]\n"
     ]
    },
    {
     "name": "stdout",
     "output_type": "stream",
     "text": [
      "997: [D loss: 7.971192, acc: 0.500000]  [A loss: 0.000000, acc: 1.000000]\n"
     ]
    },
    {
     "name": "stdout",
     "output_type": "stream",
     "text": [
      "998: [D loss: 7.971192, acc: 0.500000]  [A loss: 0.000000, acc: 1.000000]\n"
     ]
    },
    {
     "name": "stdout",
     "output_type": "stream",
     "text": [
      "999: [D loss: 7.971192, acc: 0.500000]  [A loss: 0.000000, acc: 1.000000]\n"
     ]
    },
    {
     "name": "stdout",
     "output_type": "stream",
     "text": [
      "Elapsed: 8.33118455350399 hr \n"
     ]
    },
    {
     "data": {
      "image/png": "[encoded data removed]",
      "text/plain": [
       "<matplotlib.figure.Figure at 0x1f5468740b8>"
      ]
     },
     "metadata": {},
     "output_type": "display_data"
    }
   ],
   "source": [
    "if __name__ == '__main__':\n",
    "    mnist_dcgan = MNIST_DCGAN()\n",
    "    timer = ElapsedTimer()\n",
    "    mnist_dcgan.train(train_step=1000, batch_size=256, save_interval=1)\n",
    "    timer.elapsed_time()\n",
    "    mnist_dcgan.plot_images(fake=True)\n",
    "    mnist_dcgan.plot_images(fake=False, save2file=True)"
   ]
  },
  {
   "cell_type": "code",
   "execution_count": null,
   "metadata": {},
   "outputs": [],
   "source": [
    ""
   ]
  }
 ],
 "metadata": {
  "kernelspec": {
   "display_name": "Python 2",
   "language": "python",
   "name": "python2"
  },
  "language_info": {
   "codemirror_mode": {
    "name": "ipython",
    "version": 2.0
   },
   "file_extension": ".py",
   "mimetype": "text/x-python",
   "name": "python",
   "nbconvert_exporter": "python",
   "pygments_lexer": "ipython2",
   "version": "2.7.6"
  }
 },
 "nbformat": 4,
 "nbformat_minor": 0
}