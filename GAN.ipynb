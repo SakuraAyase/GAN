{
 "cells": [
  {
   "cell_type": "code",
   "execution_count": 1,
   "metadata": {
    "collapsed": false
   },
   "outputs": [
    {
     "name": "stderr",
     "output_type": "stream",
     "text": [
      "Using TensorFlow backend.\n"
     ]
    }
   ],
   "source": [
    "from keras.layers import *\n",
    "from keras.optimizers import *\n",
    "from keras.datasets import *\n",
    "from keras.utils import *\n",
    "from keras.models import *\n",
    "from numpy import *\n",
    "import PIL.Image as pic\n",
    "from os import *\n",
    "import scipy.misc as sp"
   ]
  },
  {
   "cell_type": "code",
   "execution_count": 3,
   "metadata": {
    "collapsed": false
   },
   "outputs": [
    {
     "name": "stdout",
     "output_type": "stream",
     "text": [
      "d\n"
     ]
    }
   ],
   "source": [
    "(x_train,y_train),(x_test,y_test)=mnist.load_data()\n",
    "x_train=array(x_train).reshape((60000,784))\n",
    "\n",
    "y_train=to_categorical(y_train,10)\n",
    "y_test=to_categorical(y_test,10)\n",
    "print('d')"
   ]
  },
  {
   "cell_type": "code",
   "execution_count": 45,
   "metadata": {},
   "outputs": [],
   "source": [
    "x_train1=x_train[:60000]/255\n",
    "y_train1=y_train[:60000]\n",
    "y_train1=random.randn(60000,10)*0.1"
   ]
  },
  {
   "cell_type": "code",
   "execution_count": 46,
   "metadata": {},
   "outputs": [
    {
     "name": "stdout",
     "output_type": "stream",
     "text": [
      "Epoch 1/10\n"
     ]
    },
    {
     "name": "stdout",
     "output_type": "stream",
     "text": [
      "11s - loss: 594.8605 - acc: 0.0108\nEpoch 2/10\n"
     ]
    },
    {
     "name": "stdout",
     "output_type": "stream",
     "text": [
      "10s - loss: 579.2760 - acc: 0.0121\nEpoch 3/10\n"
     ]
    },
    {
     "name": "stdout",
     "output_type": "stream",
     "text": [
      "10s - loss: 577.0835 - acc: 0.0120\nEpoch 4/10\n"
     ]
    },
    {
     "name": "stdout",
     "output_type": "stream",
     "text": [
      "10s - loss: 576.6499 - acc: 0.0131\nEpoch 5/10\n"
     ]
    },
    {
     "name": "stdout",
     "output_type": "stream",
     "text": [
      "10s - loss: 576.5062 - acc: 0.0135\nEpoch 6/10\n"
     ]
    },
    {
     "name": "stdout",
     "output_type": "stream",
     "text": [
      "9s - loss: 576.4292 - acc: 0.0140\nEpoch 7/10\n"
     ]
    },
    {
     "name": "stdout",
     "output_type": "stream",
     "text": [
      "10s - loss: 576.3717 - acc: 0.0144\nEpoch 8/10\n"
     ]
    },
    {
     "name": "stdout",
     "output_type": "stream",
     "text": [
      "9s - loss: 576.3502 - acc: 0.0151\nEpoch 9/10\n"
     ]
    },
    {
     "name": "stdout",
     "output_type": "stream",
     "text": [
      "9s - loss: 576.3470 - acc: 0.0148\nEpoch 10/10\n"
     ]
    },
    {
     "name": "stdout",
     "output_type": "stream",
     "text": [
      "10s - loss: 576.3300 - acc: 0.0149\n"
     ]
    },
    {
     "data": {
      "text/plain": [
       "<keras.callbacks.History at 0x18d02157da0>"
      ]
     },
     "execution_count": 46,
     "metadata": {},
     "output_type": "execute_result"
    }
   ],
   "source": [
    "gen=Sequential()\n",
    "gen.add(Dense(64,activation='sigmoid',input_shape=(10,)))\n",
    "\n",
    "gen.add(Dense(64,activation='sigmoid'))\n",
    "\n",
    "gen.add(Dense(784,activation='sigmoid'))\n",
    "gen.compile(optimizer='rmsprop',loss='categorical_crossentropy',metrics=['accuracy'])\n",
    "gen.fit(y_train1,x_train1,epochs=10,verbose=2)"
   ]
  },
  {
   "cell_type": "code",
   "execution_count": 50,
   "metadata": {},
   "outputs": [],
   "source": [
    "x=array(zeros((1,10)))\n",
    "x[0][4]=1\n",
    "x=array(random.randn(1,10)*0.1)\n",
    "\n",
    "pri=gen.predict(x)*255\n",
    "for i in range(len(pri)):\n",
    "    for j in range(len(pri[0])):\n",
    "        if(pri[i][j]>0):\n",
    "            pri[i][j]=math.ceil(pri[i][j])\n",
    "        else:\n",
    "            pri[i][j]=0\n",
    "pri=array(pri).reshape((28,28))\n",
    "pic.fromarray(pri).show()"
   ]
  },
  {
   "cell_type": "code",
   "execution_count": null,
   "metadata": {},
   "outputs": [],
   "source": [
    ""
   ]
  }
 ],
 "metadata": {
  "kernelspec": {
   "display_name": "Python 2",
   "language": "python",
   "name": "python2"
  },
  "language_info": {
   "codemirror_mode": {
    "name": "ipython",
    "version": 2.0
   },
   "file_extension": ".py",
   "mimetype": "text/x-python",
   "name": "python",
   "nbconvert_exporter": "python",
   "pygments_lexer": "ipython2",
   "version": "2.7.6"
  }
 },
 "nbformat": 4,
 "nbformat_minor": 0
}